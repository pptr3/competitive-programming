{
 "cells": [
  {
   "cell_type": "markdown",
   "id": "785db43e",
   "metadata": {},
   "source": [
    "### Practice:\n",
    "https://grow.google/certificates/interview-warmup/?utm_source=gDigital&utm_medium=ownedsocial&utm_campaign=certs&utm_content=interviewwarmup"
   ]
  },
  {
   "cell_type": "code",
   "execution_count": null,
   "id": "4f642d72",
   "metadata": {},
   "outputs": [],
   "source": []
  },
  {
   "cell_type": "code",
   "execution_count": null,
   "id": "f44c499c",
   "metadata": {},
   "outputs": [],
   "source": []
  },
  {
   "cell_type": "markdown",
   "id": "eb2bfec9",
   "metadata": {},
   "source": [
    "### Teamwork\n",
    "- Tell me about a time when you had to work closely with someone whose personality was very different from yours.\n",
    "    - `Capo nuovo diario`\n",
    "    - **Example**: cambio registro di comunicazione e mi adatto.\n",
    "- Conflit with colleagues, How did you handle the situation?\n",
    "    - `Imola Informatica pesarese example (find dependency tree)`\n",
    "- Describe a time when you had to step up and demonstrate leadership skills.\n",
    "    - `Andrea GAN project`\n",
    "    - **Example**: GAN project, I took leadership bc otherwise non saremmo andati avanti. A lui andava bene il progetto così, io ho detto di no, facciamo che tu studi i papers e me li invii e io implemento e vediamo di farlo andare.\n",
    "- How handle criticism?\n",
    "    - `Blog criticism`\n",
    "    - **Example**: criticism on my blog. Oppure se vedo che è una critica costruttiva allora cerco di discuterne, mostro il mio punto di vista del perchè ho preso determinate scelte e chiedo sempre il punto di vista dell'altra persona. Il mio obiettivo è sempre cercare di restare sereni e trarre solo il buono dalle critiche quando sono costruttive. Altre critiche come quelle non costruttive dove la gente magari offende e basta le ignoro, sopratutto se non conosco queste persone."
   ]
  },
  {
   "cell_type": "markdown",
   "id": "3d6440e6",
   "metadata": {},
   "source": [
    "### Customer service\n",
    "- Tell me about a time when you failed to meet a deadline. What did you fail to do? What did you learn? Things to consider for your answer:\n",
    "Blog criticism\n",
    "    - `OOP project`\n",
    "    - **Example**: OOP project, one member quitted so we exceeded the deadline. The root cause was that I did not talked so much with this guy and I was pretty sure che lui avrebbe fatto il suo lavoro. Non lo abbiamo sentito per diverse settimane, gli abbiamo scritto un paio di giorni prima della consegna e lui ha quittato. Ho imparato che bisogna comunicare di più per evitare cose del genere. Poi abbiamo raccontato la sitauzione al professore e lui è stato comprensivo (sympathetic).\n",
    "\n",
    "- Describe a time when you had to interact with a difficult client or customer. What was the situation, and how did you handle it? \n",
    "    - `Nuovo diario, inserimento sue immagini, costruito altro sistema distributo per facilitare l'insert`\n",
    "    - **Example**: con il capo del Nuovo Diario. Voleva cose che era quasi impossibile da realizzare ed in pochissimo tempo. Inoltre, proponeva soluzioni lui senza avere una base tecnica. Allora ho cercato di spiegargli cosa era fattibile e cosa no e che saremmo dovuti arrivare ad un compromesso tra quello che realmente avrebbe voluto (cosa voleva? Voleva un software per ricercare tutte le immagini nei loro servers, ma gli ho spiegato che per fare questo, lui doveva darmi le sua foto e io poi le mettevo in altri servers cosicchè poi potevi ricercarle tramite una barra di ricerca. Il problema però era che le sue foto erano milioni e sparse, quindi lui avrebbe dovuto collect all of them a mano e darmele, ma questo sarebbe stato time consuming un botto in quanto voleva il software pronto in una settimana - solo per raccogliere tutte le foto ci avrebbe messo mesi) e quello che si poteva fare. Alla fine la soluzione su cui abbiamo concordato è stato che io gli facevo il software e gli davo anche una interfaccia dove lui poteva caricare giorno per giorno le diverse foto. Non solo una interfaccia singola, ma una app desktop che poteva essere installata sui computere della azienda cosicchè tutti i dipendendi 1h al giorno circa si occupavano di caricare queste foto. Così, poteva usare il software e l'inserimento delle immagini non ci avrebbe messo mesi ma solo qualche settimana."
   ]
  },
  {
   "cell_type": "markdown",
   "id": "b4c9bbb9",
   "metadata": {},
   "source": [
    "### Adaptability\n",
    "- Tell me about a time you were under a lot of pressure at work or at school. What was going on, and how did you get through it?\n",
    "    - `Salti Exam situation`\n",
    "    - **Example**: Salti's exam situation -- pressure of getting the degree within July for bonuses I would have got. Ma il mio cervello era fiori uso, non riuscivo a studiare. Poi ci ho pensato e ho ragionato che potevo aspettare Ottobre. Mi son preso del tempo, studiavo 10 min al giorno, dopo 30 dopo, 1 ora etc.\n",
    "- Tell me about a time you failed. How did you deal with the situation?\n",
    "    - `ETH IELTS`\n",
    "    - **Example**: ETH, preso 1 anno per studiare IELTS e ho fallito. Tentato di nuovo, fallito. Ultima chances, preso ripetizioni, studiavo tutto il giorno, do l'esame e per 0.5 punti (molto pochi) non passo il test. Da quel momento ho capito che non sarei andato all'ETH e i miei piani sono cambiati completamente. I panicked, talked with my friends che cercavano di farmi vedere il lato positivo della cosa, che non era una tragedia e c'erano altri path validi. Era difficile vedere cose positive in quel momento, però nonostante ciò ho deciso di andare avanti ed iscrivermi in una facoltà meno nota e cambiare i miei piani. Alla fine della fiera, sono riuscito ad arrivare e fare più o meno tutto quello che avevo intenzione di fare anche se non sono entrato all'ETH. E' stato sicuramente più difficile e lungo il percorso per riuscirci, ma è stato challenging e divertente. Mi ha insegnato che non esiste un unico path per fare una cosa, e che è importante avere piani B."
   ]
  },
  {
   "cell_type": "markdown",
   "id": "744869fc",
   "metadata": {},
   "source": [
    "### Time management\n",
    "When an interviewer asks about time management, get ready to talk about a specific instance when you had a few things in the air, prioritized, scheduled, organized, and completed everything—preferably before the deadline.\n",
    "\n",
    "- Give me an example of a time you managed numerous responsibilities. How did you handle that?\n",
    "    - `Sister manager + sideprojects`\n",
    "    - **Example**: Sister Manager: I was manger of a project, teaching tech ML stuff to a group of guys who was working on my project I was managing, and at the same time I was working to another project. Queste attività non erano strutturate e mi facevano perdere tempo se non davo priorità. Allora ho parlato con il mio capo dicendo che certe attività erano più importanti di altre, quindi gli ho detto che per fare tutto ciò in modo più efficiente, era meglio schedulare tot ore settiamali per ogni task. All'inizio per i miei colleghi è stata un po' più dura perchè non potevano pingarmi sempre come prima. Però poi si sono adattati anche loro dopo che gli ho detto i miei orari per progetto e alla fine siamo riusciti a gestire meglio l'organizzazione dei diversi progetti.\n",
    "- Tell me about a time you set a goal for yourself. How did you go about ensuring that you would meet your objective?\n",
    "    - `Whiteboard and planning x2.5 at least`\n",
    "    - **Example**: quello che faccio di solito è scrivermi su una white board i diversi task che ho da fare, fare una stima di quanto tempo ci impiega ogni task e conto le ore giornaliere da impiegare per raggiungere i miei objectives. Alla fine del calcolo, moltiplico le ore totali per 2 o 2.5. Ad esempio leetcode, mi ero dato 2 mesi ma alla fine ho fatto quello che avevo preventivato in circa 5 mesi."
   ]
  },
  {
   "cell_type": "markdown",
   "id": "80c402af",
   "metadata": {},
   "source": [
    "### Communication \n",
    "- Unpopular opinion:\n",
    "    - `ETH rejection`"
   ]
  },
  {
   "cell_type": "markdown",
   "id": "0aa4d5e6",
   "metadata": {},
   "source": [
    "### Motivation and values\n",
    "- Tell me about your proudest professional accomplishment.\n",
    "    - `Course of study changing`\n",
    "- My taughest problems. How did you handle it? My weeknesses / smth I am bad at.\n",
    "    - `Shy in asking for aid`\n",
    "    - **Example**: mi impanico quando mi danno un task che non so fare. Nelle aziende in cui ho lavorato non ho mai avuto qualcuno a cui chiedere e dovevo rimboccarmi le maniche. E considerando che spesso c'era una deadline, stavo molto tempo per cercare di fare i task assegnati. Quando se avessi un mentore, probabilmente ci metterei molto meno tempo ed imparerei di più. Therefore I am afraid that the boss will scold me or to miss the deadline. In generale cerco sempre di non deludere nessuno e fare un buon lavoro, quindi quando non so fare qualcosa, mi viene ansia. Quando ero un po' più piccolo ero timido e non chiedevo aiuto a nessuno per paura di disturbare i miei colleghi con magari domande banali. Poi crescendo ho capito che in realtà è meglio farsi aiutare e che in realtà i colleghi molto spesso hanno il desiderio di aiutarmi. Quindi ora quando succede che non so qualcosa, se proprio non riesco a fare qualcosa, provo a chiedere a qualcuno di aiutarmi. Non mi viene ancora così facile però sto facendo progressi.\n",
    "- My streghts.\n",
    "    - `Change register of communication depending on who I have in front of me`\n",
    "    - **Example**: credo di avere una buona capacità di capire in fretta il carattere di una persona e di conseguenza mi adatto ad essa. In particolare adatto la mia comunicazione in modo tale che sia il più efficiente possibile. Noto che molti non hanno queta skills e io ritengo sia ottima perchè è utile quando ad esempio ci sono situazoni di conflitto.\n",
    "- How you navigate ambiguity?\n",
    "    - `Instance or semantic segmentation project`\n",
    "    - we need to show the interviewer we can make a decision"
   ]
  },
  {
   "cell_type": "markdown",
   "id": "b0fef4e1",
   "metadata": {},
   "source": [
    "- What do you think are the qualities of a good leader?\n",
    "    - **Example**: `accepts criticism and be open to discuss others idea, be sympathetic, planning, managing, solve problems between colleagues and technical`\n",
    "- Tell me about a time when you worked with a super performer in your team, and how did you handle it?\n",
    "    - **Example**: `Belgenio, he wanted to do everything but I wanted to learn`\n",
    "- Tell me about a time when you had a conflict with your team members during a live project, and how did you handle it? \n",
    "    - **Example**: `Santini presentazione progetto a Nuovo Diario, problema tecnico delle immagini dei duplicati`\n",
    "- Tell me about a time when you had to convince someone to follow your strategy.\n",
    "    - **Example**: `semantic and instance segmentation`\n",
    "- When was the last time you made a wrong decision? \n",
    "    - **Example**: `PhD decision between Bachelor and Master, took a gap year`\n",
    "- As a leader, how do you get others to follow your ideas?\n",
    "    - **Example**: `align our thoughts and discuss`\n",
    "- What is your weakness as a leader?\n",
    "    - **Example**: `difficoltà a dire di no a richieste dei miei clienti per timore di sembrare rude`"
   ]
  },
  {
   "cell_type": "code",
   "execution_count": null,
   "id": "5437895e",
   "metadata": {},
   "outputs": [],
   "source": []
  },
  {
   "cell_type": "code",
   "execution_count": null,
   "id": "11f27f1c",
   "metadata": {},
   "outputs": [],
   "source": []
  },
  {
   "cell_type": "code",
   "execution_count": null,
   "id": "590454a5",
   "metadata": {},
   "outputs": [],
   "source": []
  },
  {
   "cell_type": "code",
   "execution_count": null,
   "id": "892c277f",
   "metadata": {},
   "outputs": [],
   "source": []
  },
  {
   "cell_type": "code",
   "execution_count": null,
   "id": "bb736900",
   "metadata": {},
   "outputs": [],
   "source": []
  },
  {
   "cell_type": "markdown",
   "id": "32e75cf9",
   "metadata": {},
   "source": [
    "- **REMEMBER STAR**\n",
    "- un po' più tranquillo, parlare più clear e strutturato e calmo\n",
    "- I need to show that actually I am smart, I can take initiatives, I am capable at the end of the day. However, I also need to show that I can work in team, how I can I help others, how others help me.\n",
    "- why google?"
   ]
  },
  {
   "cell_type": "markdown",
   "id": "8392eae3",
   "metadata": {},
   "source": [
    "**MUST TIP**: Come prepared with thoughtful questions (e.g., team priorities, culture, etc.). Interviewing is a\n",
    "two-way street, so we want you to feel comfortable and understand how a role at Google could help\n",
    "you grow your career.\n",
    "- `I know that Google is a multiethnic company, could you tell me more about the culture of the company?`\n",
    "- `Are there opportunities for training and progression within the role/company?`"
   ]
  },
  {
   "cell_type": "markdown",
   "id": "bd0f5487",
   "metadata": {},
   "source": [
    "---------------------------------------"
   ]
  }
 ],
 "metadata": {
  "kernelspec": {
   "display_name": "Python 3",
   "language": "python",
   "name": "python3"
  },
  "language_info": {
   "codemirror_mode": {
    "name": "ipython",
    "version": 3
   },
   "file_extension": ".py",
   "mimetype": "text/x-python",
   "name": "python",
   "nbconvert_exporter": "python",
   "pygments_lexer": "ipython3",
   "version": "3.8.8"
  }
 },
 "nbformat": 4,
 "nbformat_minor": 5
}
