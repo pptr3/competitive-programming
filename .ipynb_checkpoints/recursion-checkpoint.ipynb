{
 "cells": [
  {
   "cell_type": "markdown",
   "id": "8f098752",
   "metadata": {},
   "source": [
    "### Sort an Array\n",
    "https://leetcode.com/problems/sort-an-array/"
   ]
  },
  {
   "cell_type": "code",
   "execution_count": null,
   "id": "59aec5cb",
   "metadata": {},
   "outputs": [],
   "source": [
    "def sortArray(self, nums: List[int]) -> List[int]:\n",
    "        def merge(leftunsorted, rightunsorted):\n",
    "            if not leftunsorted:\n",
    "                return rightunsorted\n",
    "            if not rightunsorted:\n",
    "                return leftunsorted\n",
    "            \n",
    "            righti, lefti = 0, 0\n",
    "            out = []\n",
    "\n",
    "            while righti < len(rightunsorted) and lefti < len(leftunsorted):\n",
    "                if leftunsorted[lefti] <= rightunsorted[righti]:\n",
    "                    out.append(leftunsorted[lefti])\n",
    "                    lefti += 1\n",
    "                else:\n",
    "                    out.append(rightunsorted[righti])\n",
    "                    righti += 1\n",
    "            if righti == len(rightunsorted) and lefti < len(leftunsorted):\n",
    "                while lefti < len(leftunsorted):\n",
    "                    out.append(leftunsorted[lefti])\n",
    "                    lefti += 1\n",
    "            if lefti == len(leftunsorted) and righti < len(rightunsorted):\n",
    "                while righti < len(rightunsorted):\n",
    "                    out.append(rightunsorted[righti])\n",
    "                    righti += 1\n",
    "            return out\n",
    "                \n",
    "                \n",
    "                \n",
    "        \n",
    "        def mergesort(arr, i, j):\n",
    "            if i > j:\n",
    "                return None\n",
    "            if i == j:\n",
    "                return [arr[i]]\n",
    "            mid = (i+j)//2\n",
    "            leftunsorted = mergesort(arr, i, mid)\n",
    "            rightunsorted = mergesort(arr, mid+1, j)\n",
    "            merged = merge(leftunsorted, rightunsorted)\n",
    "            \n",
    "            return merged\n",
    "        return mergesort(nums, 0, len(nums)-1)"
   ]
  },
  {
   "cell_type": "markdown",
   "id": "cb6546c2",
   "metadata": {},
   "source": [
    "### Reverse string\n",
    "https://leetcode.com/problems/reverse-string/"
   ]
  },
  {
   "cell_type": "code",
   "execution_count": null,
   "id": "e51de66b",
   "metadata": {},
   "outputs": [],
   "source": [
    " def reverseString(self, s: List[str]) -> None:\n",
    "        '''\n",
    "        Do not return anything, modify s in-place instead.\n",
    "        Input: s = [\"h\",\"e\",\"l\",\"l\",\"o\"]\n",
    "        Output: [\"o\",\"l\",\"l\",\"e\",\"h\"]\n",
    "        '''\n",
    "        def rev(i, j):\n",
    "            if i < j:\n",
    "                s[i], s[j] = s[j], s[i]\n",
    "                rev(i+1, j-1)\n",
    "        rev(0, len(s)-1)"
   ]
  }
 ],
 "metadata": {
  "kernelspec": {
   "display_name": "Python 3",
   "language": "python",
   "name": "python3"
  },
  "language_info": {
   "codemirror_mode": {
    "name": "ipython",
    "version": 3
   },
   "file_extension": ".py",
   "mimetype": "text/x-python",
   "name": "python",
   "nbconvert_exporter": "python",
   "pygments_lexer": "ipython3",
   "version": "3.8.8"
  }
 },
 "nbformat": 4,
 "nbformat_minor": 5
}
