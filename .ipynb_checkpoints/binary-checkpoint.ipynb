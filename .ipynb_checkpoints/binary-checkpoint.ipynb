{
 "cells": [
  {
   "cell_type": "markdown",
   "id": "a62282cb",
   "metadata": {},
   "source": [
    "#### From Binary to Int"
   ]
  },
  {
   "cell_type": "code",
   "execution_count": 3,
   "id": "d16af345",
   "metadata": {},
   "outputs": [
    {
     "data": {
      "text/plain": [
       "4"
      ]
     },
     "execution_count": 3,
     "metadata": {},
     "output_type": "execute_result"
    }
   ],
   "source": [
    "int('100', 2)"
   ]
  },
  {
   "cell_type": "markdown",
   "id": "14481de3",
   "metadata": {},
   "source": [
    "#### From Int to Binary"
   ]
  },
  {
   "cell_type": "code",
   "execution_count": 2,
   "id": "3651163f",
   "metadata": {},
   "outputs": [
    {
     "data": {
      "text/plain": [
       "'100'"
      ]
     },
     "execution_count": 2,
     "metadata": {},
     "output_type": "execute_result"
    }
   ],
   "source": [
    "bin(4)[2:]"
   ]
  },
  {
   "cell_type": "markdown",
   "id": "1e5393af",
   "metadata": {},
   "source": [
    "#### From int to Binary with leading zeros"
   ]
  },
  {
   "cell_type": "code",
   "execution_count": 14,
   "id": "7ad2f7c0",
   "metadata": {},
   "outputs": [
    {
     "data": {
      "text/plain": [
       "'00000011'"
      ]
     },
     "execution_count": 14,
     "metadata": {},
     "output_type": "execute_result"
    }
   ],
   "source": [
    "'{:08b}'.format(3)"
   ]
  },
  {
   "cell_type": "markdown",
   "id": "8aeb910f",
   "metadata": {},
   "source": [
    "### Sum of Two Integers\n",
    "\n",
    "https://leetcode.com/problems/sum-of-two-integers/\n",
    "\n",
    "The problem is reduced to compute a+b and a-b. <br>\n",
    "To make this work, rembember that this must hold: abs(a) > abs(b). <br>\n",
    "Then, the well known algorithm for a+b and a-b is applied (ans and carry throguh XOR, AND and shifting)."
   ]
  },
  {
   "cell_type": "code",
   "execution_count": 37,
   "id": "79059334",
   "metadata": {},
   "outputs": [],
   "source": [
    "def getSum(a: int, b: int) -> int:\n",
    "    x, y = abs(a), abs(b)\n",
    "    sign = 1 if a > 0 else -1\n",
    "    \n",
    "    if y > x:\n",
    "        return getSum(b, a)\n",
    "    \n",
    "    if a*b >= 0:\n",
    "        # a + b     \n",
    "        while y != 0:\n",
    "            ans = x^y\n",
    "            carry = (x&y) << 1\n",
    "            x = ans\n",
    "            y = carry\n",
    "        return x*sign\n",
    "    else:\n",
    "        # a - b     \n",
    "        while y != 0:\n",
    "            ans = x^y\n",
    "            carry = (~(x)&y) << 1\n",
    "            x = ans\n",
    "            y = carry\n",
    "        return x"
   ]
  },
  {
   "cell_type": "markdown",
   "id": "789a7539",
   "metadata": {},
   "source": [
    "### Number of 1 Bits\n",
    "\n",
    "https://leetcode.com/problems/number-of-1-bits/\n",
    "\n",
    "This is very easy if you convert the input into its binary representation and just count the 1s. <br>\n",
    "However, you need to reason wit bits on this kinf of exercise. Here, we just compute tha AND between the input and a mask, then if a 1 is present in the result of this AND, it means that there is a 1 in the input, so we add this to the counter and shit left the mask by one."
   ]
  },
  {
   "cell_type": "code",
   "execution_count": null,
   "id": "06fad136",
   "metadata": {},
   "outputs": [],
   "source": [
    "def hammingWeight(self, n: int) -> int:\n",
    "    mask = 1\n",
    "    c = 0\n",
    "    for i in range(32):\n",
    "        if n & mask != 0:\n",
    "            c+=1\n",
    "        mask <<= 1\n",
    "    return c"
   ]
  },
  {
   "cell_type": "markdown",
   "id": "2ae0d483",
   "metadata": {},
   "source": [
    "### Counting Bits\n",
    "\n",
    "https://leetcode.com/problems/counting-bits/\n",
    "\n",
    "#### Approach 1: DP + Least Significant Bit\n",
    "Note that: <br>\n",
    "\n",
    "$ x = (1001011101)_2 = (605)_10 $ <br>\n",
    "$ x' = (100101110)_2 = (302)_10 $\n",
    "\n",
    "Look at the relationship between the bits of the number 605 and 302. We know that all the bits but the last one are the same. So, we can compute the 1s by applying DP with the following transition function: <br>\n",
    "\n",
    "$ P(x) = P(x//2) + (x \\space mod  \\space 2) $\n",
    "\n",
    "Note that this property holds: <br>\n",
    "- if a number n, is even, the number of ones in n is equal to n/2\n",
    "- if n is odd the number of ones in n is equal to n/2+1\n",
    "\n",
    "Note also that, to zero the last bit of a number $x$, you can do: $ x \\& (x - 1) $"
   ]
  },
  {
   "cell_type": "code",
   "execution_count": 38,
   "id": "38944b62",
   "metadata": {},
   "outputs": [],
   "source": [
    "def countBits(n: int):\n",
    "    # P(x) = P(x//2) + (x&1), # x // 2 is x >> 1 and x % 2 is x & 1\n",
    "    out = [0] * (n+1)\n",
    "    for x in range(1, n+1):\n",
    "        out[x] = out[x >> 1] + (x & 1)\n",
    "    return out"
   ]
  },
  {
   "cell_type": "markdown",
   "id": "062e531d",
   "metadata": {},
   "source": [
    "### Missing Number\n",
    "\n",
    "https://leetcode.com/problems/missing-number/\n",
    "\n",
    "#### My sol:\n",
    "Compute the sum of the first $ n $ numbers with the formula: $ \\frac{n(n+1)}{2} $, then compute the sum of the elements of the array and the result is the difference between the sum of the first $ n $ numbers and the the sum of the elements of the array.\n",
    "\n",
    "\n",
    "#### Approach 2 Bit Manipulation\n",
    "Because we know that nums contains nn numbers and that it is missing exactly one number on the range [0..n-1], we know that $n$ definitely replaces the missing number in nums. Therefore, if we initialize an integer to nn and XOR it with every index and value, we will be left with the missing number."
   ]
  },
  {
   "cell_type": "code",
   "execution_count": 53,
   "id": "67440e5f",
   "metadata": {},
   "outputs": [],
   "source": [
    "# my sol\n",
    "def missingNumber(nums):\n",
    "    if not nums:\n",
    "        return None\n",
    "    summ = 0\n",
    "    for i in nums:\n",
    "        summ += i\n",
    "\n",
    "    real_sum = int(len(nums)*(len(nums)+1)/2)\n",
    "\n",
    "    return real_sum - summ\n",
    "\n",
    "# Approach 2\n",
    "def missingNumber(nums):\n",
    "    missing = len(nums)\n",
    "    for i, num in enumerate(nums):\n",
    "        missing ^= i ^ num\n",
    "    return missing"
   ]
  },
  {
   "cell_type": "markdown",
   "id": "2b702ee7",
   "metadata": {},
   "source": [
    "### Reverse Bits\n",
    "\n",
    "https://leetcode.com/problems/reverse-bits/\n",
    "\n",
    "#### My solution\n",
    "Easy. Just use the built-in functions to convert numers from base 10 to 2 and viceversa.\n",
    "\n",
    "#### Approach 2\n",
    "Take the righ-most bit (n & 1), then shift left of 31 (<< 31). In this way, we are taking the right-most bit and setting it to the 31 pos. Then, we need to take the second bit (from the left). To do so, we shift the number n to the right by 1, so that we can perform again (n & 1) and then we need to decrease by 1 the pos that was previously 31, so in the next iteration it will be 30. Do this until >= 0. <br>\n",
    "Accumulate the result into a variable that is set to zero and we manually set its bits to 1, and then we automatically have the interger from the binary representation."
   ]
  },
  {
   "cell_type": "code",
   "execution_count": null,
   "id": "7a346137",
   "metadata": {},
   "outputs": [],
   "source": [
    "def reverseBits(n: int) -> int:\n",
    "    return int('{:032b}'.format(n)[::-1], 2)"
   ]
  },
  {
   "cell_type": "code",
   "execution_count": 4,
   "id": "1a3ec7c0",
   "metadata": {},
   "outputs": [],
   "source": [
    "def reverseBits(n: int) -> int:\n",
    "    res = 0\n",
    "    pos = 31\n",
    "    \n",
    "    while pos >= 0:\n",
    "        res += (n & 1) << pos\n",
    "        pos -= 1\n",
    "        n >>= 1\n",
    "    return res\n",
    "        "
   ]
  },
  {
   "cell_type": "code",
   "execution_count": 65,
   "id": "fed902ad",
   "metadata": {},
   "outputs": [],
   "source": [
    "def spiral_copy(inputMatrix):\n",
    "    counted = 0\n",
    "    out = []\n",
    "    arow = 0\n",
    "    col = 0\n",
    "    all_elem = len(inputMatrix)*len(inputMatrix[0])\n",
    "    flag = 'r'\n",
    "    row_bound = len(inputMatrix)\n",
    "    row_bound2 = 1\n",
    "    col_bound = len(inputMatrix[0])\n",
    "    col_bound2 = 0\n",
    "    while counted != all_elem:\n",
    "        if flag == 'r':\n",
    "            if col < col_bound:\n",
    "                out.append(inputMatrix[row][col])\n",
    "                col += 1\n",
    "                counted += 1\n",
    "            else:\n",
    "                flag = 'd'\n",
    "                col -= 1\n",
    "                row += 1\n",
    "                col_bound -= 1\n",
    "        if flag == 'd':\n",
    "            if row < row_bound:\n",
    "                out.append(inputMatrix[row][col])\n",
    "                row += 1\n",
    "                counted += 1\n",
    "            else:\n",
    "                flag = 'l'\n",
    "                row -= 1\n",
    "                col -= 1\n",
    "                row_bound -= 1\n",
    "        if flag == 'l':\n",
    "            if col >= col_bound2:\n",
    "                out.append(inputMatrix[row][col])\n",
    "                col -= 1\n",
    "                counted += 1\n",
    "            else:\n",
    "                flag = 'u'\n",
    "                col += 1\n",
    "                row -= 1\n",
    "                col_bound2 -= 1\n",
    "        if flag == 'u':\n",
    "            if row >= row_bound2:\n",
    "                out.append(inputMatrix[row][col])\n",
    "                row -= 1\n",
    "                counted += 1\n",
    "            else:\n",
    "                flag = 'r'\n",
    "                row += 1\n",
    "                col += 1\n",
    "                row_bound2 -= 1\n",
    "        print(out)\n",
    "    return out     "
   ]
  },
  {
   "cell_type": "code",
   "execution_count": 66,
   "id": "dca41719",
   "metadata": {},
   "outputs": [],
   "source": [
    "inputMatrix  = [ [1,    2,   3,  4,    5],\n",
    "                 [6,    7,   8,  9,   10],\n",
    "                 [11,  12,  13,  14,  15],\n",
    "                 [16,  17,  18,  19,  20] ]"
   ]
  },
  {
   "cell_type": "code",
   "execution_count": 67,
   "id": "6d4a5ccd",
   "metadata": {},
   "outputs": [
    {
     "name": "stdout",
     "output_type": "stream",
     "text": [
      "[1]\n",
      "[1, 2]\n",
      "[1, 2, 3]\n",
      "[1, 2, 3, 4]\n",
      "[1, 2, 3, 4, 5]\n",
      "[1, 2, 3, 4, 5, 10]\n",
      "[1, 2, 3, 4, 5, 10, 15]\n",
      "[1, 2, 3, 4, 5, 10, 15, 20]\n",
      "[1, 2, 3, 4, 5, 10, 15, 20, 19]\n",
      "[1, 2, 3, 4, 5, 10, 15, 20, 19, 18]\n",
      "[1, 2, 3, 4, 5, 10, 15, 20, 19, 18, 17]\n",
      "[1, 2, 3, 4, 5, 10, 15, 20, 19, 18, 17, 16]\n",
      "[1, 2, 3, 4, 5, 10, 15, 20, 19, 18, 17, 16, 11]\n",
      "[1, 2, 3, 4, 5, 10, 15, 20, 19, 18, 17, 16, 11, 6]\n",
      "[1, 2, 3, 4, 5, 10, 15, 20, 19, 18, 17, 16, 11, 6]\n",
      "[1, 2, 3, 4, 5, 10, 15, 20, 19, 18, 17, 16, 11, 6, 7]\n",
      "[1, 2, 3, 4, 5, 10, 15, 20, 19, 18, 17, 16, 11, 6, 7, 8]\n",
      "[1, 2, 3, 4, 5, 10, 15, 20, 19, 18, 17, 16, 11, 6, 7, 8, 9]\n",
      "[1, 2, 3, 4, 5, 10, 15, 20, 19, 18, 17, 16, 11, 6, 7, 8, 9, 14]\n",
      "[1, 2, 3, 4, 5, 10, 15, 20, 19, 18, 17, 16, 11, 6, 7, 8, 9, 14, 13]\n",
      "[1, 2, 3, 4, 5, 10, 15, 20, 19, 18, 17, 16, 11, 6, 7, 8, 9, 14, 13, 12]\n"
     ]
    },
    {
     "data": {
      "text/plain": [
       "[1, 2, 3, 4, 5, 10, 15, 20, 19, 18, 17, 16, 11, 6, 7, 8, 9, 14, 13, 12]"
      ]
     },
     "execution_count": 67,
     "metadata": {},
     "output_type": "execute_result"
    }
   ],
   "source": [
    "spiral_copy(inputMatrix)"
   ]
  },
  {
   "cell_type": "markdown",
   "id": "35fbb62a",
   "metadata": {},
   "source": [
    "### Remove All Ones With Row and Column Flips\n",
    "https://leetcode.com/problems/remove-all-ones-with-row-and-column-flips/\n",
    "\n",
    "To return True, the idea here is that we must have in the matrix columns and rows that are equal to each other or are the reverse of each other."
   ]
  },
  {
   "cell_type": "code",
   "execution_count": null,
   "id": "2866f47f",
   "metadata": {},
   "outputs": [],
   "source": [
    "class Solution:\n",
    "      def removeOnes(self, grid: List[List[int]]) -> bool:\n",
    "        reverse_first_row = [0 if elem == 1 else 1 for elem in grid[0]]\n",
    "        for idx, elem in enumerate(grid):\n",
    "            if elem != reverse_first_row and elem != grid[0]:\n",
    "                return False\n",
    "        return True\n",
    "\n",
    "class Solution:\n",
    "      def removeOnes(self, grid: List[List[int]]) -> bool:\n",
    "        revRow = [a ^ 1 for a in grid[0]]\n",
    "        return all(row == grid[0] or row == revRow for row in grid)"
   ]
  }
 ],
 "metadata": {
  "kernelspec": {
   "display_name": "Python 3",
   "language": "python",
   "name": "python3"
  },
  "language_info": {
   "codemirror_mode": {
    "name": "ipython",
    "version": 3
   },
   "file_extension": ".py",
   "mimetype": "text/x-python",
   "name": "python",
   "nbconvert_exporter": "python",
   "pygments_lexer": "ipython3",
   "version": "3.8.8"
  }
 },
 "nbformat": 4,
 "nbformat_minor": 5
}
