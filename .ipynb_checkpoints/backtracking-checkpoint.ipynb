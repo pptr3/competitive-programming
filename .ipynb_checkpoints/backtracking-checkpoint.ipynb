{
 "cells": [
  {
   "cell_type": "markdown",
   "id": "6b196b67",
   "metadata": {},
   "source": [
    "### Time and space complexity of backtracking algorithms\n",
    "\n",
    "If I have a $N \\times M$ board and I need to fill the board with numbers that ranges from 0 to 9, then the time complexity will be $O(9^{(N \\times M)})$. While the space complexity will be the max values we can have in the internal stack, which will be $O(N \\times M)$.\n",
    "\n",
    "---------------------------\n",
    "\n",
    "For problmes like **word search**:\n",
    "\n",
    "Time Complexity: $\\mathcal{O}(N \\cdot 3 ^ L)$ where $N$ is the number of cells in the board (because we are going to call the backtrack function $N$ times) and $L$ is the length of the word to be matched.\n",
    "\n",
    "For the backtracking function, initially we could have at most 4 directions to explore, but further the choices are reduced into 3 (since we won't go back to where we come from). As a result, the execution trace after the first step could be visualized as a 3-ary tree, each of the branches represent a potential exploration in the corresponding direction. Therefore, in the worst case, the total number of invocation would be the number of nodes in a full 3-nary tree, which is about $3^L$.\n",
    "\n",
    "---------------------------\n",
    "\n",
    "All possible path into a grid or a dense graph is $O(N!)$."
   ]
  },
  {
   "cell_type": "markdown",
   "id": "c9ab7e55",
   "metadata": {},
   "source": [
    "### Find all paths from top left to top down"
   ]
  },
  {
   "cell_type": "code",
   "execution_count": 105,
   "id": "b3652e69",
   "metadata": {},
   "outputs": [],
   "source": [
    "mat = [[1,1,0,1], \n",
    "       [1,1,1,1]]\n",
    "\n",
    "def numPath(mat):\n",
    "    ROWS, COLS = len(mat), len(mat[0])\n",
    "    targetx, targety = ROWS-1, COLS-1\n",
    "    count = 0\n",
    "    def backtrack(r, c):\n",
    "        nonlocal count\n",
    "        if r < 0 or r >= ROWS or c < 0 or c >= COLS or mat[r][c] == 0 or mat[r][c] == '#':\n",
    "            return \n",
    "        if r == targetx and c == targety:\n",
    "            count += 1\n",
    "            return\n",
    "        \n",
    "        mat[r][c] = '#'\n",
    "        backtrack(r+1, c)\n",
    "        #backtrack(r-1, c)\n",
    "        backtrack(r, c+1)\n",
    "        #backtrack(r, c-1)\n",
    "        mat[r][c] = 1\n",
    "        return \n",
    "    \n",
    "    backtrack(0, 0)\n",
    "    return count\n",
    "    \n",
    "        "
   ]
  },
  {
   "cell_type": "code",
   "execution_count": 39,
   "id": "4bc477a9",
   "metadata": {},
   "outputs": [
    {
     "data": {
      "text/plain": [
       "2"
      ]
     },
     "execution_count": 39,
     "metadata": {},
     "output_type": "execute_result"
    }
   ],
   "source": [
    "numPath(mat)"
   ]
  },
  {
   "cell_type": "markdown",
   "id": "5eaae9fe",
   "metadata": {},
   "source": [
    "### Word Search\n",
    "https://leetcode.com/problems/word-search/"
   ]
  },
  {
   "cell_type": "code",
   "execution_count": null,
   "id": "8009e36b",
   "metadata": {
    "collapsed": true
   },
   "outputs": [],
   "source": [
    "def exist(self, board: List[List[str]], word: str) -> bool:\n",
    "    ROWS, COLS = len(board), len(board[0])\n",
    "\n",
    "    def backtracking(r, c, index):\n",
    "        if index == len(word):\n",
    "            return True\n",
    "        if r < 0 or r >= ROWS or c < 0 or c >= COLS or board[r][c] != word[index] or board[r][c] == '#':\n",
    "            return False\n",
    "        board[r][c] = '#'\n",
    "        result = (backtracking(r+1, c, index+1) or \n",
    "                  backtracking(r-1, c, index+1) or \n",
    "                  backtracking(r, c+1, index+1) or \n",
    "                  backtracking(r, c-1, index+1))\n",
    "        board[r][c] = word[index]\n",
    "        return result\n",
    "\n",
    "    for row in range(ROWS):\n",
    "        for col in range(COLS):\n",
    "            if backtracking(row, col, 0):\n",
    "                return True\n",
    "    return False\n",
    "        "
   ]
  },
  {
   "cell_type": "code",
   "execution_count": 18,
   "id": "b1962d5a",
   "metadata": {},
   "outputs": [],
   "source": [
    "# pramp exercise: shortest path from source to target\n",
    "grid = [[1, 1, 1, 1], \n",
    "        [0, 0, 0, 1],\n",
    "        [1, 1, 1, 1]]\n",
    "sr = 0\n",
    "sc = 0\n",
    "tr = 2\n",
    "tc = 0"
   ]
  },
  {
   "cell_type": "code",
   "execution_count": 19,
   "id": "ddf4437f",
   "metadata": {},
   "outputs": [],
   "source": [
    "def shortestCellPath(grid, sr, sc, tr, tc):\n",
    "    def backtrack(r, c, length):\n",
    "        nonlocal count\n",
    "        if r == tr and c == tc:\n",
    "            count = length\n",
    "            return\n",
    "        if r < 0 or c < 0 or r >= len(grid) or c >= len(grid[0]) or grid[r][c] == 0 or grid[r][c] == 2:\n",
    "            return\n",
    "        grid[r][c] = 2\n",
    "        backtrack(r, c-1, length+1)\n",
    "        backtrack(r, c+1, length+1)\n",
    "        backtrack(r-1, c, length+1)\n",
    "        backtrack(r+1, c, length+1)\n",
    "        grid[r][c] = 1\n",
    "        return \n",
    "    count = 0\n",
    "    backtrack(sr, sc, 1)\n",
    "    return count"
   ]
  },
  {
   "cell_type": "code",
   "execution_count": 20,
   "id": "3833c8f6",
   "metadata": {},
   "outputs": [
    {
     "data": {
      "text/plain": [
       "9"
      ]
     },
     "execution_count": 20,
     "metadata": {},
     "output_type": "execute_result"
    }
   ],
   "source": [
    "shortestCellPath(grid, sr, sc, tr, tc)"
   ]
  },
  {
   "cell_type": "markdown",
   "id": "73f56930",
   "metadata": {},
   "source": [
    "### N-Queens\n",
    "https://leetcode.com/problems/n-queens/"
   ]
  },
  {
   "cell_type": "code",
   "execution_count": null,
   "id": "037081a7",
   "metadata": {},
   "outputs": [],
   "source": [
    "class Solution:\n",
    "    def solveNQueens(self, n: int) -> List[List[str]]:\n",
    "        colset, negdiag, posdiag = set(), set(), set()\n",
    "        board = [['.']*n for _ in range(n)]\n",
    "        out = []\n",
    "        def backtrack(row):\n",
    "            if row == n:\n",
    "                res = []\n",
    "                for r in range(n):\n",
    "                    res.append(''.join(board[r]))\n",
    "                out.append(res)\n",
    "            \n",
    "            for col in range(n):\n",
    "                if col in colset or row-col in negdiag or row+col in posdiag:\n",
    "                    continue\n",
    "                colset.add(col)\n",
    "                negdiag.add(row-col)\n",
    "                posdiag.add(row+col)\n",
    "                board[row][col] = 'Q'\n",
    "                \n",
    "                backtrack(row+1)\n",
    "                \n",
    "                board[row][col] = '.'\n",
    "                colset.remove(col)\n",
    "                negdiag.remove(row-col)\n",
    "                posdiag.remove(row+col)\n",
    "        backtrack(0)\n",
    "        return out\n",
    "                \n",
    "        "
   ]
  },
  {
   "cell_type": "markdown",
   "id": "3e5efded",
   "metadata": {},
   "source": [
    "### N-Queens II\n",
    "https://leetcode.com/problems/n-queens-ii/"
   ]
  },
  {
   "cell_type": "code",
   "execution_count": null,
   "id": "17e67b89",
   "metadata": {},
   "outputs": [],
   "source": [
    "def totalNQueens(self, n: int) -> int:\n",
    "        colset, negdiag, posdiag = set(), set(), set()\n",
    "        out = [0]\n",
    "        def backtrack(row):\n",
    "            if row == n:\n",
    "                out[0] += 1\n",
    "                return\n",
    "            for col in range(n):\n",
    "                if (col in colset) or (row-col in negdiag) or (row+col in posdiag):\n",
    "                    continue\n",
    "                colset.add(col)\n",
    "                negdiag.add(row-col)\n",
    "                posdiag.add(row+col)\n",
    "                backtrack(row+1)\n",
    "                colset.remove(col)\n",
    "                negdiag.remove(row-col)\n",
    "                posdiag.remove(row+col)\n",
    "        backtrack(0)\n",
    "        return out[0]"
   ]
  },
  {
   "cell_type": "markdown",
   "id": "dcc6f4e6",
   "metadata": {},
   "source": [
    "### Find all path from 0,0 to n,n and print them"
   ]
  },
  {
   "cell_type": "code",
   "execution_count": 109,
   "id": "5583131f",
   "metadata": {},
   "outputs": [
    {
     "data": {
      "text/plain": [
       "[[(0, 0), (0, 0), (1, 0), (2, 0), (2, 1), (2, 2), (2, 3)],\n",
       " [(0, 0), (0, 0), (1, 0), (1, 1), (2, 1), (2, 2), (2, 3)],\n",
       " [(0, 0), (0, 0), (1, 0), (1, 1), (1, 2), (2, 2), (2, 3)],\n",
       " [(0, 0), (0, 0), (1, 0), (1, 1), (1, 2), (1, 3), (2, 3)],\n",
       " [(0, 0), (0, 0), (0, 1), (1, 1), (2, 1), (2, 2), (2, 3)],\n",
       " [(0, 0), (0, 0), (0, 1), (1, 1), (1, 2), (2, 2), (2, 3)],\n",
       " [(0, 0), (0, 0), (0, 1), (1, 1), (1, 2), (1, 3), (2, 3)]]"
      ]
     },
     "execution_count": 109,
     "metadata": {},
     "output_type": "execute_result"
    }
   ],
   "source": [
    "mat = [[1,1,0,1], \n",
    "       [1,1,1,1],\n",
    "       [1,1,1,1]]\n",
    "\n",
    "ROWS, COLS = len(mat),len(mat[0])\n",
    "path = [0]\n",
    "out = []\n",
    "def backtrack(row, col, lip):\n",
    "    if row == ROWS-1 and col == COLS-1:\n",
    "        path[0] += 1\n",
    "        new_lip = lip.copy()\n",
    "        new_lip.append((row, col))\n",
    "        out.append(new_lip)\n",
    "    if row < ROWS and col < COLS and mat[row][col] != -1 and mat[row][col] == 1:\n",
    "        mat[row][col] = -1\n",
    "        new_lip = lip.copy()\n",
    "        new_lip.append((row, col))\n",
    "        \n",
    "        backtrack(row+1, col, new_lip)\n",
    "        backtrack(row, col+1, new_lip)\n",
    "        \n",
    "        mat[row][col] = 1\n",
    "        new_lip.pop()\n",
    "        \n",
    "        \n",
    "        \n",
    "        \n",
    "backtrack(0, 0, [(0, 0)])\n",
    "out"
   ]
  },
  {
   "cell_type": "markdown",
   "id": "418b5860",
   "metadata": {},
   "source": [
    "### Combinations\n",
    "https://leetcode.com/problems/combinations/"
   ]
  },
  {
   "cell_type": "code",
   "execution_count": 11,
   "id": "e16742b3",
   "metadata": {},
   "outputs": [
    {
     "data": {
      "text/plain": [
       "[[1, 2, 3], [1, 2, 4], [1, 3, 4], [2, 3, 4]]"
      ]
     },
     "execution_count": 11,
     "metadata": {},
     "output_type": "execute_result"
    }
   ],
   "source": [
    "def combine(n, k):\n",
    "    res = []\n",
    "    def backtrack(start, comb):\n",
    "        if len(comb) == k:\n",
    "            res.append(comb.copy())\n",
    "            return\n",
    "        for i in range(start, n+1):\n",
    "            comb.append(i)\n",
    "            backtrack(i+1, comb)\n",
    "            comb.pop()\n",
    "    backtrack(1, [])\n",
    "    return res\n",
    "\n",
    "combine(4, 3)"
   ]
  },
  {
   "cell_type": "markdown",
   "id": "ba5dacc6",
   "metadata": {},
   "source": [
    "### Count combination (my version)"
   ]
  },
  {
   "cell_type": "code",
   "execution_count": 141,
   "id": "fb510d26",
   "metadata": {},
   "outputs": [
    {
     "data": {
      "text/plain": [
       "[6]"
      ]
     },
     "execution_count": 141,
     "metadata": {},
     "output_type": "execute_result"
    }
   ],
   "source": [
    "# todo with DP\n",
    "def combine2(n, k):\n",
    "    res = [0]\n",
    "    def backtrack(start, comb):\n",
    "        if comb == k:\n",
    "            res[0] += 1\n",
    "            return\n",
    "        for i in range(start, n+1):\n",
    "            comb += 1\n",
    "            backtrack(i+1, comb)\n",
    "            comb -= 1\n",
    "    backtrack(1, 0)\n",
    "    return res\n",
    "\n",
    "combine2(4, 2)"
   ]
  },
  {
   "cell_type": "markdown",
   "id": "327377d2",
   "metadata": {},
   "source": [
    "### All possible combination (my version)"
   ]
  },
  {
   "cell_type": "code",
   "execution_count": 19,
   "id": "6ebb0a55",
   "metadata": {},
   "outputs": [
    {
     "data": {
      "text/plain": [
       "[[1, 1, 1],\n",
       " [1, 1, 2],\n",
       " [1, 2, 1],\n",
       " [1, 2, 2],\n",
       " [2, 1, 1],\n",
       " [2, 1, 2],\n",
       " [2, 2, 1],\n",
       " [2, 2, 2]]"
      ]
     },
     "execution_count": 19,
     "metadata": {},
     "output_type": "execute_result"
    }
   ],
   "source": [
    "#111, 112, 121, ... \n",
    "def allcomb(k, n):\n",
    "    def backtrack(comb):\n",
    "        if len(comb) == k:\n",
    "            out.append(comb.copy())\n",
    "            return\n",
    "        for i in range(1, n+1):\n",
    "            comb.append(i)\n",
    "            backtrack(comb)\n",
    "            comb.pop()\n",
    "    out = []\n",
    "    backtrack([])\n",
    "    return out\n",
    "allcomb(3, 2)"
   ]
  },
  {
   "cell_type": "markdown",
   "id": "9ce7e55a",
   "metadata": {},
   "source": [
    "### Permutations\n",
    "https://leetcode.com/problems/permutations/"
   ]
  },
  {
   "cell_type": "code",
   "execution_count": null,
   "id": "d47b62e0",
   "metadata": {},
   "outputs": [],
   "source": [
    "# with set\n",
    "def permute(self, nums: List[int]) -> List[List[int]]:\n",
    "    res = []\n",
    "    def backtrack(perm, numset):\n",
    "        if not numset:\n",
    "            res.append(perm.copy())\n",
    "            return\n",
    "        for elem in numset:\n",
    "            perm.append(elem)\n",
    "            numset.remove(elem)\n",
    "            backtrack(perm, numset.copy())\n",
    "            numset.add(elem)\n",
    "            perm.pop()\n",
    "\n",
    "    backtrack([], set(nums))\n",
    "    return res\n",
    "    \n",
    "# with list + indexes\n",
    "def permute(self, nums: List[int]) -> List[List[int]]:\n",
    "    res = []\n",
    "    def backtrack(myfuckingcurrentlist, num):\n",
    "        if not num:\n",
    "            res.append(myfuckingcurrentlist.copy())\n",
    "            return\n",
    "        for i in range(len(num)):\n",
    "            myfuckingcurrentlist.append(num[i])\n",
    "            popped = num.pop(i)\n",
    "            backtrack(myfuckingcurrentlist, num.copy())\n",
    "            num.insert(i, popped)\n",
    "            myfuckingcurrentlist.pop()\n",
    "\n",
    "    backtrack([], nums)\n",
    "    return res"
   ]
  },
  {
   "cell_type": "markdown",
   "id": "dcb233dd",
   "metadata": {},
   "source": [
    "### Permutations II\n",
    "https://leetcode.com/problems/permutations-ii/"
   ]
  },
  {
   "cell_type": "code",
   "execution_count": null,
   "id": "321aa854",
   "metadata": {},
   "outputs": [],
   "source": [
    "# using set. We could have used a dict with the values counters as well.\n",
    "def permuteUnique(self, ps: List[int]) -> List[List[int]]:\n",
    "    res = set()\n",
    "    def backtrack(myfuckingcurrentlist, num):\n",
    "        if not num:\n",
    "            res.add(tuple(myfuckingcurrentlist.copy()))\n",
    "            return\n",
    "        for i in range(len(num)):\n",
    "            myfuckingcurrentlist.append(num[i])\n",
    "            popped = num.pop(i)\n",
    "            backtrack(myfuckingcurrentlist, num.copy())\n",
    "            num.insert(i, popped)\n",
    "            myfuckingcurrentlist.pop()\n",
    "\n",
    "    backtrack([], ps.copy())\n",
    "    return res\n",
    "    \n",
    "# using sorting instead of set.    \n",
    "def permuteUnique(self, ps: List[int]) -> List[List[int]]:\n",
    "    res = []\n",
    "    ps.sort()\n",
    "    def backtrack(myfuckingcurrentlist, num):\n",
    "        if not num:\n",
    "            res.append(myfuckingcurrentlist.copy())\n",
    "            return\n",
    "        for i in range(len(num)):\n",
    "            if i == 0 or ( i > 0 and num[i] != num[i-1]):\n",
    "                myfuckingcurrentlist.append(num[i])\n",
    "                popped = num.pop(i)\n",
    "                backtrack(myfuckingcurrentlist, num.copy())\n",
    "                num.insert(i, popped)\n",
    "                myfuckingcurrentlist.pop()\n",
    "\n",
    "    backtrack([], ps.copy())\n",
    "    return res"
   ]
  },
  {
   "cell_type": "markdown",
   "id": "0157ca02",
   "metadata": {},
   "source": [
    "### Generate Parentheses\n",
    "https://leetcode.com/problems/generate-parentheses/"
   ]
  },
  {
   "cell_type": "code",
   "execution_count": 16,
   "id": "cf9a4c49",
   "metadata": {},
   "outputs": [
    {
     "name": "stdout",
     "output_type": "stream",
     "text": [
      "2 2\n",
      "1 2\n",
      "0 2\n",
      "2 1\n",
      "1 1\n",
      "0 1\n",
      "2 0\n",
      "1 0\n",
      "0 0\n"
     ]
    }
   ],
   "source": [
    "def generateParenthesis(self, n: int) -> List[str]:\n",
    "    out = []\n",
    "    def generate(opened, closed, currlist):\n",
    "        if len(currlist) == n*2:\n",
    "            out.append(''.join(currlist.copy()))\n",
    "            return\n",
    "        if opened > 0:\n",
    "            currlist.append('(')\n",
    "            generate(opened-1, closed, currlist)\n",
    "            currlist.pop()\n",
    "        if opened < closed:\n",
    "            currlist.append(')')\n",
    "            generate(opened, closed-1, currlist)\n",
    "            currlist.pop()\n",
    "\n",
    "\n",
    "    generate(n, n, [])\n",
    "    return out"
   ]
  },
  {
   "cell_type": "markdown",
   "id": "b03f5d7b",
   "metadata": {},
   "source": [
    "### Combination Sum\n",
    "https://leetcode.com/problems/combination-sum/"
   ]
  },
  {
   "cell_type": "code",
   "execution_count": null,
   "id": "3045669a",
   "metadata": {},
   "outputs": [],
   "source": [
    "def combinationSum(self, candidates: List[int], target: int) -> List[List[int]]:\n",
    "    res = []\n",
    "    candidates.sort()\n",
    "    def backtrack(idx, curr_list, curr_sum):\n",
    "        if curr_sum > target:\n",
    "            return\n",
    "        if curr_sum == target:\n",
    "            res.append(curr_list.copy())\n",
    "            return\n",
    "        for i in range(idx, len(candidates)):\n",
    "            if (i == 0) or (i > 0 and candidates[i-1] != candidates[i]):\n",
    "                curr_list.append(candidates[i])\n",
    "                curr_sum += candidates[i]\n",
    "                backtrack(i, curr_list, curr_sum)\n",
    "                curr_sum -= candidates[i]\n",
    "                curr_list.pop()\n",
    "    backtrack(0, [], 0)\n",
    "    return res"
   ]
  },
  {
   "cell_type": "markdown",
   "id": "4eb4e5bf",
   "metadata": {},
   "source": [
    "### Combination Sum II\n",
    "https://leetcode.com/problems/combination-sum-ii/"
   ]
  },
  {
   "cell_type": "code",
   "execution_count": null,
   "id": "b98c81c9",
   "metadata": {},
   "outputs": [],
   "source": [
    "class Solution:\n",
    "    def combinationSum2(self, candidates: List[int], target: int) -> List[List[int]]:\n",
    "        res = []\n",
    "        candidates.sort()\n",
    "        def backtrack(curr_idx, curr_sum, curr_list):\n",
    "            if curr_sum > target:\n",
    "                return\n",
    "            if curr_sum == target:\n",
    "                res.append(curr_list.copy())\n",
    "                return\n",
    "            for i in range(curr_idx, len(candidates)):\n",
    "                if i == curr_idx or (i > curr_idx and candidates[i-1] != candidates[i]):\n",
    "                    curr_list.append(candidates[i])\n",
    "                    curr_sum += candidates[i]\n",
    "                    backtrack(i+1, curr_sum, curr_list)\n",
    "                    curr_sum -= candidates[i]\n",
    "                    curr_list.pop()\n",
    "        backtrack(0, 0, [])\n",
    "        return res\n",
    "    \n",
    "    '''\n",
    "    [1, 1, 2, 5, 6, 7, 10]\n",
    "    \n",
    "    '''\n",
    "        \n",
    "        "
   ]
  },
  {
   "cell_type": "markdown",
   "id": "c54c5c34",
   "metadata": {},
   "source": [
    "### Mattia's phone"
   ]
  },
  {
   "cell_type": "markdown",
   "id": "3d4b228e",
   "metadata": {},
   "source": [
    "tagli_di_piastrelle: List[int] = [1, 4, 5, 1]\n",
    "lunghezza_target_passerella: int = 7 \n",
    "output: Bool = True\n",
    "    \n",
    "tagli_di_piastrelle: List[int] = [1, 4, 5, 1]\n",
    "lunghezza_target_passerella: int = 0\n",
    "output: Bool = True\n",
    "\n",
    "tagli_di_piastrelle: List[int] = [1, 4, 5, 1]\n",
    "lunghezza_target_passerella: int = 1\n",
    "output: Bool = True\n",
    "\n",
    "tagli_di_piastrelle: List[int] = [1, 4, 5, 1]\n",
    "lunghezza_target_passerella: int = 3 \n",
    "output: Bool = False"
   ]
  },
  {
   "cell_type": "code",
   "execution_count": 3,
   "id": "24fae200",
   "metadata": {},
   "outputs": [],
   "source": [
    "def mattiaphone(nums, target):\n",
    "    res = [False]\n",
    "    def backtrack(idx, current_sum):\n",
    "        if current_sum > target: return\n",
    "        if current_sum == target:\n",
    "            res[0] = True\n",
    "            return\n",
    "        for i in range(idx, len(nums)):\n",
    "            current_sum += nums[i]\n",
    "            backtrack(i+1, current_sum)\n",
    "            current_sum -= nums[i]\n",
    "    backtrack(0, 0)\n",
    "    return res[0]"
   ]
  },
  {
   "cell_type": "code",
   "execution_count": 4,
   "id": "f49e37d1",
   "metadata": {},
   "outputs": [
    {
     "data": {
      "text/plain": [
       "True"
      ]
     },
     "execution_count": 4,
     "metadata": {},
     "output_type": "execute_result"
    }
   ],
   "source": [
    "mattiaphone([1, 4, 5, 1], 7)"
   ]
  },
  {
   "cell_type": "code",
   "execution_count": 11,
   "id": "41e06afc",
   "metadata": {},
   "outputs": [],
   "source": [
    "def mattiaphoneDP(nums, target):\n",
    "    def dp(i,csum):\n",
    "        if csum == target: return True\n",
    "        if csum > target: return False\n",
    "        if i < 0: return False\n",
    "        if (i, csum) not in memo:\n",
    "            take = dp(i-1,csum+nums[i]) \n",
    "            dontake = dp(i-1,csum)\n",
    "            memo[(i,csum)] = take or dontake\n",
    "        return memo[(i,csum)]\n",
    "    memo = {}\n",
    "    return dp(len(nums)-1, 0)"
   ]
  },
  {
   "cell_type": "markdown",
   "id": "39c51535",
   "metadata": {},
   "source": [
    "### Combination Sum III\n",
    "https://leetcode.com/problems/combination-sum-iii/"
   ]
  },
  {
   "cell_type": "code",
   "execution_count": null,
   "id": "cdd50fb5",
   "metadata": {},
   "outputs": [],
   "source": [
    "def combinationSum3(self, k: int, target: int) -> List[List[int]]:\n",
    "    res = []\n",
    "    nums = [i for i in range(1, 10)]\n",
    "    def backtrack(idx, currlist, currsum):\n",
    "        if currsum > target:\n",
    "            return\n",
    "        if currsum == target and len(currlist) == k:\n",
    "            res.append(currlist.copy())\n",
    "            return\n",
    "        for i in range(idx, len(nums)):\n",
    "            currlist.append(nums[i])\n",
    "            currsum += nums[i]\n",
    "            backtrack(i+1, currlist, currsum)\n",
    "            currsum -= nums[i]\n",
    "            currlist.pop()\n",
    "    backtrack(0, [], 0)\n",
    "    return res"
   ]
  },
  {
   "cell_type": "markdown",
   "id": "1b61e012",
   "metadata": {},
   "source": [
    "### Subsets\n",
    "https://leetcode.com/problems/subsets/"
   ]
  },
  {
   "cell_type": "code",
   "execution_count": null,
   "id": "4605c94f",
   "metadata": {},
   "outputs": [],
   "source": [
    "def subsets(self, nums: List[int]) -> List[List[int]]:\n",
    "    res = []\n",
    "    def backtrack(idx, currlist):\n",
    "        if idx == len(nums):\n",
    "            res.append(currlist.copy())\n",
    "            return\n",
    "        res.append(currlist.copy())\n",
    "        for i in range(idx, len(nums)):\n",
    "            currlist.append(nums[i])\n",
    "            backtrack(i+1, currlist)\n",
    "            currlist.pop()\n",
    "\n",
    "    backtrack(0, [])\n",
    "    return res"
   ]
  },
  {
   "cell_type": "markdown",
   "id": "da383e4a",
   "metadata": {},
   "source": [
    "### Subsets II\n",
    "\n",
    "https://leetcode.com/problems/subsets-ii/"
   ]
  },
  {
   "cell_type": "code",
   "execution_count": null,
   "id": "34ff7301",
   "metadata": {},
   "outputs": [],
   "source": [
    "def subsetsWithDup(self, nums: List[int]) -> List[List[int]]:\n",
    "    res = []\n",
    "    nums.sort()\n",
    "    def backtrack(idx, currlist):\n",
    "        if idx == len(nums):\n",
    "            res.append(currlist.copy())\n",
    "            return\n",
    "        res.append(currlist.copy())\n",
    "        for i in range(idx, len(nums)):\n",
    "            if i > idx and nums[i-1] == nums[i]: continue\n",
    "            currlist.append(nums[i])\n",
    "            backtrack(i+1, currlist)\n",
    "            currlist.pop()\n",
    "    backtrack(0, [])\n",
    "    return res"
   ]
  },
  {
   "cell_type": "markdown",
   "id": "03689136",
   "metadata": {},
   "source": [
    "### Letter Combinations of a Phone Number\n",
    "https://leetcode.com/problems/letter-combinations-of-a-phone-number/"
   ]
  },
  {
   "cell_type": "code",
   "execution_count": null,
   "id": "4847c8e1",
   "metadata": {},
   "outputs": [],
   "source": [
    "def letterCombinations(self, digits: str) -> List[str]:\n",
    "    if not digits:\n",
    "        return []\n",
    "    mapping = {2: 'abc', 3:'def', 4:'ghi', 5:'jkl', 6:'mno', 7:'pqrs', 8:'tuv', 9:'wxyz'}\n",
    "    res = []\n",
    "    def backtack(currnum_idx, currstr):\n",
    "        if currnum_idx == len(digits):\n",
    "            res.append(currstr)\n",
    "            return\n",
    "        for char in mapping[int(digits[currnum_idx])]:\n",
    "            currstr += char\n",
    "            backtack(currnum_idx+1, currstr)\n",
    "            currstr = currstr[:-1]\n",
    "    backtack(0, '')\n",
    "    return res"
   ]
  },
  {
   "cell_type": "code",
   "execution_count": 3,
   "id": "46a46084",
   "metadata": {},
   "outputs": [
    {
     "data": {
      "text/plain": [
       "['c', 'i', 'a', 'o']"
      ]
     },
     "execution_count": 3,
     "metadata": {},
     "output_type": "execute_result"
    }
   ],
   "source": [
    "\"c i a o\".split(' ')"
   ]
  },
  {
   "cell_type": "code",
   "execution_count": null,
   "id": "28b66cdd",
   "metadata": {},
   "outputs": [],
   "source": []
  },
  {
   "cell_type": "markdown",
   "id": "3deb4a17",
   "metadata": {},
   "source": [
    "### Maximum Split of Positive Even Integers\n",
    "https://leetcode.com/problems/maximum-split-of-positive-even-integers/"
   ]
  },
  {
   "cell_type": "code",
   "execution_count": null,
   "id": "fcbca12e",
   "metadata": {},
   "outputs": [],
   "source": [
    "class Solution:\n",
    "    def maximumEvenSplit(self, final: int) -> List[int]:\n",
    "        if final % 2 != 0: return []\n",
    "        max_length = [0]\n",
    "        out = []\n",
    "        def backtrack(idx, currlist, csum):\n",
    "            nonlocal out\n",
    "            if csum > final:\n",
    "                return\n",
    "            if csum == final:\n",
    "                if len(currlist) > max_length[0]:\n",
    "                    max_length[0] = len(currlist)\n",
    "                    out = currlist\n",
    "                return\n",
    "            for i in range(idx, final+1, 2):\n",
    "                currlist.append(i)\n",
    "                backtrack(i+2, currlist.copy(), csum+i)\n",
    "                currlist.pop()\n",
    "        backtrack(2, [], 0)\n",
    "        return out"
   ]
  },
  {
   "cell_type": "markdown",
   "id": "9ab82387",
   "metadata": {},
   "source": [
    "### Above problem in DP (how to return a list in DP)"
   ]
  },
  {
   "cell_type": "code",
   "execution_count": null,
   "id": "84f1d7f7",
   "metadata": {},
   "outputs": [],
   "source": [
    "class Solution:\n",
    "    def maximumEvenSplit(self, final: int) -> List[int]:\n",
    "        if final % 2 != 0: return []\n",
    "        # [2,4,6,8,10,12]\n",
    "        def dp(i, csum):\n",
    "            if csum == final:\n",
    "                return 0\n",
    "            if i > final:\n",
    "                return float('-inf')\n",
    "            if csum > final:\n",
    "                return float('-inf')\n",
    "            if (i, csum) in memo:\n",
    "                return memo[(i, csum)]\n",
    "            take = 1+dp(i+2, csum+i)\n",
    "            dontake = dp(i+2, csum)\n",
    "            return max(take, dontake)\n",
    "        def solve(i, csum):\n",
    "            nonlocal l\n",
    "            if csum == final: return\n",
    "            if i > final: return\n",
    "            if csum > final: return\n",
    "            take = 1+dp(i+2, csum+i)\n",
    "            dontake = dp(i+2, csum)\n",
    "            if take > dontake:\n",
    "                l.append(i)\n",
    "                return solve(i+2, csum+i)\n",
    "            else:\n",
    "                return solve(i+2, csum)\n",
    "        \n",
    "       \n",
    "        memo = {}\n",
    "        maxlen = dp(2, 0)\n",
    "        l = []\n",
    "        solve(2, 0)\n",
    "        return l"
   ]
  }
 ],
 "metadata": {
  "kernelspec": {
   "display_name": "Python 3",
   "language": "python",
   "name": "python3"
  },
  "language_info": {
   "codemirror_mode": {
    "name": "ipython",
    "version": 3
   },
   "file_extension": ".py",
   "mimetype": "text/x-python",
   "name": "python",
   "nbconvert_exporter": "python",
   "pygments_lexer": "ipython3",
   "version": "3.8.8"
  }
 },
 "nbformat": 4,
 "nbformat_minor": 5
}
