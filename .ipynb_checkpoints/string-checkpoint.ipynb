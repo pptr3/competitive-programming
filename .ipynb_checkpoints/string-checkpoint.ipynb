{
 "cells": [
  {
   "cell_type": "markdown",
   "id": "ba337e09",
   "metadata": {},
   "source": [
    "###  Longest Substring Without Repeating Characters\n",
    "\n",
    "https://leetcode.com/problems/longest-substring-without-repeating-characters/\n",
    "\n",
    "Two pointers sliding window. Keep left pointer fixed and move the right one. When I enounter a duplicate (using a set), e move the left pointer until left pointer passes the duplicate and removing the elements I ecounter withing the set."
   ]
  },
  {
   "cell_type": "code",
   "execution_count": 61,
   "id": "0f400d23",
   "metadata": {},
   "outputs": [],
   "source": [
    "def lengthOfLongestSubstring(s: str) -> int:\n",
    "    if not s:\n",
    "        return 0\n",
    "    if len(s) == 1:\n",
    "        return 1\n",
    "    left = 0\n",
    "    right = 1\n",
    "    maxx = -1\n",
    "    seet = set(s[left])\n",
    "    while right < len(s):\n",
    "        if s[right] not in seet:\n",
    "            seet.add(s[right])\n",
    "            if maxx < right - left + 1:\n",
    "                maxx = right - left + 1\n",
    "            right += 1\n",
    "        else:\n",
    "            while s[left] != s[right]:\n",
    "                seet.remove(s[left])\n",
    "                left += 1\n",
    "            left += 1\n",
    "            if maxx < right - left + 1:\n",
    "                maxx = right - left + 1\n",
    "            right += 1\n",
    "    return maxx"
   ]
  },
  {
   "cell_type": "markdown",
   "id": "656fb85b",
   "metadata": {},
   "source": [
    "### Group Anagrams\n",
    "\n",
    "https://leetcode.com/problems/group-anagrams/\n",
    "    \n",
    "Here the trick is to create a _count_ array that has a 1 in corrispondence of a character. In this way, angrams will have the same count array if we use the trick `count[ord(c) - ord('a')] += 1`. Then, we just hash that array into the dict converting the list into a tuple."
   ]
  },
  {
   "cell_type": "code",
   "execution_count": null,
   "id": "bc033dcb",
   "metadata": {},
   "outputs": [],
   "source": [
    "import collections\n",
    "def groupAnagrams(strs):\n",
    "    ans = {}\n",
    "    for s in strs:\n",
    "        count = [0] * 26\n",
    "        for c in s:\n",
    "            count[ord(c) - ord('a')] += 1\n",
    "        if tuple(count) in ans:\n",
    "            ans[tuple(count)].append(s)\n",
    "        else:\n",
    "            ans[tuple(count)] = [s]\n",
    "    return ans.values()"
   ]
  },
  {
   "cell_type": "markdown",
   "id": "da5e8223",
   "metadata": {},
   "source": [
    "### Valid Parentheses\n",
    "\n",
    "https://leetcode.com/problems/valid-parentheses/\n",
    "    \n",
    "Easy, just use a stack."
   ]
  },
  {
   "cell_type": "code",
   "execution_count": null,
   "id": "1127729e",
   "metadata": {},
   "outputs": [],
   "source": [
    "def isValid(self, s: str) -> bool:\n",
    "    if len(s) == 1:\n",
    "        return False\n",
    "    stack = []\n",
    "    for c in s:\n",
    "        if c == '(' or c == '[' or c == '{':\n",
    "            stack.append(c)\n",
    "        if len(stack) == 0:\n",
    "            return False\n",
    "        elif c == ')':\n",
    "            if (len(stack) > 0 and stack.pop() != '('):\n",
    "                return False\n",
    "        elif c == ']':\n",
    "            if (len(stack) > 0 and stack.pop() != '['):\n",
    "                return False\n",
    "        elif c == '}':\n",
    "            if (len(stack) > 0 and stack.pop() != '{'):\n",
    "                return False\n",
    "    return True if len(stack) == 0 else False"
   ]
  },
  {
   "cell_type": "markdown",
   "id": "509faaf7",
   "metadata": {},
   "source": [
    "### Valid Palindrome\n",
    "\n",
    "https://leetcode.com/problems/valid-palindrome/\n",
    "    \n",
    "Easy. Just pay attention at the way we eliminated the non-alphanumeric characters."
   ]
  },
  {
   "cell_type": "code",
   "execution_count": null,
   "id": "855cce85",
   "metadata": {},
   "outputs": [],
   "source": [
    "def isPalindrome(self, s: str) -> bool:\n",
    "    if len(s) == 1:\n",
    "        return True\n",
    "    lower = s.lower()\n",
    "    sstr = ''.join(filter(str.isalnum, lower))\n",
    "    if len(sstr) == 0:\n",
    "        return True\n",
    "    print(sstr)\n",
    "    for i in range(len(sstr)):\n",
    "        j = len(sstr) - 1 - i\n",
    "        if i >= j:\n",
    "            return True\n",
    "        elif sstr[i] != sstr[j]:\n",
    "            return False"
   ]
  },
  {
   "cell_type": "markdown",
   "id": "27973636",
   "metadata": {},
   "source": [
    "### Longest Palindromic Substring\n",
    "\n",
    "https://leetcode.com/problems/longest-palindromic-substring/\n",
    "    \n",
    "Pretty easy since the solution is $O(n^2)$. Just take a center and expand on both directions and save the longest palindromic subsring. Pay attention that we have $2n-1$ centers, so we need to expand both from the center `expand_center(s, i, i)` and `expand_center(s, i, i+1)` because if we have the string \"abbbc\", the center will be the \"b\" is position 2, But, if we have \"kabbac\", the center will be in the middle of the two b's. Moreover, unlike what is usually done, the starting indices  `left` and `right` should be initialized such that the difference `right - left` is `-1`. Not `left = -1` and `right = -1` since in this case the difference will be `-1 - (-1) = 0`.\n",
    "Another edge case to keep in mind is with the string \"abbc\". In `expand_center(s, i, i+1)`, at a certain point, we would start by considering the substring \"ab\", without the if statement in `expand_center` function, we would return something not correct since we do l+1, r-1 ending is swapping the left with the right viceversa."
   ]
  },
  {
   "cell_type": "code",
   "execution_count": 544,
   "id": "37b1d4ef",
   "metadata": {},
   "outputs": [],
   "source": [
    "def longestPalindrome(s: str) -> str:\n",
    "    if len(s) == 1:\n",
    "        return s\n",
    "    left = 0\n",
    "    right = -1\n",
    "    \n",
    "    for i in range(len(s)):\n",
    "        l1, r1 = expand_center(s, i, i)\n",
    "        l2, r2 = expand_center(s, i, i+1)\n",
    "        if r1-l1 > right-left:\n",
    "            left, right = l1, r1\n",
    "        if r2-l2 > right-left:\n",
    "            left, right = l2, r2\n",
    "    return s[left:right+1]\n",
    "\n",
    "def expand_center(s, left, right):\n",
    "    l, r = left, right\n",
    "    if r < len(s) and s[l] != s[r]:\n",
    "        return l, l\n",
    "    while l >= 0 and r < len(s) and s[l] == s[r]:\n",
    "        l -= 1\n",
    "        r += 1\n",
    "    return l+1,r-1"
   ]
  },
  {
   "cell_type": "markdown",
   "id": "a250bb9a",
   "metadata": {},
   "source": [
    "### Palindromic Substrings\n",
    "\n",
    "https://leetcode.com/problems/palindromic-substrings/\n",
    "\n",
    "Same concept of above problem. Just expand both from (s, i, i) and (s, i, i+1) and count them."
   ]
  },
  {
   "cell_type": "code",
   "execution_count": null,
   "id": "23599166",
   "metadata": {},
   "outputs": [],
   "source": [
    "def countSubstrings(s: str) -> int:\n",
    "    if len(s) == 1:\n",
    "        return 1\n",
    "    count = 0\n",
    "\n",
    "    for i in range(len(s)):\n",
    "        count += self.expand_center(s, i, i)\n",
    "        count += self.expand_center(s, i, i+1)\n",
    "    return count\n",
    "\n",
    "\n",
    "def expand_center(s, left, right):\n",
    "    l, r = left, right\n",
    "    c = 0\n",
    "    while l >= 0 and r < len(s) and s[l] == s[r]:\n",
    "        c += 1\n",
    "        l -= 1\n",
    "        r += 1\n",
    "    return c"
   ]
  },
  {
   "cell_type": "markdown",
   "id": "22b69369",
   "metadata": {},
   "source": [
    "### Encode and Decode Strings\n",
    "\n",
    "https://leetcode.com/problems/encode-and-decode-strings/\n",
    "\n",
    "Easy. However, making it work for every set of possible characters is not so easy. A possible solution is to add before each string, the length of the string that follows with leading zeros (Note that you can do this by using `%04d %`; in this way you can encode a string that has a max length of `9999`; the `%` is used to make the previous expression work with the given integer). And at the decoding time, I read the length of the next string, and slice just that part. <br>\n",
    "Example: <br>\n",
    "Input: `['hi', 'what', 'are', 'you', 'doing']` <br>\n",
    "After encoding: `0002hi0004what0003are0003you0005doing`"
   ]
  },
  {
   "cell_type": "code",
   "execution_count": null,
   "id": "7c942b06",
   "metadata": {},
   "outputs": [],
   "source": [
    "def encode(strs: [str]) -> str:\n",
    "    \"\"\"Encodes a list of strings to a single string.\n",
    "    \"\"\"\n",
    "    res = [\"%04d\" % (len(s)) + s for s in strs]\n",
    "    return ''.join(res)\n",
    "        \n",
    "\n",
    "def decode(self, s: str) -> [str]:\n",
    "    \"\"\"Decodes a single string to a list of strings.\n",
    "    \"\"\"\n",
    "    i = 0\n",
    "    out = []\n",
    "    while i < len(s):\n",
    "        lenn = int(s[i:i+4])\n",
    "        out.append(s[i+4:i+4+lenn])\n",
    "        i += 4 + lenn\n",
    "    return out"
   ]
  },
  {
   "cell_type": "markdown",
   "id": "4a8afe30",
   "metadata": {},
   "source": [
    "### Reverse Integer\n",
    "\n",
    "https://leetcode.com/problems/reverse-integer/\n",
    "\n",
    "Easy. Just cast the integer to string and reverse it. Check also for the negative numbers and for overflow."
   ]
  },
  {
   "cell_type": "code",
   "execution_count": 2,
   "id": "c6e49a29",
   "metadata": {},
   "outputs": [],
   "source": [
    "def reverse(x: int) -> int:\n",
    "    if not x:\n",
    "        return 0\n",
    "    if len(str(x)) == 1:\n",
    "        return x\n",
    "\n",
    "    neg = False\n",
    "    if int(str(x)) < 0:\n",
    "        neg = True\n",
    "\n",
    "    if neg:\n",
    "        x = str(x)[1:]\n",
    "        if int(str(x)[::-1]) > 2**31-1:\n",
    "            return 0\n",
    "        return -int(str(x)[::-1])\n",
    "    else:\n",
    "        if int(str(x)[::-1]) > 2**31-1:\n",
    "            return 0\n",
    "        return int(str(x)[::-1])"
   ]
  },
  {
   "cell_type": "markdown",
   "id": "d8e5dbaf",
   "metadata": {},
   "source": [
    "### Roman to Integer\n",
    "\n",
    "https://leetcode.com/problems/roman-to-integer/\n",
    "    \n",
    "Easy. Two passes. In the first we check the \"subtract\" symbol values and add them to the answer and we replace these symbols from the initial string. Then, in the second pass, we just add the normal symbol values. <br>\n",
    "\n",
    "Time complexity is O(1) since the max number that can be represented is 3999. <br>\n",
    "Space complexity is O(1) since the dicts and list we store are constant, are upper bounded by the max number that can be represented."
   ]
  },
  {
   "cell_type": "code",
   "execution_count": 25,
   "id": "57a9bb63",
   "metadata": {},
   "outputs": [],
   "source": [
    "def romanToInt(s: str) -> int:\n",
    "    d = {'I':1, 'V':5, 'X':10, 'L':50, 'C':100, 'D':500, 'M':1000}\n",
    "    d2 = {'IV':4, 'IX':9, 'XL':40, 'XC':90, 'CD':400, 'CM':900}\n",
    "    idx = []\n",
    "    ans = 0\n",
    "    for i in range(len(s)-1):\n",
    "        if s[i:i+2] in d2:\n",
    "            ans += d2[s[i:i+2]]\n",
    "            idx.append(s[i:i+2])\n",
    "    for i in range(len(idx)):\n",
    "        s = s.replace(idx[i], '')\n",
    "    for i in s:\n",
    "        ans += d[i]\n",
    "\n",
    "    return ans"
   ]
  },
  {
   "cell_type": "markdown",
   "id": "6a127f3f",
   "metadata": {},
   "source": [
    "### Integer to Roman\n",
    "\n",
    "https://leetcode.com/problems/integer-to-roman/\n",
    "\n",
    "Fair enough. You need yo know how Roman numbers work. Suppose we have 658 to convert, how do we do? We need to subtract the max number we can, in this case is 500 becuase 500 is the greatest number we can subtract (the next one is 900). We use Binary Search to find this number. Then, the next number to use is 658 - 500. We proceed doing the same until we reach 0.\n",
    "\n",
    "The time complexity is O(1) since there is an upper bound on the iterations we can do, which is 15 (for the greater number representable which is 3999)."
   ]
  },
  {
   "cell_type": "code",
   "execution_count": null,
   "id": "11858869",
   "metadata": {},
   "outputs": [],
   "source": [
    "def intToRoman(num: int) -> str:\n",
    "    d = {1:'I', 4:'IV', 5:'V', 9:'IX', 10:'X', 40:'XL', 50:'L', 90:'XC', 100:'C', 400:'CD', 500:'D', 900:'CM', 1000:'M'}\n",
    "    if num in d:\n",
    "        return d[num]\n",
    "    l = list(d.keys())\n",
    "    ans = ''\n",
    "    while num != 0:\n",
    "        if num in d:\n",
    "            ans += d[num]\n",
    "            num -= num\n",
    "        else: \n",
    "            val = truncate(l, num)\n",
    "            ans += d[val]\n",
    "            num -= val\n",
    "    return ans\n",
    "\n",
    "def truncate(l, num):\n",
    "    if num > 1000:\n",
    "        return 1000\n",
    "    lo = 0\n",
    "    hi = len(l) - 1\n",
    "    while lo < hi:\n",
    "        mid = (lo + hi) // 2\n",
    "        if l[mid] < num and l[mid+1] > num:\n",
    "            return l[mid]\n",
    "\n",
    "        if l[mid] < num:\n",
    "            lo = mid + 1\n",
    "        else:\n",
    "            hi = mid - 1\n",
    "    return l[lo]       "
   ]
  },
  {
   "cell_type": "markdown",
   "id": "9dea2749",
   "metadata": {},
   "source": [
    "### Longest Common Prefix\n",
    "\n",
    "https://leetcode.com/problems/longest-common-prefix/\n",
    "    \n",
    "Take the first string as a reference. Check whether all the other strings have the same initial character as the reference string. If so, update the counter. Importantly, remember to check whether a string can be indexed with the given index, since we did not started with the string of the lesser length (in this way, we saved a loop)."
   ]
  },
  {
   "cell_type": "code",
   "execution_count": null,
   "id": "99b20aae",
   "metadata": {},
   "outputs": [],
   "source": [
    "def longestCommonPrefix(strs: List[str]) -> str:\n",
    "    if not strs:\n",
    "        return ''\n",
    "    c = 0\n",
    "    for i in range(len(strs[0])):\n",
    "        compare = strs[0][i]\n",
    "        for j in range(1, len(strs)):\n",
    "            if i >= len(strs[j]) or compare != strs[j][i]:\n",
    "                if c == 0:\n",
    "                    return ''\n",
    "                else:\n",
    "                    return strs[0][0:c]\n",
    "        c += 1\n",
    "    return strs[0][0:c]"
   ]
  },
  {
   "cell_type": "markdown",
   "id": "3eeff3eb",
   "metadata": {},
   "source": [
    "### Using custom sorted comparator\n",
    "https://leetcode.com/problems/largest-number/"
   ]
  },
  {
   "cell_type": "code",
   "execution_count": null,
   "id": "a6b34130",
   "metadata": {},
   "outputs": [],
   "source": [
    "# pramp exercise\n",
    "def absSort(arr):\n",
    "    return sorted(arr, cmp=compare)\n",
    "  \n",
    "def compare(a, b):\n",
    "    if abs(a) < abs(b): return -1\n",
    "    if abs(a) > abs(b): return 1\n",
    "    if a < b: return -1\n",
    "    if a > b: return 1\n",
    "    return 0\n"
   ]
  },
  {
   "cell_type": "code",
   "execution_count": null,
   "id": "bc83216e",
   "metadata": {},
   "outputs": [],
   "source": [
    "from functools import cmp_to_key\n",
    "\n",
    "class Solution:\n",
    "    def largestNumber(self, nums: List[int]) -> str:\n",
    "        for index, elem in enumerate(nums):\n",
    "            nums[index] = str(elem)\n",
    "            \n",
    "        def compare(x, y):\n",
    "            if x+y > y+x: # in positive case we return -1\n",
    "                return -1\n",
    "            elif x+y < y+x: # in negative case we return 1\n",
    "                return 1\n",
    "            else: # if they are equal, return 0\n",
    "                return 0 \n",
    "        nums = ''.join(sorted(nums, key=cmp_to_key(compare)))\n",
    "        return '0' if nums[0] == '0' else nums\n",
    "        \n",
    "        "
   ]
  },
  {
   "cell_type": "markdown",
   "id": "a030fe49",
   "metadata": {},
   "source": [
    "### Reverse Words in a String\n",
    "https://leetcode.com/problems/reverse-words-in-a-string/"
   ]
  },
  {
   "cell_type": "code",
   "execution_count": 56,
   "id": "15bbbd89",
   "metadata": {},
   "outputs": [],
   "source": [
    "class Solution:\n",
    "    def reverseWords(self, s: str) -> str:\n",
    "        s = s.strip()\n",
    "        s = s.split(' ')[::-1]\n",
    "        out = []\n",
    "        for i in range(len(s)):\n",
    "            if s[i] != '':\n",
    "                out.append(s[i])\n",
    "        return ' '.join(out)"
   ]
  },
  {
   "cell_type": "markdown",
   "id": "60d1940a",
   "metadata": {},
   "source": [
    "### Reverse Words in a String III\n",
    "https://leetcode.com/problems/reverse-words-in-a-string-iii/"
   ]
  },
  {
   "cell_type": "code",
   "execution_count": null,
   "id": "99474a28",
   "metadata": {},
   "outputs": [],
   "source": [
    "def reverseWords(self, s: str) -> str:\n",
    "        '''\n",
    "        Input: s = \"Let's take LeetCode contest\"\n",
    "        Output: \"s'teL ekat edoCteeL tsetnoc\"\n",
    "        '''\n",
    "        s = s.split()\n",
    "        for i in range(len(s)):\n",
    "            s[i] = s[i][::-1]\n",
    "        return ' '.join(s)"
   ]
  },
  {
   "cell_type": "markdown",
   "id": "bcf54a03",
   "metadata": {},
   "source": [
    "### Group Anagrams\n",
    "https://leetcode.com/problems/group-anagrams/"
   ]
  },
  {
   "cell_type": "code",
   "execution_count": null,
   "id": "799c6801",
   "metadata": {},
   "outputs": [],
   "source": [
    "class Solution:\n",
    "    def groupAnagrams(self, strs: List[str]) -> List[List[str]]:\n",
    "        hm = {}\n",
    "        for idx, elem in enumerate(strs):\n",
    "            arr = [0]*26\n",
    "            for char in elem:\n",
    "                arr[ord(char)-ord('a')] += 1\n",
    "            if tuple(arr) not in hm:\n",
    "                hm[tuple(arr)] = [elem]\n",
    "            else:\n",
    "                hm[tuple(arr)].append(elem)\n",
    "        return hm.values()"
   ]
  },
  {
   "cell_type": "markdown",
   "id": "9318ca9d",
   "metadata": {},
   "source": [
    "### Valid Anagram\n",
    "https://leetcode.com/problems/valid-anagram/"
   ]
  },
  {
   "cell_type": "code",
   "execution_count": null,
   "id": "46b10096",
   "metadata": {},
   "outputs": [],
   "source": [
    "class Solution:\n",
    "    def isAnagram(self, s: str, t: str) -> bool:\n",
    "        di = {}\n",
    "        for char in s:\n",
    "            if char not in di:\n",
    "                di[char] = 1\n",
    "            else:\n",
    "                di[char] += 1\n",
    "        for char in t:\n",
    "            if char not in di:\n",
    "                di[char] = 1\n",
    "            else:\n",
    "                di[char] -= 1\n",
    "        return all(v == 0 for v in di.values())"
   ]
  },
  {
   "cell_type": "markdown",
   "id": "1828088b",
   "metadata": {},
   "source": [
    "### Encode and Decode Strings\n",
    "https://leetcode.com/problems/encode-and-decode-strings/"
   ]
  },
  {
   "cell_type": "code",
   "execution_count": null,
   "id": "7ee864d5",
   "metadata": {},
   "outputs": [],
   "source": [
    "class Codec:\n",
    "    def encode(self, strs: List[str]) -> str:\n",
    "        \"\"\"Encodes a list of strings to a single string.\n",
    "        \"\"\"\n",
    "        outs = []\n",
    "        for idx, elem in enumerate(strs):\n",
    "            bits8 = '{:08b}'.format(len(elem))\n",
    "            outs.append(bits8)\n",
    "            outs.append(elem)\n",
    "        return ''.join(outs)  \n",
    "\n",
    "    def decode(self, s: str) -> List[str]:\n",
    "        \"\"\"Decodes a single string to a list of strings.\n",
    "        \"\"\"\n",
    "        outs = []\n",
    "        i = 0\n",
    "        current8 = []\n",
    "        # this empty_encountered serves for handling empty strings\n",
    "        empty_encountered = False\n",
    "        print(s)\n",
    "        while i < len(s):\n",
    "            if len(current8) < 8:\n",
    "                current8.append(s[i])\n",
    "                i += 1\n",
    "                empty_encountered = False\n",
    "            else:\n",
    "                empty_encountered = True\n",
    "                num = int(''.join(current8), 2)           \n",
    "                if num == 0:\n",
    "                    outs.append('')\n",
    "                    current8 = []\n",
    "                else:\n",
    "                    current8 = []\n",
    "                    cs = []\n",
    "                    for idx in range(i, i+num):\n",
    "                        cs.append(s[idx])\n",
    "                    outs.append(''.join(cs))\n",
    "\n",
    "                    i += num\n",
    "        if not empty_encountered:\n",
    "            outs.append('')\n",
    "        return outs\n",
    "            \n",
    "# Your Codec object will be instantiated and called as such:\n",
    "# codec = Codec()\n",
    "# codec.decode(codec.encode(strs))"
   ]
  },
  {
   "cell_type": "markdown",
   "id": "ad7dc8cf",
   "metadata": {},
   "source": [
    "### Valid Palindrome\n",
    "https://leetcode.com/problems/valid-palindrome/"
   ]
  },
  {
   "cell_type": "code",
   "execution_count": null,
   "id": "256fd179",
   "metadata": {},
   "outputs": [],
   "source": [
    "class Solution:\n",
    "    def isPalindrome(self, s: str) -> bool:\n",
    "        s = ''.join(ch for ch in s.lower() if ch.isalnum())\n",
    "        return s == s[::-1]"
   ]
  },
  {
   "cell_type": "markdown",
   "id": "8d1b4ec0",
   "metadata": {},
   "source": [
    "### Longest Substring Without Repeating Characters\n",
    "https://leetcode.com/problems/longest-substring-without-repeating-characters/"
   ]
  },
  {
   "cell_type": "code",
   "execution_count": null,
   "id": "69907a00",
   "metadata": {},
   "outputs": [],
   "source": [
    "class Solution:\n",
    "    def lengthOfLongestSubstring(self, s: str) -> int:\n",
    "        # a b b a\n",
    "        #   l r\n",
    "        # a:0, b:1\n",
    "        if not s: return 0\n",
    "        hm = {}\n",
    "        l, r, res = 0, 0, 0\n",
    "        while r < len(s):\n",
    "            if s[r] not in hm or hm[s[r]] == 0:\n",
    "                hm[s[r]] = 1\n",
    "                res = max(res, r-l+1)\n",
    "                r += 1\n",
    "            else:\n",
    "                while s[l] != s[r]:\n",
    "                    hm[s[l]] -= 1\n",
    "                    l += 1\n",
    "                    \n",
    "                hm[s[l]] -= 1\n",
    "                if hm[s[l]] == 0:\n",
    "                    del hm[s[l]]\n",
    "                l += 1\n",
    "        return res"
   ]
  },
  {
   "cell_type": "markdown",
   "id": "a6436852",
   "metadata": {},
   "source": [
    "###  Palindromic Substrings\n",
    "https://leetcode.com/problems/palindromic-substrings/"
   ]
  },
  {
   "cell_type": "code",
   "execution_count": null,
   "id": "31bcdba5",
   "metadata": {},
   "outputs": [],
   "source": [
    "class Solution:\n",
    "    def countSubstrings(self, s: str) -> int:\n",
    "        # a b b a\n",
    "        def expand_center(start, end):\n",
    "            counter = 0\n",
    "            while start >= 0 and end < len(s) and s[start] == s[end]:\n",
    "                start -= 1\n",
    "                end += 1\n",
    "                counter += 1\n",
    "            return counter\n",
    "        if len(s) == 1: return 1\n",
    "        out = 0\n",
    "        for i in range(len(s)):\n",
    "            out += expand_center(i, i)\n",
    "            if i+1 < len(s):\n",
    "                out += expand_center(i, i+1)\n",
    "        return out"
   ]
  },
  {
   "cell_type": "markdown",
   "id": "73129869",
   "metadata": {},
   "source": [
    "### Longest Palindromic Substring\n",
    "https://leetcode.com/problems/longest-palindromic-substring/"
   ]
  },
  {
   "cell_type": "code",
   "execution_count": null,
   "id": "50ead052",
   "metadata": {},
   "outputs": [],
   "source": [
    "class Solution:\n",
    "    def longestPalindrome(self, s: str) -> str:\n",
    "        # a b b a\n",
    "        def expand_center(start, end):\n",
    "            while start >= 0 and end < len(s) and s[start] == s[end]:\n",
    "                start -= 1\n",
    "                end += 1\n",
    "            return end-start-1, start+1, end-1\n",
    "        \n",
    "        if len(s) == 1: return s[0]\n",
    "        maxx = float('-inf')\n",
    "        res = ''\n",
    "        for i in range(len(s)):\n",
    "            length, l, r = expand_center(i, i)\n",
    "            if length > maxx:\n",
    "                maxx = length\n",
    "                res = s[l:r+1]\n",
    "            if i+1 < len(s):\n",
    "                length, l, r = expand_center(i, i+1)\n",
    "                if length > maxx:\n",
    "                    maxx = length\n",
    "                    res = s[l:r+1]\n",
    "        return res"
   ]
  },
  {
   "cell_type": "code",
   "execution_count": null,
   "id": "39b75c94",
   "metadata": {},
   "outputs": [],
   "source": []
  }
 ],
 "metadata": {
  "kernelspec": {
   "display_name": "Python 3",
   "language": "python",
   "name": "python3"
  },
  "language_info": {
   "codemirror_mode": {
    "name": "ipython",
    "version": 3
   },
   "file_extension": ".py",
   "mimetype": "text/x-python",
   "name": "python",
   "nbconvert_exporter": "python",
   "pygments_lexer": "ipython3",
   "version": "3.8.8"
  }
 },
 "nbformat": 4,
 "nbformat_minor": 5
}
