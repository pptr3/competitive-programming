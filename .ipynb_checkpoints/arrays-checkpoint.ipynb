{
 "cells": [
  {
   "cell_type": "markdown",
   "id": "f947e9b0",
   "metadata": {},
   "source": [
    "### Container-with-most-water\n",
    "https://leetcode.com/problems/container-with-most-water/"
   ]
  },
  {
   "cell_type": "code",
   "execution_count": null,
   "id": "7cc42dfd",
   "metadata": {},
   "outputs": [],
   "source": [
    "class Solution:\n",
    "    def maxArea(self, hei: List[int]) -> int:\n",
    "        maxwater = float('-inf')\n",
    "        left, right = 0, len(hei) - 1\n",
    "        while left < right:\n",
    "            maxwater = max(maxwater, (right - left)*min(hei[left], hei[right]))\n",
    "            if hei[left] < hei[right]:\n",
    "                left += 1\n",
    "            else:\n",
    "                right -= 1\n",
    "        return maxwater"
   ]
  },
  {
   "cell_type": "markdown",
   "id": "f24ef4db",
   "metadata": {},
   "source": [
    "### Two Sum II - Input Array Is Sorted\n",
    "https://leetcode.com/problems/two-sum-ii-input-array-is-sorted/\n",
    "\n",
    "_Classic two pointers_. One starting from the beginning and one from the end."
   ]
  },
  {
   "cell_type": "code",
   "execution_count": null,
   "id": "4038a4b0",
   "metadata": {},
   "outputs": [],
   "source": [
    "def twoSum(self, nums: List[int], target: int) -> List[int]:\n",
    "    left, right = 0, len(nums)-1\n",
    "    while left < right:\n",
    "        if nums[left] + nums[right] == target: return [left+1, right+1]\n",
    "        if nums[left] + nums[right] < target:\n",
    "            left += 1\n",
    "        else:\n",
    "            right -= 1"
   ]
  },
  {
   "cell_type": "markdown",
   "id": "5a3912eb",
   "metadata": {},
   "source": [
    "### 3Sum\n",
    "\n",
    "https://leetcode.com/problems/3sum/\n",
    "\n",
    "The last test does not pass. However, the complexity is the same ($O(N^2)$). Here we use a variation of TwoSum, where we append all the possible solution for TwoSum, not just the first one."
   ]
  },
  {
   "cell_type": "code",
   "execution_count": null,
   "id": "bd86414c",
   "metadata": {},
   "outputs": [],
   "source": [
    "def twoSum3(nums, target):\n",
    "    if not nums:\n",
    "        return None\n",
    "    if len(nums) == 1:\n",
    "        return None\n",
    "    \n",
    "    d = {}\n",
    "    out = []\n",
    "    for i in range(len(nums)):\n",
    "        intt = target - nums[i]\n",
    "        if intt in d:\n",
    "            out.append([d[intt], i])\n",
    "        else:\n",
    "            d[nums[i]] = i\n",
    "    return out\n",
    "\n",
    "def threeSum(nums):\n",
    "    if not nums:\n",
    "        return None\n",
    "    if len(nums) < 3:\n",
    "        return None\n",
    "    out = []\n",
    "    d = {}\n",
    "    for target in range(len(nums)):\n",
    "        # two sum\n",
    "        res = twoSum3(nums, -nums[target])\n",
    "        #print(res)\n",
    "        if res:\n",
    "            for i in range(len(res)):\n",
    "                if res[i][0] != target and res[i][1] != target:\n",
    "                    if tuple(sorted([nums[target], nums[res[i][0]], nums[res[i][1]]])) not in d:\n",
    "                        d[tuple(sorted([nums[target], nums[res[i][0]], nums[res[i][1]]]))] = 0\n",
    "                        out.append(tuple(sorted([nums[target], nums[res[i][0]], nums[res[i][1]]])))\n",
    "    for i in range(len(out)):\n",
    "        out[i] = list(out[i])\n",
    "    return out\n",
    "        \n",
    "# Another sol.\n",
    "def threeSum(nums):\n",
    "    if len(nums) < 3:\n",
    "        return None\n",
    "    d = {}\n",
    "    for i in range(len(nums)):\n",
    "        if nums[i] not in d:\n",
    "            d[nums[i]] = [i]\n",
    "        else:\n",
    "            print(\"q\")\n",
    "            d[nums[i]].append(i)\n",
    "    \n",
    "    out = []\n",
    "    for i in range(len(nums)):\n",
    "        for j in range(len(nums)):\n",
    "            if i != j:\n",
    "                nums_k = -nums[i] - nums[j]\n",
    "                if nums_k in d:\n",
    "                    indexes = d[nums_k]\n",
    "                    if len(indexes) == 1 and indexes[0] != i and indexes[0] != j:\n",
    "                        if tuple(sorted([nums[i], nums[j], nums[indexes[0]]])) not in out:\n",
    "                            out.append(tuple(sorted([nums[i], nums[j], nums[indexes[0]]])))\n",
    "                    elif len(indexes) > 1:\n",
    "                        idx_k = -1\n",
    "                        for k in range(len(indexes)):\n",
    "                            if indexes[k] != i and indexes[k] != j:\n",
    "                                if tuple(sorted([nums[i], nums[j], nums[indexes[k]]])) not in out:\n",
    "                                    out.append(tuple(sorted([nums[i], nums[j], nums[indexes[k]]])))\n",
    "    #from tuple to array\n",
    "    for i in range(len(out)):\n",
    "        out[i] = list(out[i])\n",
    "    return out\n",
    "        "
   ]
  },
  {
   "cell_type": "markdown",
   "id": "b5545dae",
   "metadata": {},
   "source": [
    "### Next-permutation\n",
    "\n",
    "https://leetcode.com/problems/next-permutation/solution/\n",
    "    \n",
    "Trick"
   ]
  },
  {
   "cell_type": "code",
   "execution_count": null,
   "id": "7fc27c7f",
   "metadata": {},
   "outputs": [],
   "source": [
    "a = [2,3,1,3,3]\n",
    "no_case = True\n",
    "for i in reversed(range(len(a))):\n",
    "    if a[i] > a[i-1] and i > 0:\n",
    "        no_case = False\n",
    "        val_just_greater = a[i]\n",
    "        idx = -1\n",
    "        for j in range(i+1, len(a)):\n",
    "            if a[j] > a[i-1] and a[j] <= val_just_greater:\n",
    "                val_just_greater = a[j]\n",
    "                idx = j\n",
    "        # swap\n",
    "        temp = a[i-1]\n",
    "        a[i-1] = val_just_greater\n",
    "        if idx != -1:\n",
    "            a[idx] = temp\n",
    "        else:\n",
    "            a[i] = temp\n",
    "        # reverse\n",
    "        k = len(a) - 1\n",
    "        while i < k:\n",
    "            a[i], a[k] = a[k], a[i]\n",
    "            i += 1\n",
    "            k -= 1\n",
    "        break\n",
    "        \n",
    "if no_case == True:\n",
    "    i = 0\n",
    "    k = len(a) - 1\n",
    "    while i < k:\n",
    "        a[i], a[k] = a[k], a[i]\n",
    "        i += 1\n",
    "        k -= 1    "
   ]
  },
  {
   "cell_type": "markdown",
   "id": "ad9accaf",
   "metadata": {},
   "source": [
    "### best-time-to-buy-and-sell-stock\n",
    "\n",
    "https://leetcode.com/problems/best-time-to-buy-and-sell-stock/solution/\n",
    "\n",
    "Two pointers starting at index 0 and 1. Once we find a local min, we set the left pointer to it and let the right pointer to interate to its right.\n",
    "A second solution is by using Kadane's algorihtm (DP)."
   ]
  },
  {
   "cell_type": "code",
   "execution_count": null,
   "id": "2c901b2b",
   "metadata": {},
   "outputs": [],
   "source": [
    "def maxProfit(prices): \n",
    "    if not prices:\n",
    "        return None\n",
    "    if  len(prices) == 1:\n",
    "        return 0\n",
    "\n",
    "    left = 0\n",
    "    mx = 0\n",
    "    for i in range(1, len(prices)):\n",
    "        if prices[i] - prices[left] > mx:\n",
    "            mx = prices[i] - prices[left]\n",
    "        if prices[left] > prices[i]:\n",
    "            left = i\n",
    "    return mx"
   ]
  },
  {
   "cell_type": "code",
   "execution_count": null,
   "id": "34782ce3",
   "metadata": {},
   "outputs": [],
   "source": [
    "def maxProfit_kadane(prices):\n",
    "    max_ending_here = max_so_far = 0\n",
    "    for i in range(1, len(prices)):\n",
    "        max_ending_here = max(max_ending_here+prices[i]-prices[i-1], prices[i]-prices[i-1])\n",
    "        max_so_far = max(max_ending_here, max_so_far)\n",
    "    return max_so_far\n",
    "maxProfit_kadane([1, 0, 8, 14])"
   ]
  },
  {
   "cell_type": "markdown",
   "id": "49773c3e",
   "metadata": {},
   "source": [
    "### contains-duplicate\n",
    "\n",
    "https://leetcode.com/problems/contains-duplicate/solution/\n",
    "\n",
    "Super easy. Simple hashmap / hashset."
   ]
  },
  {
   "cell_type": "code",
   "execution_count": null,
   "id": "bcfddf71",
   "metadata": {},
   "outputs": [],
   "source": [
    "def containsDuplicate(self, nums):\n",
    "    if not nums:\n",
    "        return None\n",
    "    if len(nums) == 1:\n",
    "        return False\n",
    "    d = {}\n",
    "    for i in nums:\n",
    "        if i in d:\n",
    "            return True\n",
    "        else:\n",
    "            d[i] = 0\n",
    "    return False"
   ]
  },
  {
   "cell_type": "markdown",
   "id": "4b624f43",
   "metadata": {},
   "source": [
    "### Product of Array Except Self\n",
    "\n",
    "https://leetcode.com/problems/product-of-array-except-self/\n",
    "\n",
    "Create left prefix array and right postfix array.\n",
    "Fill left and right array with 1 since the first number has no prefix and therefore we add 1 for its prefix.\n",
    "Then we compute the values of left as follows: at the i-iteration, the number to add in the left prefix array is computed as number[i-1] * left[i-1] (with number array the input).\n",
    "We do the same for the right array but backwards (we can do the same as the left array but remember to reverse the input and then reverse the right array). The overall output is the product-wise of the left and right array.\n",
    "NOTE: we can use O(1) space complexity instead of O(N)."
   ]
  },
  {
   "cell_type": "code",
   "execution_count": null,
   "id": "7120475a",
   "metadata": {},
   "outputs": [],
   "source": [
    "def productExceptSelf(nums):\n",
    "    left = [1]\n",
    "    right = [1]\n",
    "    for i in range(1, len(nums)):\n",
    "        left.append(left[i-1] * nums[i-1])\n",
    "\n",
    "    nums.reverse()\n",
    "\n",
    "    for i in range(1, len(nums)):\n",
    "        right.append(right[i-1] * nums[i-1])\n",
    "    right.reverse()\n",
    "\n",
    "    out = []\n",
    "\n",
    "    for i in range(len(left)):\n",
    "        out.append(left[i] * right[i])\n",
    "\n",
    "    return out        "
   ]
  },
  {
   "cell_type": "markdown",
   "id": "04b879e5",
   "metadata": {},
   "source": [
    "### Maximum Subarray\n",
    "\n",
    "https://leetcode.com/problems/maximum-subarray/\n",
    "\n",
    "Kadane's algorithm"
   ]
  },
  {
   "cell_type": "code",
   "execution_count": null,
   "id": "3edd24f8",
   "metadata": {},
   "outputs": [],
   "source": [
    "def maxSubArray(nums):\n",
    "    if not nums:\n",
    "        return None\n",
    "    mx = nums[0]\n",
    "    out = nums[0]\n",
    "    for i in range(1, len(nums)):\n",
    "        mx = max(nums[i], mx + nums[i])\n",
    "        out = max(mx, out)\n",
    "    return out"
   ]
  },
  {
   "cell_type": "code",
   "execution_count": null,
   "id": "77d959af",
   "metadata": {},
   "outputs": [],
   "source": [
    "maxSubArray([2,-4,5,6])"
   ]
  },
  {
   "cell_type": "markdown",
   "id": "23608ade",
   "metadata": {},
   "source": [
    "### Maximum Product Subarray\n",
    "\n",
    "https://leetcode.com/problems/maximum-product-subarray/\n",
    "\n",
    "Assumption that holds: product of every number and keep track of the maximum. If I encounter a zero, reset the current product to 1. If I do the same for the reversed input, I find the max product subarray."
   ]
  },
  {
   "cell_type": "code",
   "execution_count": null,
   "id": "1ab3c6f1",
   "metadata": {},
   "outputs": [],
   "source": [
    "from math import inf\n",
    "\n",
    "def maxProduct(nums):\n",
    "    return max(\n",
    "        get_max(nums), \n",
    "        get_max(reversed(nums))\n",
    "    )\n",
    "    \n",
    "def get_max(numbers):\n",
    "    largest_prod = -inf\n",
    "    current_prod = 1\n",
    "\n",
    "    for num in numbers:\n",
    "        current_prod *= num\n",
    "        largest_prod = max(current_prod, largest_prod)\n",
    "\n",
    "        # Reset if 0 is seen\n",
    "        if current_prod == 0: current_prod = 1\n",
    "\n",
    "    return largest_prod"
   ]
  },
  {
   "cell_type": "markdown",
   "id": "046c6b94",
   "metadata": {},
   "source": [
    "### Find First and Last Position of Element in Sorted Array\n",
    "\n",
    "https://leetcode.com/problems/find-first-and-last-position-of-element-in-sorted-array/"
   ]
  },
  {
   "cell_type": "code",
   "execution_count": null,
   "id": "fa59591a",
   "metadata": {},
   "outputs": [],
   "source": [
    "# TEMPLATE\n",
    "def searchRange(self, nums: List[int], target: int) -> List[int]:\n",
    "        if not nums: return [-1,-1]\n",
    "        lo, hi = -1, len(nums)\n",
    "        while lo < hi-1:\n",
    "            mid = (lo+hi)//2\n",
    "            if nums[mid] >= target: # if this is true, i need to go left\n",
    "                hi = mid\n",
    "            else:\n",
    "                lo = mid\n",
    "        res1 = hi\n",
    "        lo, hi = -1, len(nums)\n",
    "        while lo < hi-1:\n",
    "            mid = (lo+hi)//2\n",
    "            if nums[mid] > target: # if this is true, i need to go left\n",
    "                hi = mid\n",
    "            else:\n",
    "                lo = mid\n",
    "        return [res1, lo] if res1 <= lo else [-1,-1]\n",
    "\n",
    "def searchRange(self, nums: List[int], target: int) -> List[int]:\n",
    "        if not nums or (len(nums) == 1 and target != nums[0]): return [-1,-1]\n",
    "        if len(nums) == 1 and target == nums[0]: return [0,0]\n",
    "        def binary_search():\n",
    "            lo, hi = 0, len(nums) - 1\n",
    "            while lo <= hi:\n",
    "                mid = (lo+hi)//2\n",
    "                if (nums[mid] == target and nums[mid-1] < target):\n",
    "                    return mid\n",
    "                elif nums[0] == target:\n",
    "                    return 0\n",
    "                elif (nums[mid] == target and nums[mid-1] == target) or (nums[mid] > target):\n",
    "                    hi = mid - 1\n",
    "                else:\n",
    "                    lo = mid + 1\n",
    "            return -1\n",
    "        \n",
    "        def binary_search2():\n",
    "            lo, hi = 0, len(nums) - 1\n",
    "            while lo <= hi:\n",
    "                mid = (lo+hi)//2\n",
    "                if (nums[mid] == target and nums[mid+1] > target):\n",
    "                    return mid\n",
    "                elif nums[-1] == target:\n",
    "                    return len(nums)-1\n",
    "                elif (nums[mid] == target and nums[mid+1] == target) or (nums[mid] < target):\n",
    "                    lo = mid + 1\n",
    "                else:\n",
    "                    hi = mid - 1\n",
    "            return -1\n",
    "        left = binary_search()\n",
    "        right = binary_search2()\n",
    "        return [left, right]"
   ]
  },
  {
   "cell_type": "code",
   "execution_count": null,
   "id": "0df19535",
   "metadata": {},
   "outputs": [],
   "source": []
  },
  {
   "cell_type": "markdown",
   "id": "538601b5",
   "metadata": {},
   "source": [
    "### Palindrome Number\n",
    "\n",
    "https://leetcode.com/problems/palindrome-number/\n",
    "\n",
    "Pretty easy. Use `x % 10` to get the last number of the interget and store it in a list that you will use for the palindrome check and use `x = x // 10` to get all the other numbers but the last one."
   ]
  },
  {
   "cell_type": "code",
   "execution_count": null,
   "id": "b2efccfd",
   "metadata": {},
   "outputs": [],
   "source": [
    "def isPalindrome(x: int) -> bool:\n",
    "    if x < 0:\n",
    "        return False\n",
    "    print(x)\n",
    "    l = []\n",
    "    if x > 0:\n",
    "        while x:\n",
    "            last_number = x % 10\n",
    "            l.append(last_number)\n",
    "            x //= 10\n",
    "        left = 0\n",
    "        right = len(l) - 1\n",
    "        while left < right:\n",
    "            if l[left] != l[right]:\n",
    "                return False\n",
    "            left += 1\n",
    "            right -= 1\n",
    "\n",
    "        return True\n",
    "    else:\n",
    "        return True"
   ]
  },
  {
   "cell_type": "markdown",
   "id": "21cc1f42",
   "metadata": {},
   "source": [
    "Given a nums array, find the number of index pairs $(i, j)$ with $0 <= i < j < n$ that satisfy the condition $nums[i] + nums[j] < target$."
   ]
  },
  {
   "cell_type": "code",
   "execution_count": null,
   "id": "d3173b1f",
   "metadata": {},
   "outputs": [],
   "source": [
    "def twoSumSmaller(nums, target):\n",
    "    nums.sort()\n",
    "    count = 0\n",
    "    for j in range(len(nums)):\n",
    "        compl = target - nums[j]\n",
    "        count += binarySearch(nums, compl)\n",
    "    return count\n",
    "\n",
    "def binarySearch(nums, compl):\n",
    "    if compl > nums[len(nums) - 1]:\n",
    "        return 1\n",
    "    if compl <= nums[0]:\n",
    "        return 0\n",
    "    lo = 0\n",
    "    hi = len(nums) - 1\n",
    "    while lo < hi:\n",
    "        mid = (lo + hi) // 2\n",
    "        if nums[mid] <= compl and nums[mid+1] < compl:\n",
    "            return 1\n",
    "        if nums[mid] >= compl and nums[mid-1] < compl:\n",
    "            return 1 \n",
    "        elif nums[mid] > compl:\n",
    "            hi = mid - 1\n",
    "        else:\n",
    "            lo = mid + 1\n",
    "    return None"
   ]
  },
  {
   "cell_type": "markdown",
   "id": "067ad76c",
   "metadata": {},
   "source": [
    "### Replace Elements with Greatest Element on Right Side\n",
    "\n",
    "https://leetcode.com/problems/replace-elements-with-greatest-element-on-right-side/\n",
    "\n",
    "Start from back and keep track of the current max. O(n)"
   ]
  },
  {
   "cell_type": "code",
   "execution_count": null,
   "id": "7c97b2a2",
   "metadata": {},
   "outputs": [],
   "source": [
    "def replaceElements(arr):\n",
    "    if not arr:\n",
    "        return None\n",
    "    if len(arr) == 1:\n",
    "        arr[0] = -1\n",
    "        return arr\n",
    "    tmp = arr[len(arr)-1]\n",
    "    arr[len(arr)-1] = -1\n",
    "\n",
    "    for i in reversed(range(len(arr)-1)):\n",
    "        tmp2 = max(tmp, arr[i]) # 6\n",
    "        arr[i] = tmp\n",
    "        tmp = tmp2\n",
    "    return arr"
   ]
  },
  {
   "cell_type": "code",
   "execution_count": null,
   "id": "603bb655",
   "metadata": {},
   "outputs": [],
   "source": []
  },
  {
   "cell_type": "code",
   "execution_count": null,
   "id": "4b79b32c",
   "metadata": {},
   "outputs": [],
   "source": []
  },
  {
   "cell_type": "code",
   "execution_count": null,
   "id": "35efeed1",
   "metadata": {},
   "outputs": [],
   "source": [
    "def get_shortest_unique_substring(arr, str):\n",
    "    if len(arr) == 1 and len(str) == 1 and arr[0] == str[0]:\n",
    "        return 1\n",
    "    if len(arr) == 1 and len(str) == 1 and arr[0] != str[0]:\n",
    "        return 'empty'\n",
    "    l, r, counter = 0, 0, 0\n",
    "    hm = {}\n",
    "    ans = float(\"+inf\")\n",
    "    # x: 2\n",
    "    # y: 1\n",
    "    # z: 1\n",
    "    for i in range(len(arr)):\n",
    "        if arr[i] not in hm:\n",
    "            hm[arr[i]] = [0, False]    \n",
    "    while True:\n",
    "        # move right untile counter == len(arr)\n",
    "        while r < len(str) and counter < len(arr):\n",
    "            if str[r] in hm and not hm[str[r]][1]:\n",
    "                counter += 1\n",
    "                hm[str[r]][1] = True\n",
    "                hm[str[r]][0] += 1\n",
    "            elif str[r] in hm and hm[str[r]][1]:\n",
    "                hm[str[r]][0] += 1\n",
    "            r += 1\n",
    "        # move left until counter < len(arr) \n",
    "        while l < len(str) and counter == len(arr):\n",
    "            popped = str[l]\n",
    "            if popped in hm:\n",
    "                hm[popped][0] -= 1\n",
    "                if hm[popped][0] == 0:\n",
    "                    hm[popped][1] = False\n",
    "                    counter -= 1\n",
    "            l += 1\n",
    "            # update ans here because in the previous while, r++ has been ran, so to be consistent, we need to run\n",
    "            # when we update l++ too\n",
    "            ans = min(r-l+1, ans)\n",
    "            \n",
    "        if counter < len(arr) and r == len(str):\n",
    "            break\n",
    "    return 'empty' if ans == float('+inf') else ans"
   ]
  },
  {
   "cell_type": "code",
   "execution_count": null,
   "id": "0d977008",
   "metadata": {},
   "outputs": [],
   "source": [
    "arr = ['x', 'y', 'z']\n",
    "st = 'xxydddzddxaaaaaaaaaaaaaaaayz'\n",
    "get_shortest_unique_substring(arr, st)"
   ]
  },
  {
   "cell_type": "code",
   "execution_count": null,
   "id": "9d44c96e",
   "metadata": {},
   "outputs": [],
   "source": []
  },
  {
   "cell_type": "code",
   "execution_count": null,
   "id": "fb1293d7",
   "metadata": {},
   "outputs": [],
   "source": []
  },
  {
   "cell_type": "code",
   "execution_count": null,
   "id": "47bb89b4",
   "metadata": {},
   "outputs": [],
   "source": []
  },
  {
   "cell_type": "code",
   "execution_count": null,
   "id": "e97c7952",
   "metadata": {},
   "outputs": [],
   "source": []
  },
  {
   "cell_type": "code",
   "execution_count": null,
   "id": "15010cb2",
   "metadata": {},
   "outputs": [],
   "source": []
  },
  {
   "cell_type": "code",
   "execution_count": null,
   "id": "c0d3920f",
   "metadata": {},
   "outputs": [],
   "source": [
    "def nextClosestTime(time) -> str:\n",
    "    digits = set(time)\n",
    "    h_m = time.split(':')\n",
    "    tot_mins = int(h_m[0])*60 + int(h_m[1])\n",
    "\n",
    "    while True:\n",
    "        tot_mins = (tot_mins + 1) % (24*60)\n",
    "        h = tot_mins // 60\n",
    "        m = tot_mins % 60\n",
    "        res = \"{:02d}:{:02d}\".format(h, m)\n",
    "        # This is saying that all elements of res must be a subset or equivalent\n",
    "        # set to all elements in digits\n",
    "        print(set(res), digits)\n",
    "        if set(res) <= digits:\n",
    "            return res"
   ]
  },
  {
   "cell_type": "code",
   "execution_count": 2,
   "id": "d5255abb",
   "metadata": {},
   "outputs": [
    {
     "data": {
      "text/plain": [
       "'003:40'"
      ]
     },
     "execution_count": 2,
     "metadata": {},
     "output_type": "execute_result"
    }
   ],
   "source": [
    "\"{:03d}:{:02d}\".format(3, 40)"
   ]
  },
  {
   "cell_type": "code",
   "execution_count": null,
   "id": "727fbd54",
   "metadata": {},
   "outputs": [],
   "source": [
    "a = [[]]\n",
    "len(a[0])"
   ]
  },
  {
   "cell_type": "code",
   "execution_count": null,
   "id": "c5b5bf03",
   "metadata": {},
   "outputs": [],
   "source": [
    "a = [0, 0]\n",
    "all(i == 0 for i in a)"
   ]
  },
  {
   "cell_type": "markdown",
   "id": "f304ac1f",
   "metadata": {},
   "source": [
    "Given the stock prices of n months, the net price change for the i-th month is defined as the absolute difference between the average of stock prices for the first i months and for the remaining (n-i) months where 1 <= i < n. These averages are rounded down to an integer.\n",
    "\n",
    "Given an array of stock prices, find the month at which the net price change is minimum. If there are several such months, return the earliest month."
   ]
  },
  {
   "cell_type": "code",
   "execution_count": null,
   "id": "ba564434",
   "metadata": {},
   "outputs": [],
   "source": [
    "stock=[1,3,2,3]\n",
    "out = [3,1,0,1]"
   ]
  },
  {
   "cell_type": "code",
   "execution_count": null,
   "id": "d8e82a25",
   "metadata": {},
   "outputs": [],
   "source": [
    "tot_sum = int(sum(stock))"
   ]
  },
  {
   "cell_type": "code",
   "execution_count": null,
   "id": "d7122c15",
   "metadata": {},
   "outputs": [],
   "source": [
    "sum_left = 2\n",
    "sum_right = tot_sum - sum_left\n",
    "int(abs(sum_left-sum_right)/5)"
   ]
  },
  {
   "cell_type": "code",
   "execution_count": null,
   "id": "9bcabda3",
   "metadata": {},
   "outputs": [],
   "source": [
    "tot_sum = int(sum(stock))\n",
    "out = []\n",
    "sum_left = 0\n",
    "for idx in range(len(stock)-1):\n",
    "    sum_left += stock[idx]\n",
    "    sum_right = tot_sum - sum_left\n",
    "    out.append(int(abs(sum_left-sum_right)/len(stock)))\n",
    "min_price_change_month_index = out.index(min(out))\n",
    "min_price_change_month_index"
   ]
  },
  {
   "cell_type": "markdown",
   "id": "eb041574",
   "metadata": {},
   "source": [
    "### Search a 2D Matrix\n",
    "https://leetcode.com/problems/search-a-2d-matrix/"
   ]
  },
  {
   "cell_type": "code",
   "execution_count": null,
   "id": "bc89a927",
   "metadata": {},
   "outputs": [],
   "source": [
    "def searchMatrix(self, matrix: List[List[int]], target: int) -> bool:\n",
    "    # binary search for col\n",
    "    lo, hi = 0, len(matrix) - 1\n",
    "    while lo < hi:\n",
    "        mid = (lo+hi) // 2\n",
    "        if matrix[mid][0] == target:\n",
    "            return True\n",
    "        elif matrix[mid][0] < target:\n",
    "            lo = mid + 1\n",
    "        else:\n",
    "            hi = mid - 1\n",
    "\n",
    "    def bs(low, high, lo):\n",
    "        while low <= high:\n",
    "            mid = (low+high) // 2\n",
    "            if matrix[lo][mid] == target:\n",
    "                return True\n",
    "            elif matrix[lo][mid] < target:\n",
    "                low = mid + 1\n",
    "            else:\n",
    "                high = mid - 1\n",
    "        return False\n",
    "    # row found == lo\n",
    "    low, high = 0, len(matrix[0]) - 1\n",
    "    first = bs(low, high, lo)\n",
    "    sec = bs(low, high, lo-1)\n",
    "    return first or sec"
   ]
  },
  {
   "cell_type": "markdown",
   "id": "6f26fa21",
   "metadata": {},
   "source": [
    "### Search a 2D Matrix II\n",
    "https://leetcode.com/problems/search-a-2d-matrix-ii/"
   ]
  },
  {
   "cell_type": "code",
   "execution_count": null,
   "id": "bad24703",
   "metadata": {},
   "outputs": [],
   "source": [
    "def searchMatrix(self, matrix: List[List[int]], target: int) -> bool:\n",
    "    row, col = 0, len(matrix[0])-1\n",
    "    while row < len(matrix) and col >= 0:\n",
    "        if matrix[row][col] == target:\n",
    "            return True\n",
    "        if matrix[row][col] < target:\n",
    "            row += 1\n",
    "        else:\n",
    "            col -= 1\n",
    "    return False\n",
    "        "
   ]
  },
  {
   "cell_type": "markdown",
   "id": "0ab2c078",
   "metadata": {},
   "source": [
    "# Binary Search\n",
    "\n",
    "### Vanilla Binary Search\n",
    "https://leetcode.com/problems/binary-search/\n",
    "\n",
    "```python\n",
    "def search(self, nums: List[int], target: int) -> int:\n",
    "        l = -1\n",
    "        r = len(nums)\n",
    "        \n",
    "        while l < r - 1:\n",
    "            m = (l + r) // 2\n",
    "            if nums[m] >= target:\n",
    "                r = m\n",
    "            else:\n",
    "                l = m\n",
    "        \n",
    "        if r == len(nums):\n",
    "            return -1\n",
    "        if nums[r] == target:\n",
    "            return r\n",
    "        else:\n",
    "            return -1\n",
    "```"
   ]
  },
  {
   "cell_type": "markdown",
   "id": "b5325ee5",
   "metadata": {},
   "source": [
    "**Searching for a specific target >= or <=**\n",
    "\n",
    "The result will be the first \"1\". If we have the **==** that triggers the search on the _left_ (right = m), then the result will be on the _right_ pointer. <br>\n",
    "On the other hand, if the **==** is on the right search, it will be on the _left_ pointer because we are \"moving\" the **==** in the _else_ statement. <br>\n",
    "If I want the result to be on the _right_ pointer, I need to put the **==** on the \"r = m\", so when we search on the left (we get the first 1).\n",
    "\n",
    "**IF THE TARGET EXISTS**, this means that could not exists, so we need to make a check.\n",
    "\n",
    "\n",
    "**Searching for stuff**\n",
    "\n",
    "Searching for like the minimum in rotated array, peak element, or in general searching for a position or a non target value that depends on the neighbors for examples.\n",
    "\n",
    "The result of **first 1** will be on _right_ pointer if we put the equals sign **=**. While the **last 0** will be on _left_ pointer.\n",
    "We return one pointer rather than the other pointer depending on what we need to return."
   ]
  },
  {
   "cell_type": "code",
   "execution_count": null,
   "id": "0f88cdd1",
   "metadata": {},
   "outputs": [],
   "source": [
    "class Solution:\n",
    "    def searchRange(self, nums: List[int], target: int) -> List[int]:\n",
    "        if len(nums) == 0: return [-1, -1]\n",
    "        lo, hi = -1, len(nums)\n",
    "        while lo < hi-1:\n",
    "            mid = (lo+hi)//2\n",
    "            if nums[mid] >= target:\n",
    "                hi = mid\n",
    "            else:\n",
    "                lo = mid\n",
    "        first = hi\n",
    "        lo, hi = -1, len(nums)\n",
    "        while lo < hi-1:\n",
    "            mid = (lo+hi)//2\n",
    "            if nums[mid] > target:\n",
    "                hi = mid\n",
    "            else:\n",
    "                lo = mid\n",
    "        return [first, lo] if first != -1 and lo != -1 and lo >= first else [-1,-1]\n",
    "        \n",
    "        "
   ]
  },
  {
   "cell_type": "markdown",
   "id": "0d4292e9",
   "metadata": {},
   "source": [
    "### Find Peak Element\n",
    "https://leetcode.com/problems/find-peak-element/"
   ]
  },
  {
   "cell_type": "code",
   "execution_count": null,
   "id": "40701253",
   "metadata": {},
   "outputs": [],
   "source": [
    "# f(lb) and f(ub) non verranno mai chiamati \n",
    "# TEMPLATE\n",
    "class Solution:\n",
    "    def findPeakElement(self, nums: List[int]) -> int:\n",
    "        lo, hi = -1, len(nums)\n",
    "        if len(nums) == 1: return 0\n",
    "        while lo < hi - 1:\n",
    "            mid = (lo+hi)//2\n",
    "            if mid+1 == len(nums):\n",
    "                hi = mid\n",
    "            elif nums[mid] > nums[mid + 1]: # decreasing nums, search left\n",
    "                hi = mid\n",
    "            else: # now increasing: search right\n",
    "                lo = mid\n",
    "        return hi\n",
    "\n",
    "def findPeakElement(self, nums: List[int]) -> int:\n",
    "    '''\n",
    "    nums = [1,2,1,3,5,6,4]\n",
    "    '''\n",
    "    lo, hi = 0, len(nums) - 1\n",
    "    while lo < hi:\n",
    "        mid = (lo+hi) // 2\n",
    "        if nums[mid] > nums[mid+1]:\n",
    "            hi = mid\n",
    "        else:\n",
    "            lo = mid+1\n",
    "    return lo"
   ]
  },
  {
   "cell_type": "markdown",
   "id": "5dd0e5a7",
   "metadata": {},
   "source": [
    "### Find Minimum in Rotated Sorted Array\n",
    "https://leetcode.com/problems/find-minimum-in-rotated-sorted-array/"
   ]
  },
  {
   "cell_type": "code",
   "execution_count": null,
   "id": "14e3e65d",
   "metadata": {},
   "outputs": [],
   "source": [
    "### TEMPLATE\n",
    "def findMin(self, nums: List[int]) -> int:\n",
    "    if nums[0] < nums[-1] or len(nums) == 1: return nums[0]\n",
    "    lo, hi = 0, len(nums)\n",
    "    while lo < hi-1:\n",
    "        mid = (lo+hi)//2\n",
    "        if nums[mid] <= nums[lo]:\n",
    "            hi = mid\n",
    "        else:\n",
    "            lo = mid\n",
    "    return nums[hi]\n",
    "\n",
    "class Solution:\n",
    "    ### TEMPLATE\n",
    "    def findMin(self, nums: List[int]) -> int:\n",
    "        if nums[0] < nums[-1] or len(nums) == 1: return nums[0]\n",
    "        lo, hi = 0, len(nums)\n",
    "        while lo < hi-1:\n",
    "            mid = (lo+hi)//2\n",
    "            if nums[mid] <= nums[0]:\n",
    "                hi = mid\n",
    "            else:\n",
    "                lo = mid\n",
    "        return nums[hi]"
   ]
  },
  {
   "cell_type": "markdown",
   "id": "5469ee43",
   "metadata": {},
   "source": [
    "### Find Minimum in Rotated Sorted Array II\n",
    "https://leetcode.com/problems/find-minimum-in-rotated-sorted-array-ii/\n",
    "\n",
    "Trick: as normal find min in rotated array. But if the elements are equal, shrink right to right - 1. In the worst case (all elements are equal) it will be linear time complexity."
   ]
  },
  {
   "cell_type": "code",
   "execution_count": null,
   "id": "d4311435",
   "metadata": {},
   "outputs": [],
   "source": [
    "class Solution:\n",
    "    def findMin(self, nums: List[int]) -> int:\n",
    "        # binary search\n",
    "        \n",
    "        if len(nums) == 1: return nums[0]\n",
    "        if nums[0] < nums[len(nums)-1]: return nums[0]\n",
    "        l, r = 0, len(nums)-1\n",
    "        prev = 0\n",
    "        while l < r-1:\n",
    "            mid = (l+r)//2\n",
    "            if nums[mid] > nums[r]:\n",
    "                l = mid # search right\n",
    "            elif nums[mid] < nums[r]:\n",
    "                r = mid\n",
    "            else:\n",
    "                r -= 1\n",
    "                \n",
    "        return nums[r]"
   ]
  },
  {
   "cell_type": "markdown",
   "id": "d437d847",
   "metadata": {},
   "source": [
    "### Search in Rotated Sorted Array\n",
    "https://leetcode.com/problems/search-in-rotated-sorted-array/"
   ]
  },
  {
   "cell_type": "code",
   "execution_count": null,
   "id": "15bf059b",
   "metadata": {},
   "outputs": [],
   "source": [
    "# TEMPLATE  \n",
    "def search(self, nums: List[int], target: int) -> int:\n",
    "    if len(nums) == 1 and nums[0] == target: return 0\n",
    "    if len(nums) == 1 and nums[0] != target: return -1\n",
    "\n",
    "    def binary_search(arr, som):\n",
    "        lo, hi = -1, len(arr)\n",
    "        while lo < hi-1:\n",
    "            mid = (lo+hi)//2\n",
    "            if arr[mid] >= target:\n",
    "                hi = mid\n",
    "            else:\n",
    "                lo = mid\n",
    "        return hi+som if hi < len(arr) and arr[hi] == target else -1\n",
    "\n",
    "    # if not rotated\n",
    "    if nums[0] < nums[-1]:\n",
    "        return binary_search(nums, 0)\n",
    "    # find min\n",
    "    lo, hi = 0, len(nums)\n",
    "    while lo < hi-1:\n",
    "        mid = (lo+hi)//2\n",
    "        if nums[mid] > nums[0]:\n",
    "            lo = mid\n",
    "        else:\n",
    "            hi = mid\n",
    "    left = binary_search(nums[:hi], 0)\n",
    "    right = binary_search(nums[hi:], hi)\n",
    "    if left != -1: return left\n",
    "    if right != -1: return right\n",
    "    return -1"
   ]
  },
  {
   "cell_type": "code",
   "execution_count": null,
   "id": "636a4fb0",
   "metadata": {},
   "outputs": [],
   "source": []
  },
  {
   "cell_type": "code",
   "execution_count": null,
   "id": "8bb298fa",
   "metadata": {},
   "outputs": [],
   "source": []
  },
  {
   "cell_type": "code",
   "execution_count": null,
   "id": "c5d97508",
   "metadata": {},
   "outputs": [],
   "source": []
  },
  {
   "cell_type": "markdown",
   "id": "d0dec29c",
   "metadata": {},
   "source": [
    "### Find K Closest Elements\n",
    "https://leetcode.com/problems/find-k-closest-elements/"
   ]
  },
  {
   "cell_type": "code",
   "execution_count": null,
   "id": "ddd6f83a",
   "metadata": {},
   "outputs": [],
   "source": [
    "def findClosestElements(self, arr: List[int], k: int, x: int) -> List[int]:\n",
    "        if len(arr) == 1 and k == 1: return arr\n",
    "        # find min in abs wrt x\n",
    "        lo, hi = 0, len(arr)-1\n",
    "        curr_min, idx = float('+inf'), 0\n",
    "        while lo < hi-1:\n",
    "            mid = (lo+hi) // 2\n",
    "            if mid-1 < 0 or mid+1 >= len(arr):\n",
    "                idx = mid\n",
    "                break\n",
    "            if abs(arr[mid] - x) <= curr_min:\n",
    "                curr_min = abs(arr[mid] - x)\n",
    "                idx = mid\n",
    "            if abs(arr[mid-1] - x) < abs(arr[mid+1] - x):\n",
    "                hi = mid - 1\n",
    "            elif abs(arr[mid-1] - x) == abs(arr[mid+1] - x):\n",
    "                if arr[mid-1] - x < 0:\n",
    "                    lo = mid \n",
    "                else:\n",
    "                    hi = mid - 1\n",
    "            else:\n",
    "                lo = mid\n",
    "        left, right = idx, idx\n",
    "        counter = 1\n",
    "        while counter < k:\n",
    "            if left-1 >= 0 and right+1 < len(arr):\n",
    "                if abs(arr[left-1] - x) < abs(arr[right+1] - x):\n",
    "                    left -= 1\n",
    "                elif abs(arr[left-1] - x) == abs(arr[right+1] - x):\n",
    "                    if arr[left-1]  < arr[right+1]:\n",
    "                        left -= 1\n",
    "                    else:\n",
    "                        right += 1\n",
    "                else:\n",
    "                    right += 1\n",
    "            elif left-1 < 0:\n",
    "                right += 1\n",
    "            else:\n",
    "                left -= 1\n",
    "            counter += 1\n",
    "        return arr[left:right+1]\n",
    "    \n",
    "'''\n",
    "A clearner while loop< for sliding windows\n",
    "# While the window size is less than k\n",
    "while right - left - 1 < k:\n",
    "    # Be careful to not go out of bounds\n",
    "    if left == -1:\n",
    "        right += 1\n",
    "        continue\n",
    "\n",
    "    # Expand the window towards the side with the closer number\n",
    "    # Be careful to not go out of bounds with the pointers\n",
    "    if right == len(arr) or abs(arr[left] - x) <= abs(arr[right] - x):\n",
    "        left -= 1\n",
    "    else:\n",
    "        right += 1\n",
    "\n",
    "# Return the window\n",
    "return arr[left + 1:right]\n",
    "'''"
   ]
  },
  {
   "cell_type": "markdown",
   "id": "162704d9",
   "metadata": {},
   "source": [
    "### Closest Binary Search Tree Value\n",
    "\n",
    "https://leetcode.com/problems/closest-binary-search-tree-value/"
   ]
  },
  {
   "cell_type": "code",
   "execution_count": null,
   "id": "260531be",
   "metadata": {},
   "outputs": [],
   "source": [
    "# Definition for a binary tree node.\n",
    "# class TreeNode:\n",
    "#     def __init__(self, val=0, left=None, right=None):\n",
    "#         self.val = val\n",
    "#         self.left = left\n",
    "#         self.right = right\n",
    "class Solution:\n",
    "    def closestValue(self, root: Optional[TreeNode], target: float) -> int:\n",
    "        diff = [float('+inf'), float('+inf')]\n",
    "        while root:\n",
    "            if abs(target-root.val) < diff[0]:\n",
    "                diff[0] = abs(target-root.val)\n",
    "                diff[1] = root.val\n",
    "            if target < root.val:\n",
    "                root = root.left\n",
    "            else:\n",
    "                root = root.right\n",
    "        return diff[1]                "
   ]
  },
  {
   "cell_type": "markdown",
   "id": "d03c8377",
   "metadata": {},
   "source": [
    "### Search in a Sorted Array of Unknown Size\n",
    "https://leetcode.com/problems/search-in-a-sorted-array-of-unknown-size/"
   ]
  },
  {
   "cell_type": "code",
   "execution_count": null,
   "id": "9ee6fee2",
   "metadata": {},
   "outputs": [],
   "source": [
    "# TEMPLATE\n",
    "\n",
    "def search(self, reader: 'ArrayReader', target: int) -> int:\n",
    "    lo, hi = -1, 10**4\n",
    "    while lo < hi-1:\n",
    "        mid = (lo+hi)//2\n",
    "        if reader.get(mid) >= target:\n",
    "            hi = mid\n",
    "        else:\n",
    "            lo = mid\n",
    "    return hi if reader.get(hi) == target else -1"
   ]
  },
  {
   "cell_type": "markdown",
   "id": "232381cc",
   "metadata": {},
   "source": [
    "### Search in a Sorted Array of Unknown Size\n",
    "https://leetcode.com/problems/search-in-a-sorted-array-of-unknown-size/"
   ]
  },
  {
   "cell_type": "code",
   "execution_count": null,
   "id": "9f7f0826",
   "metadata": {},
   "outputs": [],
   "source": [
    "def search(self, reader: 'ArrayReader', target: int) -> int:\n",
    "        # 0,1,2,3,4,5,6,7,8,9,K,K,K,K,K,K,K,K,K,K,K,K,K,K,K,K,K,K,K,K,K\n",
    "        # search the search space\n",
    "        lo, hi = 0, 1\n",
    "        while reader.get(hi) <= target:\n",
    "            lo = hi\n",
    "            hi = hi * 2\n",
    "        while lo < hi-1:\n",
    "            mid = (lo+hi)//2\n",
    "            if reader.get(mid) >= target:\n",
    "                hi = mid\n",
    "            else:\n",
    "                lo = mid\n",
    "        if reader.get(lo) == target: return lo \n",
    "        if reader.get(hi) == target: return hi \n",
    "        return -1"
   ]
  },
  {
   "cell_type": "markdown",
   "id": "bdedd2e3",
   "metadata": {},
   "source": [
    "### Find the Duplicate Number\n",
    "https://leetcode.com/problems/find-the-duplicate-number/"
   ]
  },
  {
   "cell_type": "code",
   "execution_count": null,
   "id": "9402ee7d",
   "metadata": {},
   "outputs": [],
   "source": [
    "def findDuplicate(self, nums: List[int]) -> int:\n",
    "        # [3,1,4,3,2]\n",
    "        slow, fast = nums[0], nums[0]\n",
    "        while True:\n",
    "            slow = nums[slow]\n",
    "            fast = nums[nums[fast]]\n",
    "            if slow == fast:\n",
    "                break\n",
    "        init = nums[0]\n",
    "        while init != slow:\n",
    "            init = nums[init]\n",
    "            slow = nums[slow]\n",
    "        return init\n",
    "    \n",
    "# I modified the array :(\n",
    "def findDuplicate(self, nums: List[int]) -> int:\n",
    "        # [1,3,4,2,2]\n",
    "        for elem in nums:\n",
    "            if nums[abs(elem)-1] < 0: return abs(elem)\n",
    "            nums[abs(elem)-1] = -nums[abs(elem)-1]\n",
    "        return None"
   ]
  },
  {
   "cell_type": "markdown",
   "id": "97545481",
   "metadata": {},
   "source": [
    "### Find Pivot Index\n",
    "https://leetcode.com/problems/find-pivot-index/"
   ]
  },
  {
   "cell_type": "code",
   "execution_count": null,
   "id": "a29ef987",
   "metadata": {},
   "outputs": [],
   "source": [
    "class Solution:\n",
    "    def pivotIndex(self, nums: List[int]) -> int:\n",
    "        '''\n",
    "        nums = [1,7,3,6,5,6]\n",
    "        '''\n",
    "        leftsum = 0\n",
    "        rightsum = sum(nums[1:])\n",
    "        for i in range(len(nums)):\n",
    "            if leftsum == rightsum: return i\n",
    "            if i == len(nums)-1: return -1\n",
    "            leftsum += nums[i]\n",
    "            rightsum -= nums[i+1]\n",
    "        return -1"
   ]
  },
  {
   "cell_type": "markdown",
   "id": "3c684d2c",
   "metadata": {},
   "source": [
    "### Plus One\n",
    "https://leetcode.com/problems/plus-one/"
   ]
  },
  {
   "cell_type": "code",
   "execution_count": null,
   "id": "63c9ea27",
   "metadata": {},
   "outputs": [],
   "source": [
    "def plusOne(self, digits: List[int]) -> List[int]:\n",
    "        digits = [str(i) for i in digits]\n",
    "        return list(str(int(''.join(digits))+1))"
   ]
  },
  {
   "cell_type": "markdown",
   "id": "bc1def60",
   "metadata": {},
   "source": [
    "### Diagonal Traverse\n",
    "https://leetcode.com/problems/diagonal-traverse/"
   ]
  },
  {
   "cell_type": "code",
   "execution_count": null,
   "id": "1b0af0e7",
   "metadata": {},
   "outputs": [],
   "source": [
    "class Solution:\n",
    "    def findDiagonalOrder(self, mat: List[List[int]]) -> List[int]:\n",
    "        out = []\n",
    "        row, col = 0, 0\n",
    "        while len(out) < len(mat)*len(mat[0]):\n",
    "            if (row+col) % 2 == 0:\n",
    "                while row >= 0 and col < len(mat[0]):\n",
    "                    out.append(mat[row][col])\n",
    "                    row -= 1\n",
    "                    col += 1\n",
    "                if col >= len(mat[0]):\n",
    "                    col = len(mat[0]) - 1\n",
    "                    row += 2\n",
    "                elif row < 0:\n",
    "                    row = 0\n",
    "            else:\n",
    "                while row < len(mat) and col >= 0:\n",
    "                    out.append(mat[row][col])\n",
    "                    row += 1\n",
    "                    col -= 1\n",
    "                if row >= len(mat):\n",
    "                    row = len(mat)-1\n",
    "                    col += 2 # +2 because look at the 7, at a certain point we will reach coords\n",
    "                    # row = len(mat) and col=1. We want to start with the next number which is 8,\n",
    "                    #  and to reach the 8 we need to do cols += 2. The same applies for the rows int the previous if statement.\n",
    "                    # Moreover, we add +2 and just don't assign it because the size of the matrix could differ.\n",
    "                elif col < 0:\n",
    "                    col = 0\n",
    "        return out"
   ]
  },
  {
   "cell_type": "markdown",
   "id": "258ded8f",
   "metadata": {},
   "source": [
    "### Minimum Size Subarray Sum\n",
    "\n",
    "https://leetcode.com/problems/minimum-size-subarray-sum/\n",
    "\n",
    "Two pointers."
   ]
  },
  {
   "cell_type": "code",
   "execution_count": null,
   "id": "c003ab6d",
   "metadata": {},
   "outputs": [],
   "source": [
    "class Solution:\n",
    "    def minSubArrayLen(self, target: int, nums: List[int]) -> int:\n",
    "        left, right = 0, 1\n",
    "        currsum = nums[left]\n",
    "        out = float('+inf')\n",
    "        while left < right and right < len(nums):\n",
    "            while currsum < target and right < len(nums):\n",
    "                currsum += nums[right]\n",
    "                right += 1\n",
    "            while currsum >= target and left < len(nums):\n",
    "                currsum -= nums[left]\n",
    "                left += 1\n",
    "                out = min(out, right-left+1)\n",
    "        return out if out != float('+inf') else 0"
   ]
  },
  {
   "cell_type": "markdown",
   "id": "6363041b",
   "metadata": {},
   "source": [
    "### Max Consecutive Ones II\n",
    "\n",
    "https://leetcode.com/problems/max-consecutive-ones-ii/"
   ]
  },
  {
   "cell_type": "code",
   "execution_count": null,
   "id": "29a4c054",
   "metadata": {},
   "outputs": [],
   "source": [
    "def findMaxConsecutiveOnes(self, nums: List[int]) -> int:\n",
    "        '''\n",
    "        [1,1,1,0,1,1,1,0,1,1,1,0,1,1]\n",
    "        '''\n",
    "        \n",
    "        left, right = 0, 0\n",
    "        zero_found = 0\n",
    "        res = float('-inf')\n",
    "        while right < len(nums):\n",
    "            if nums[right] == 1 and zero_found < 2:\n",
    "                res = max(res, right-left+1)\n",
    "                right += 1\n",
    "            elif nums[right] == 0 and zero_found == 0:\n",
    "                zero_found += 1\n",
    "                res = max(res, right-left+1)\n",
    "                right += 1\n",
    "            elif nums[right] == 0 and zero_found == 1:\n",
    "                while nums[left] == 1:\n",
    "                    left += 1\n",
    "                zero_found = 1\n",
    "                left += 1\n",
    "                right += 1\n",
    "        return res"
   ]
  },
  {
   "cell_type": "markdown",
   "id": "02566e50",
   "metadata": {},
   "source": [
    "### Third Maximum Number\n",
    "\n",
    "https://leetcode.com/problems/third-maximum-number/"
   ]
  },
  {
   "cell_type": "code",
   "execution_count": null,
   "id": "4df7e7ed",
   "metadata": {},
   "outputs": [],
   "source": [
    "import heapq\n",
    "\n",
    "class Solution:\n",
    "    def thirdMax(self, nums: List[int]) -> int:\n",
    "        nums = list(set(nums))\n",
    "        if len(nums) < 3: return max(nums)\n",
    "        for i in range(len(nums)):\n",
    "            nums[i] = -nums[i]\n",
    "            \n",
    "        heapq.heapify(nums)\n",
    "        k = 0\n",
    "        while True:\n",
    "            if k == 2:\n",
    "                return - heapq.heappop(nums)\n",
    "            heapq.heappop(nums)\n",
    "            k += 1\n",
    "        \n",
    "        "
   ]
  },
  {
   "cell_type": "markdown",
   "id": "0cb8d23e",
   "metadata": {},
   "source": [
    "### Contains Duplicate\n",
    "https://leetcode.com/problems/contains-duplicate/"
   ]
  },
  {
   "cell_type": "code",
   "execution_count": null,
   "id": "0eb560d2",
   "metadata": {},
   "outputs": [],
   "source": [
    "class Solution:\n",
    "    def containsDuplicate(self, nums: List[int]) -> bool:\n",
    "        return len(set(nums)) < len(nums)"
   ]
  },
  {
   "cell_type": "markdown",
   "id": "92b36c5a",
   "metadata": {},
   "source": [
    "### Two Sum\n",
    "https://leetcode.com/problems/two-sum/"
   ]
  },
  {
   "cell_type": "code",
   "execution_count": null,
   "id": "b7fc071f",
   "metadata": {},
   "outputs": [],
   "source": [
    "class Solution:\n",
    "    def twoSum(self, nums: List[int], target: int) -> List[int]:\n",
    "        d = {}\n",
    "        for idx, elem in enumerate(nums):\n",
    "            complement = target-elem\n",
    "            if complement in d:\n",
    "                return [d[complement], idx]\n",
    "            else:\n",
    "                d[elem] = idx"
   ]
  },
  {
   "cell_type": "markdown",
   "id": "9b3ef119",
   "metadata": {},
   "source": [
    "### Product of Array Except Self\n",
    "https://leetcode.com/problems/product-of-array-except-self/"
   ]
  },
  {
   "cell_type": "code",
   "execution_count": null,
   "id": "c80d4fa1",
   "metadata": {},
   "outputs": [],
   "source": [
    "class Solution:\n",
    "    def productExceptSelf(self, nums: List[int]) -> List[int]:\n",
    "        '''\n",
    "        nums = [1,2,3,4]\n",
    "        pre = [1,1,2,6]\n",
    "        pos = [24,12,4,1]        \n",
    "        '''\n",
    "        pre, post = [1], [1]\n",
    "        for idx in range(len(nums)-1):\n",
    "            pre.append(pre[-1]*nums[idx])\n",
    "        nums.reverse()\n",
    "        for idx in range(len(nums)-1):\n",
    "            post.append(post[-1]*nums[idx])\n",
    "        post.reverse()\n",
    "        out = []\n",
    "        for i in range(len(pre)):\n",
    "            out.append(pre[i]*post[i])\n",
    "        return out\n",
    "        "
   ]
  },
  {
   "cell_type": "markdown",
   "id": "0715fdff",
   "metadata": {},
   "source": [
    "### Rotate Image\n",
    "https://leetcode.com/problems/rotate-image/"
   ]
  },
  {
   "cell_type": "code",
   "execution_count": null,
   "id": "fc55c3da",
   "metadata": {},
   "outputs": [],
   "source": [
    "class Solution:\n",
    "    def rotate(self, mat: List[List[int]]) -> None:\n",
    "        \"\"\"\n",
    "        Do not return anything, modify matrix in-place instead.\n",
    "        \"\"\"\n",
    "        for row in range(len(mat)):\n",
    "            for col in range(row, len(mat)):\n",
    "                mat[row][col], mat[col][row] = mat[col][row], mat[row][col]\n",
    "        for row in range(len(mat)):\n",
    "            for col in range(len(mat)//2):\n",
    "                mat[row][col], mat[row][len(mat)-col-1] = mat[row][len(mat)-col-1], mat[row][col]\n",
    "        \n",
    "                "
   ]
  },
  {
   "cell_type": "markdown",
   "id": "1767dfef",
   "metadata": {},
   "source": [
    "### Set Matrix Zeroes\n",
    "https://leetcode.com/problems/set-matrix-zeroes/"
   ]
  },
  {
   "cell_type": "code",
   "execution_count": null,
   "id": "0dcee2f1",
   "metadata": {},
   "outputs": [],
   "source": [
    "# TODO: constant space approach (hint: marking row and col with zeros)\n",
    "class Solution:\n",
    "    def setZeroes(self, mat: List[List[int]]) -> None:\n",
    "        \"\"\"\n",
    "        Do not return anything, modify matrix in-place instead.\n",
    "        \"\"\"\n",
    "        sett = set()\n",
    "        for row in range(len(mat)):\n",
    "            for col in range(len(mat[0])):\n",
    "                if mat[row][col] == 0:\n",
    "                    if (row, 0) not in sett:\n",
    "                        sett.add((row, 0))\n",
    "                    if (col, 1) not in sett:\n",
    "                        sett.add((col, 1))\n",
    "        for elem in sett:\n",
    "            if elem[1] == 0: # is a row\n",
    "                for col in range(len(mat[0])):\n",
    "                    mat[elem[0]][col] = 0\n",
    "            else:\n",
    "                for row in range(len(mat)):\n",
    "                    mat[row][elem[0]] = 0"
   ]
  },
  {
   "cell_type": "code",
   "execution_count": 2,
   "id": "3fe4d8c2",
   "metadata": {},
   "outputs": [
    {
     "data": {
      "text/plain": [
       "(2, 32)"
      ]
     },
     "execution_count": 2,
     "metadata": {},
     "output_type": "execute_result"
    }
   ],
   "source": [
    "# first sam's mock\n",
    "def minimum_number_steps(rooms):\n",
    "    min_steps, position = float('+inf'), -1\n",
    "    for i in range(len(rooms)):\n",
    "        current_steps = 0\n",
    "        for j in range(len(rooms)):\n",
    "            if i != j:\n",
    "                current_steps += abs(j-i)*rooms[j]\n",
    "        if current_steps < min_steps:\n",
    "            min_steps = current_steps\n",
    "            position = i\n",
    "    return position, min_steps\n",
    "minimum_number_steps([3, 6, 1, 0,10])"
   ]
  },
  {
   "cell_type": "markdown",
   "id": "ea499965",
   "metadata": {},
   "source": [
    "### Replace Elements with Greatest Element on Right Side\n",
    "https://leetcode.com/problems/replace-elements-with-greatest-element-on-right-side/"
   ]
  },
  {
   "cell_type": "code",
   "execution_count": null,
   "id": "9faeaf91",
   "metadata": {},
   "outputs": [],
   "source": [
    "class Solution:\n",
    "    def replaceElements(self, arr: List[int]) -> List[int]:\n",
    "        if len(arr) == 1: return [-1]\n",
    "        curr_max_right = -1\n",
    "        out = [0] * len(arr)\n",
    "        for idx in reversed(range(len(arr))):\n",
    "            if not out:\n",
    "                out[idx] = -1\n",
    "            else:\n",
    "                out[idx] = curr_max_right\n",
    "            if arr[idx] > curr_max_right:\n",
    "                curr_max_right = arr[idx]\n",
    "        return out"
   ]
  },
  {
   "cell_type": "markdown",
   "id": "d67eaf94",
   "metadata": {},
   "source": [
    "### Trapping Rain Water\n",
    "https://leetcode.com/problems/trapping-rain-water/"
   ]
  },
  {
   "cell_type": "code",
   "execution_count": null,
   "id": "22b3778c",
   "metadata": {},
   "outputs": [],
   "source": [
    "class Solution:\n",
    "    def trap(self, height: List[int]) -> int:\n",
    "        def compute_max(nums):\n",
    "            left_max = []\n",
    "            curr_max = 0\n",
    "            for i in range(len(nums)):\n",
    "                if nums[i] > curr_max:\n",
    "                    curr_max = nums[i]\n",
    "                left_max.append(curr_max)\n",
    "            return left_max\n",
    "        max_left = compute_max(height)\n",
    "        height.reverse()\n",
    "        max_right = compute_max(height)\n",
    "        max_right.reverse()\n",
    "        \n",
    "        water = 0\n",
    "        for i in range(1, len(height)-1):\n",
    "            max_l, max_r = max_left[i], max_right[i]\n",
    "            water += min(max_l, max_r) - height[i]\n",
    "        return water"
   ]
  },
  {
   "cell_type": "markdown",
   "id": "8d5f3ea8",
   "metadata": {},
   "source": [
    "### Sliding Window Maximum\n",
    "https://leetcode.com/problems/sliding-window-maximum/submissions/"
   ]
  },
  {
   "cell_type": "code",
   "execution_count": null,
   "id": "00db545d",
   "metadata": {},
   "outputs": [],
   "source": [
    "class Solution:\n",
    "    def maxSlidingWindow(self, nums: List[int], k: int) -> List[int]:\n",
    "        if k == 1: return nums\n",
    "        queue = collections.deque([[nums[0], 0]])\n",
    "        out = []\n",
    "        i = 1\n",
    "        while i < len(nums):\n",
    "            if queue and nums[i] > queue[-1][0]:\n",
    "                while queue and nums[i] > queue[-1][0]:\n",
    "                    queue.pop()\n",
    "                queue.append([nums[i], i])\n",
    "            elif queue and nums[i] <= queue[-1][0]:\n",
    "                queue.append([nums[i], i])\n",
    "            if i >= k-1:\n",
    "                out.append(queue[0][0])\n",
    "                # pop if diff of index\n",
    "                if (i-k+1 - queue[0][1]) == 0:\n",
    "                    queue.popleft()\n",
    "            i += 1\n",
    "        return out"
   ]
  },
  {
   "cell_type": "code",
   "execution_count": null,
   "id": "5e7f2a63",
   "metadata": {},
   "outputs": [],
   "source": []
  }
 ],
 "metadata": {
  "kernelspec": {
   "display_name": "Python 3",
   "language": "python",
   "name": "python3"
  },
  "language_info": {
   "codemirror_mode": {
    "name": "ipython",
    "version": 3
   },
   "file_extension": ".py",
   "mimetype": "text/x-python",
   "name": "python",
   "nbconvert_exporter": "python",
   "pygments_lexer": "ipython3",
   "version": "3.8.8"
  }
 },
 "nbformat": 4,
 "nbformat_minor": 5
}
