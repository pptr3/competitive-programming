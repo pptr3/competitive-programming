{
 "cells": [
  {
   "cell_type": "markdown",
   "id": "d476aaa4",
   "metadata": {},
   "source": [
    "### These two characteristics can be used to identify if a problem should be solved with DP.\n",
    "\n",
    "**The first characteristic** that is common in DP problems is that the problem will ask for the maximum/minimum/longest/shortest of something, the number of ways to do something, or if it is possible to reach a certain point, it is probably greedy or DP. For example:\n",
    "\n",
    "- What is the minimum cost of doing...\n",
    "- What is the maximum profit from...\n",
    "- How many ways are there to do...\n",
    "- What is the longest possible...\n",
    "- Is it possible to reach a certain point..."
   ]
  },
  {
   "cell_type": "markdown",
   "id": "05181a21",
   "metadata": {},
   "source": [
    "**The second characteristic** that is common in DP problems is that future \"decisions\" depend on earlier decisions. Deciding to do something at one step may affect the ability to do something in a later step. This characteristic is what makes a greedy algorithm invalid for a DP problem - we need to factor in results from previous decisions. Admittedly, this characteristic is not as well defined as the first one, and the best way to identify it is to go through some examples.\n",
    "\n",
    "`When you're solving a problem on your own and trying to decide if the second characteristic is applicable, assume it isn't, then try to think of a counterexample that proves a greedy algorithm won't work. If you can think of an example where earlier decisions affect future decisions, then DP is applicable.`"
   ]
  },
  {
   "cell_type": "markdown",
   "id": "b3ef7ac4",
   "metadata": {},
   "source": [
    "### Bottom-up (Tabulation)\n",
    "Bottom-up is implemented with **iteration** and starts at the base cases. <br>\n",
    "\n",
    "`\n",
    "// Pseudocode example for bottom-up\n",
    "F = array of length (n + 1)\n",
    "F[0] = 0\n",
    "F[1] = 1\n",
    "for i from 2 to n:\n",
    "    F[i] = F[i - 1] + F[i - 2]\n",
    "`\n",
    "\n",
    "A bottom-up implementation's runtime is usually faster, as iteration does not have the overhead that recursion does.\n",
    "\n",
    "### Top-down (Memoization)\n",
    "Top-down is implemented with **recursion**.\n",
    "**Memoizing** a result means to store the result of a function call, usually in a hashmap or an array, so that when the same function call is made again, we can simply return the **memoized** result instead of recalculating the result.\n",
    "\n",
    "`\n",
    "// Pseudocode example for top-down\n",
    "memo = hashmap\n",
    "Function F(integer i):\n",
    "    if i is 0 or 1: \n",
    "        return i\n",
    "    if i doesn't exist in memo:\n",
    "        memo[i] = F(i - 1) + F(i - 2)\n",
    "    return memo[i]\n",
    "`\n",
    "\n",
    "A top-down implementation is usually much easier to write. This is because with recursion, the ordering of subproblems does not matter, whereas with tabulation, we need to go through a logical ordering of solving subproblems."
   ]
  },
  {
   "cell_type": "markdown",
   "id": "8e79d4be",
   "metadata": {},
   "source": [
    "**If I want to do Bottom-up from Top-down code, I should structure Top-down approach starting from the end!** (so doing Top down with dp(i-1) calls for instance."
   ]
  },
  {
   "cell_type": "markdown",
   "id": "14c37be1",
   "metadata": {},
   "source": [
    "### Min Cost Climbing Stairs\n",
    "https://leetcode.com/problems/min-cost-climbing-stairs/"
   ]
  },
  {
   "cell_type": "code",
   "execution_count": null,
   "id": "7e5c2019",
   "metadata": {},
   "outputs": [],
   "source": [
    "class Solution:\n",
    "    def minCostClimbingStairs(self, cost: List[int]) -> int:\n",
    "        def dp(i):\n",
    "            if i < 0:\n",
    "                return 0\n",
    "            if i not in memo:\n",
    "                take1 = cost[i] + dp(i-1)\n",
    "                take2 = cost[i] + dp(i-2)\n",
    "                memo[i] = min(take1, take2)\n",
    "            return memo[i]\n",
    "        memo = {}\n",
    "        cost.append(0)\n",
    "        return dp(len(cost)-1)\n",
    "     \n",
    "    \n",
    "class Solution:\n",
    "    def minCostClimbingStairs(self, cost: List[int]) -> int:\n",
    "        cost.append(0)\n",
    "        dp = [0 for i in range(len(cost))]\n",
    "        dp[0] = cost[0]\n",
    "        dp[1] = cost[1]\n",
    "        for i in range(2,len(cost)):\n",
    "            take1 = cost[i] + dp[i-1]\n",
    "            take2 = cost[i] + dp[i-2]\n",
    "            dp[i] = min(take1, take2)\n",
    "        return dp[-1]\n",
    "            "
   ]
  },
  {
   "cell_type": "markdown",
   "id": "0565da38",
   "metadata": {},
   "source": [
    "### Base cases\n",
    "\n",
    "Sometimes, when I go from N to 0, I can miss the zero and I can go < 0. In this case the base case is:\n",
    "`if i < 0: return 1` (mathy stuff for **counting stuff** like \"how many ways...\", not min() or max() stuff).\n",
    "\n",
    "On the other hand, If i grows from 0 to N and i reaches N, I return 0 because then the subproblem to solve corresponds to the original problem on an empty list, therefore return 0. LIS example: if I do the LIS on an empty list (case i == n), the result is zero since there is no LIS there."
   ]
  },
  {
   "cell_type": "markdown",
   "id": "cde71474",
   "metadata": {},
   "source": [
    "### Time complexity\n",
    "**Time complexity**: number of states per each variable $\\times$ number of transactions $\\times$ lookup\n",
    "\n",
    "`number of states per each variable`: the range of values each of my state variable can assume (if i can go from 0 to N, then this is O(N)). If I have two varibables that go from 0 to N, the it will be $O(N^2)$.<br>\n",
    "`transactions`: things that I do out of the recurrence relation (if statements, other for loops etc.). <br>\n",
    "`lookup`: cost to access the memo (if memo is a hashmap then it will be constant).\n",
    "\n",
    "**Space complexity**: is equal to `number of states`.\n"
   ]
  },
  {
   "cell_type": "markdown",
   "id": "2c8facd7",
   "metadata": {},
   "source": [
    "### Where to start to write the recurrence relation"
   ]
  },
  {
   "cell_type": "markdown",
   "id": "8d30be84",
   "metadata": {},
   "source": [
    "Keep in mind that usually we start from the beginning or the end of the array / matrix. This influences how we write the recurrence relation. How do we decide where to start from? Sometimes we can start both from the beginning or the end, but usually starting from one side is much easier.\n",
    "\n",
    "If I choose the 0th element, how this influences the choice for the other elements? Can we easily formulate this? For the panino problem, choosing the 0th panino, influeces which panini I will need to take in the future (since they will be > or < that the chosen one). So the natural way of thinking this is going from left to right, so we write the recurrence relation in that way.\n",
    "\n",
    "For the antenne problems, if I choose the $i_{th}$ antenna, then the antenne that are in the poitions j < i are influenced. So starting from the antenna 0, how do I know whether that is influenced? I would need to know whether the others on its right are on. But I do not know. What if we start from the back? If I choose the last one, how this choice influences the antenne on the left? They are influenced because since the last one is on, I know that some of the others must be off. And I can build a recurrence relation based on that.\n",
    "\n",
    "Also, remember to do case per case: what happens if I eat the panino and what happens if I do not eat it."
   ]
  },
  {
   "cell_type": "markdown",
   "id": "b7f8923a",
   "metadata": {},
   "source": [
    "### Number of parameters\n",
    "\n",
    "Sometimes, starting from the back or the beginning does not help. I need to think about the choices: what determines if I can do a choice or not? For instance: how do I know whether I need to eat the panino or not? The next one must be bigger (smaller) than the last panino ate. So I need to keep track of the last panino ate. So how to know that? We need to add a new parameter (state variable)!"
   ]
  },
  {
   "cell_type": "markdown",
   "id": "f9b89ce2",
   "metadata": {},
   "source": [
    "### Order of doing stuff for Top-Down\n",
    "- base case\n",
    "- check memo if already computed\n",
    "- recurrence relation and store in memo\n",
    "- return memo[i]"
   ]
  },
  {
   "cell_type": "markdown",
   "id": "bb198094",
   "metadata": {},
   "source": [
    "**The number of possible ways...** is the sum between _n_ recurrence relation. <br>\n",
    "- if we need to count the possible ways (for instance all the possible path in a grid going only down or right, we can just call the recurrence relations and once the base case triggers, it means we found a possible way, so wr return 1 that will be summed up in the memo[(r,c)] = up + left.\n",
    "```python\n",
    "if r == 0 and c == 0:\n",
    "    return 1\n",
    "...\n",
    "up = dp(r-1, c)\n",
    "left = dp(r, c-1)\n",
    "memo[(r, c)] = up + left\n",
    "```\n",
    "\n",
    "\n",
    "**The max or min of something...** is the max() or min() between stuff.\n",
    "- if we have to find min or max of something (like the minimum path cost in a grid -- so we need to keep track of the current sum), we do not have to store the sum as a parameter of the memo, we can just do:\n",
    "```python\n",
    "if i == len(nums):\n",
    "    return 0\n",
    "...\n",
    "up = grid[r][c] + dp(r-1, c)\n",
    "left = grid[r][c] + dp(r, c-1)\n",
    "memo[(r, c)] = min(up, left)\n",
    "```\n",
    "- so the sum of the cells are summed up in this way.\n",
    "- the base case  is something like `return 0` or `return float('inf')` if we are out of bounds. But these can be different, they depend on the context. **The general message is that the overall sum is not returned in the base cases but in the recurrent relation.** Actually we can return the overall sum in the base case, but it will be extra time complexity."
   ]
  },
  {
   "cell_type": "markdown",
   "id": "42a41883",
   "metadata": {},
   "source": [
    "**If my recurrence relation goes from 0 to N, then I will call it with 0, otherwise.**"
   ]
  },
  {
   "cell_type": "code",
   "execution_count": null,
   "id": "52c59afa",
   "metadata": {},
   "outputs": [],
   "source": [
    "def lengthOfLIS(nums) -> int:\n",
    "    if len(nums) == 1:\n",
    "        return 1\n",
    "    memo = [[0] * len(nums) for _ in range(len(nums))]\n",
    "    a = LIS(0, -1, nums, memo)\n",
    "    print(memo)\n",
    "    return a\n",
    "\n",
    "\n",
    "def LIS(i, j, nums, memo):\n",
    "    if i == len(nums):\n",
    "        return 0\n",
    "    if j == -1:\n",
    "        return max(LIS(i+1, j, nums, memo), LIS(i+1, i, nums, memo)+1)\n",
    "    if memo[i][j] == 0:\n",
    "        dont = LIS(i+1, j, nums, memo)\n",
    "        take = 0\n",
    "        if nums[i] > nums[j]:\n",
    "            take = LIS(i+1, i, nums, memo) + 1\n",
    "        memo[i][j] = max(take, dont)\n",
    "    return memo[i][j]\n",
    "        "
   ]
  },
  {
   "cell_type": "code",
   "execution_count": null,
   "id": "2a99e9af",
   "metadata": {
    "scrolled": true
   },
   "outputs": [],
   "source": [
    "jobs = [6,5,4,3,2,1]\n",
    "days = 2\n",
    "def minDifficulty(jobs, days) -> int:\n",
    "    n = len(jobs)\n",
    "    def minD(i, days):\n",
    "        if days == 0:\n",
    "            return jobs[i-1]\n",
    "        if (i, days) not in memo:\n",
    "            others = []\n",
    "            for elem in range(i+1, n - i - days + 1):\n",
    "                choice = max(jobs[i:i+1+elem]) + minD(i+1+elem, days-1)\n",
    "                others.append(choice)\n",
    "            if others:\n",
    "                memo[(i, days)] = min(others)\n",
    "            else:\n",
    "                memo[(i, days)] = 0\n",
    "        return memo[(i, days)]\n",
    "\n",
    "    memo = {}\n",
    "    return minD(0, days)\n",
    "minDifficulty(jobs, days)     "
   ]
  },
  {
   "cell_type": "markdown",
   "id": "b262d1d5",
   "metadata": {},
   "source": [
    "### Best Time to Buy and Sell Stock\n",
    "https://leetcode.com/problems/best-time-to-buy-and-sell-stock/"
   ]
  },
  {
   "cell_type": "code",
   "execution_count": null,
   "id": "4622b601",
   "metadata": {},
   "outputs": [],
   "source": [
    "def maxProfit(self, prices: List[int]) -> int:\n",
    "    if len(prices) < 2:\n",
    "        return 0\n",
    "    diffs = [prices[i] - prices[i-1] for i in range(1, len(prices))]\n",
    "\n",
    "    def dp(i):\n",
    "        if i < 0:\n",
    "            return 0\n",
    "        if i not in memo:\n",
    "            continue_sub = dp(i-1)+diffs[i]\n",
    "            new_sub = diffs[i]\n",
    "            memo[i] = max(continue_sub, new_sub)\n",
    "        return memo[i]\n",
    "\n",
    "    memo = {}\n",
    "    dp(len(diffs)-1)\n",
    "    return max(0,max(memo.values()))"
   ]
  },
  {
   "cell_type": "markdown",
   "id": "373df5ff",
   "metadata": {},
   "source": [
    "### Longest Increasing Path in a Matrix\n",
    "https://leetcode.com/problems/longest-increasing-path-in-a-matrix/"
   ]
  },
  {
   "cell_type": "code",
   "execution_count": null,
   "id": "f761ff25",
   "metadata": {},
   "outputs": [],
   "source": [
    "# four DP directions pattern\n",
    "class Solution:\n",
    "    def longestIncreasingPath(self, matrix: List[List[int]]) -> int:\n",
    "        def dp(r, c):\n",
    "            if (r,c) in memo: \n",
    "                return memo[(r,c)]\n",
    "            currentmax = 1\n",
    "            for x, y in [(0,1),(1,0),(0,-1),(-1,0)]:\n",
    "                nx, ny = r+x, c+y\n",
    "                if nx >= 0 and ny >= 0 and nx < len(matrix) and ny < len(matrix[0]) and matrix[nx][ny] > matrix[r][c]:\n",
    "                    currentmax = max(currentmax, 1 + dp(nx, ny))\n",
    "            memo[(r,c)] = currentmax\n",
    "            return memo[(r,c)]\n",
    "                    \n",
    "        memo = {}\n",
    "        for row in range(len(matrix)):\n",
    "            for col in range(len(matrix[0])):\n",
    "                dp(row, col)\n",
    "        return max(memo.values())\n",
    "        \n",
    "# with prev\n",
    "class Solution:\n",
    "    def longestIncreasingPath(self, matrix: List[List[int]]) -> int:\n",
    "        ROWS, COLS = len(matrix), len(matrix[0])\n",
    "        \n",
    "        def dp(row, col, prevVal):\n",
    "            if row < 0 or row >= ROWS or col < 0 or col >= COLS:\n",
    "                return 0\n",
    "            if prevVal >= matrix[row][col]:\n",
    "                return 0\n",
    "            if tuple([row, col]) not in memo:\n",
    "                up = dp(row-1, col, matrix[row][col])\n",
    "                down = dp(row+1, col, matrix[row][col])\n",
    "                left = dp(row, col-1, matrix[row][col])\n",
    "                right = dp(row, col+1, matrix[row][col])\n",
    "                memo[tuple([row, col])] = 1 + max(up, down, left, right)\n",
    "            return memo[tuple([row, col])]\n",
    "        \n",
    "        memo = {}\n",
    "        for row in range(ROWS):\n",
    "            for col in range(COLS):\n",
    "                dp(row, col, -1)\n",
    "        return max(memo.values())\n",
    "        "
   ]
  },
  {
   "cell_type": "markdown",
   "id": "d63639d7",
   "metadata": {},
   "source": [
    "### Paths in a Warehouse A forklift worker moves products from top down to bottom right"
   ]
  },
  {
   "cell_type": "code",
   "execution_count": null,
   "id": "d26ddb7e",
   "metadata": {},
   "outputs": [],
   "source": [
    "mat = [[1,1,0,1],\n",
    "       [1,1,1,1]]\n",
    "\n",
    "def numPath(mat):\n",
    "    ROWS, COLS = len(mat), len(mat[0])\n",
    "    memo = {}\n",
    "    \n",
    "    def dp(r, c):\n",
    "        if r < 0 or c < 0 or mat[r][c] == 0:\n",
    "            return 0\n",
    "        if r == 0 and c == 0:\n",
    "            return 1 \n",
    "        if (r, c) not in memo:\n",
    "            memo[(r, c)] = dp(r-1,c) + dp(r,c-1)\n",
    "        return memo[(r, c)]\n",
    "    return dp(ROWS-1, COLS-1) % (10**9+7)\n",
    "    \n",
    "    \n",
    "    "
   ]
  },
  {
   "cell_type": "code",
   "execution_count": null,
   "id": "7beb6513",
   "metadata": {},
   "outputs": [],
   "source": []
  },
  {
   "cell_type": "code",
   "execution_count": 5,
   "id": "3bf2880b",
   "metadata": {},
   "outputs": [],
   "source": [
    "mat = [[1,1,0,1],\n",
    "       [1,1,1,1]]\n",
    "\n",
    "def numPath2(mat):\n",
    "    ROWS, COLS = len(mat), len(mat[0])\n",
    "    memo = {}\n",
    "    \n",
    "    def dp(r, c):\n",
    "        if r < 0 or c < 0 or r >= len(mat) or c >= len(mat[0]) or mat[r][c] == 0:\n",
    "            return False\n",
    "        if r == 0 and c == 0:\n",
    "            return True\n",
    "        if (r, c) not in memo:\n",
    "            memo[(r, c)] = False\n",
    "            memo[(r, c)] = dp(r-1,c) or dp(r,c-1) or dp(r+1,c) or dp(r,c+1)\n",
    "        return memo[(r, c)]\n",
    "    return dp(ROWS-1, COLS-1)\n",
    "    \n",
    "    \n",
    "    "
   ]
  },
  {
   "cell_type": "code",
   "execution_count": null,
   "id": "bcfa3cd1",
   "metadata": {},
   "outputs": [],
   "source": [
    "numPath2(mat)"
   ]
  },
  {
   "cell_type": "markdown",
   "id": "368482a7",
   "metadata": {},
   "source": [
    "### Unique Paths\n",
    "https://leetcode.com/problems/unique-paths/"
   ]
  },
  {
   "cell_type": "code",
   "execution_count": null,
   "id": "331349f7",
   "metadata": {},
   "outputs": [],
   "source": [
    "class Solution:\n",
    "    def uniquePaths(self, m: int, n: int) -> int:\n",
    "        def dp(r, c):\n",
    "            if r < 0 or c < 0:\n",
    "                return 0\n",
    "            if r == 0 and c == 0:\n",
    "                return 1\n",
    "            if (r, c) not in memo:\n",
    "                up = dp(r-1, c)\n",
    "                left = dp(r, c-1)\n",
    "                memo[(r, c)] = up + left\n",
    "            return memo[(r, c)]\n",
    "        memo = {}\n",
    "        return dp(m-1, n-1)"
   ]
  },
  {
   "cell_type": "markdown",
   "id": "0e6b74f1",
   "metadata": {},
   "source": [
    "### Unique Paths II\n",
    "https://leetcode.com/problems/unique-paths-ii/"
   ]
  },
  {
   "cell_type": "code",
   "execution_count": null,
   "id": "199fde47",
   "metadata": {},
   "outputs": [],
   "source": [
    "class Solution:\n",
    "    def uniquePathsWithObstacles(self, obstacleGrid: List[List[int]]) -> int:\n",
    "        def dp(r, c):\n",
    "            if r < 0 or c < 0 or obstacleGrid[r][c] == 1:\n",
    "                return 0\n",
    "            if r == 0 and c == 0:\n",
    "                return 1\n",
    "            if (r, c) not in memo:\n",
    "                up = dp(r-1, c)\n",
    "                left = dp(r, c-1)\n",
    "                memo[(r, c)] = up + left\n",
    "            return memo[(r, c)]\n",
    "        memo = {}\n",
    "        return dp(len(obstacleGrid)-1, len(obstacleGrid[0])-1)\n",
    "        "
   ]
  },
  {
   "cell_type": "markdown",
   "id": "3901930f",
   "metadata": {},
   "source": [
    "### Minimum Path Sum\n",
    "https://leetcode.com/problems/minimum-path-sum/"
   ]
  },
  {
   "cell_type": "code",
   "execution_count": null,
   "id": "a4cc374c",
   "metadata": {},
   "outputs": [],
   "source": [
    "class Solution:\n",
    "    def minPathSum(self, grid: List[List[int]]) -> int:\n",
    "        def dp(r, c):\n",
    "            if r < 0 or c < 0:\n",
    "                return float('+inf')\n",
    "            if r == 0 and c == 0:\n",
    "                return grid[0][0]\n",
    "            if (r, c) not in memo:\n",
    "                up = grid[r][c] + dp(r-1, c)\n",
    "                left = grid[r][c] + dp(r, c-1)\n",
    "                memo[(r, c)] = min(up, left)\n",
    "            return memo[(r, c)]\n",
    "        memo = {}\n",
    "        return dp(len(grid)-1, len(grid[0])-1)\n",
    "        "
   ]
  },
  {
   "cell_type": "markdown",
   "id": "6fcba213",
   "metadata": {},
   "source": [
    "### Decode Ways\n",
    "https://leetcode.com/problems/decode-ways/"
   ]
  },
  {
   "cell_type": "code",
   "execution_count": null,
   "id": "8628e437",
   "metadata": {},
   "outputs": [],
   "source": [
    "class Solution:\n",
    "    def numDecodings(self, s: str) -> int:\n",
    "        # 1 1 1 0 6\n",
    "        def dp(i):\n",
    "            if i == len(s):\n",
    "                return 1\n",
    "            if i > len(s):\n",
    "                return 0\n",
    "            if i not in memo:\n",
    "                one = 0\n",
    "                two = 0\n",
    "                if int(s[i]) != 0:\n",
    "                    one = dp(i+1)\n",
    "                if int(s[i:i+2]) <= 26 and int(s[i]) != 0:\n",
    "                    two = dp(i+2)\n",
    "                memo[i] = one + two\n",
    "            return memo[i]\n",
    "        memo = {}\n",
    "        return dp(0)"
   ]
  },
  {
   "cell_type": "markdown",
   "id": "10b9e792",
   "metadata": {},
   "source": [
    "### Maximum Subarray\n",
    "https://leetcode.com/problems/maximum-subarray/"
   ]
  },
  {
   "cell_type": "code",
   "execution_count": null,
   "id": "6251b567",
   "metadata": {},
   "outputs": [],
   "source": [
    "class Solution:\n",
    "    def maxSubArray(self, nums: List[int]) -> int:\n",
    "        '''\n",
    "        [-2,1,-3,4,-1,2,1,-5,4]\n",
    "          \n",
    "        '''\n",
    "        def dp(i):\n",
    "            if i < 0:\n",
    "                return 0\n",
    "            if i not in memo:\n",
    "                take = dp(i-1)+nums[i]\n",
    "                dontake = nums[i]\n",
    "                memo[i] = max(take, dontake)\n",
    "            return memo[i]\n",
    "        memo = {}\n",
    "        dp(len(nums)-1)\n",
    "        return max(memo.values())"
   ]
  },
  {
   "cell_type": "markdown",
   "id": "4e32f169",
   "metadata": {},
   "source": [
    "Using **Kadane**"
   ]
  },
  {
   "cell_type": "code",
   "execution_count": null,
   "id": "ee5d5808",
   "metadata": {},
   "outputs": [],
   "source": [
    "class Solution:\n",
    "    def maxSubArray(self, nums: List[int]) -> int:\n",
    "        csum = nums[0]\n",
    "        maxcsum = nums[0]\n",
    "        for i in range(1, len(nums)):\n",
    "            if csum+nums[i] >= nums[i]:\n",
    "                csum += nums[i]\n",
    "            else:\n",
    "                csum = nums[i]\n",
    "            maxcsum = max(maxcsum, csum)\n",
    "        return maxcsum"
   ]
  },
  {
   "cell_type": "markdown",
   "id": "fc9df2e2",
   "metadata": {},
   "source": [
    "### House Robber\n",
    "https://leetcode.com/problems/house-robber/"
   ]
  },
  {
   "cell_type": "code",
   "execution_count": null,
   "id": "369b13f8",
   "metadata": {},
   "outputs": [],
   "source": [
    "class Solution:\n",
    "    def rob(self, nums: List[int]) -> int:\n",
    "        '''\n",
    "        nums = [2,7,9,3,1]\n",
    "        '''\n",
    "        if len(nums) == 1: return nums[0]\n",
    "        def dp(i):\n",
    "            if i < 0:\n",
    "                return 0\n",
    "            if i not in memo:\n",
    "                take = dp(i-2) + nums[i]\n",
    "                dontake = dp(i-1)\n",
    "                memo[i] = max(take, dontake)\n",
    "            return memo[i]\n",
    "        memo = {}\n",
    "        dp(len(nums)-1)\n",
    "        return max(memo.values())\n",
    "        "
   ]
  },
  {
   "cell_type": "markdown",
   "id": "0b1238f1",
   "metadata": {},
   "source": [
    "### House Robber II\n",
    "https://leetcode.com/problems/house-robber-ii/"
   ]
  },
  {
   "cell_type": "code",
   "execution_count": null,
   "id": "b5f029af",
   "metadata": {},
   "outputs": [],
   "source": [
    "class Solution:\n",
    "    def rob(self, nums: List[int]) -> int:\n",
    "        if len(nums) == 1: return nums[0]\n",
    "        def dp(i, taken):\n",
    "            if i >= len(nums):\n",
    "                return 0\n",
    "            if (i, taken) not in memo:\n",
    "                take = 0\n",
    "                if i == len(nums)-1 and taken:\n",
    "                    take = dp(i+2, taken)\n",
    "                else:\n",
    "                    take = nums[i] + dp(i+2, taken)\n",
    "                dontake = dp(i+1, taken)\n",
    "                memo[(i, taken)] = max(take, dontake)\n",
    "            return memo[(i, taken)]\n",
    "        memo = {}\n",
    "        return max(dp(0, True), dp(1, False))"
   ]
  },
  {
   "cell_type": "markdown",
   "id": "55cea26d",
   "metadata": {},
   "source": [
    "### House Robber III\n",
    "https://leetcode.com/problems/house-robber-iii/"
   ]
  },
  {
   "cell_type": "code",
   "execution_count": null,
   "id": "e38f879d",
   "metadata": {},
   "outputs": [],
   "source": [
    "# Definition for a binary tree node.\n",
    "# class TreeNode:\n",
    "#     def __init__(self, val=0, left=None, right=None):\n",
    "#         self.val = val\n",
    "#         self.left = left\n",
    "#         self.right = right\n",
    "class Solution:\n",
    "    def rob(self, root: Optional[TreeNode]) -> int:\n",
    "        if not root: return 0\n",
    "        def dp(node):\n",
    "            if not node:\n",
    "                return 0\n",
    "            if node not in memo:\n",
    "                rob = node.val\n",
    "                if node.left:\n",
    "                    rob += dp(node.left.left) + dp(node.left.right)\n",
    "                if node.right:\n",
    "                    rob += dp(node.right.left) + dp(node.right.right)\n",
    "                dontrob = dp(node.left) + dp(node.right)\n",
    "                memo[(node)] = max(rob, dontrob)\n",
    "            return memo[(node)]\n",
    "        memo = {}\n",
    "        return dp(root)"
   ]
  },
  {
   "cell_type": "markdown",
   "id": "4ccbf10e",
   "metadata": {},
   "source": [
    "### Mattia's Phone"
   ]
  },
  {
   "cell_type": "code",
   "execution_count": null,
   "id": "4fc3858a",
   "metadata": {},
   "outputs": [],
   "source": [
    "def mattiaphoneDP(nums, target):\n",
    "    def dp(i,csum):\n",
    "        if csum == target: return True\n",
    "        if csum > target: return False\n",
    "        if i < 0: return False\n",
    "        if (i, csum) not in memo:\n",
    "            take = dp(i-1,csum+nums[i]) \n",
    "            dontake = dp(i-1,csum)\n",
    "            memo[(i,csum)] = take or dontake\n",
    "        return memo[(i,csum)]\n",
    "    memo = {}\n",
    "    return dp(len(nums)-1, 0)"
   ]
  },
  {
   "cell_type": "markdown",
   "id": "c4039e16",
   "metadata": {},
   "source": [
    "### N-th Tribonacci Number\n",
    "https://leetcode.com/problems/n-th-tribonacci-number/"
   ]
  },
  {
   "cell_type": "code",
   "execution_count": null,
   "id": "b3735b8a",
   "metadata": {},
   "outputs": [],
   "source": [
    "class Solution:\n",
    "    def tribonacci(self, n: int) -> int:\n",
    "        #0 1 1 2 4 7\n",
    "        def dp(i):\n",
    "            if i <= 0: return 0\n",
    "            if i <= 2: return 1\n",
    "            if i not in memo:\n",
    "                memo[i] = dp(i-1)+dp(i-2)+dp(i-3)\n",
    "            return memo[i]\n",
    "        memo = {}\n",
    "        return dp(n)"
   ]
  },
  {
   "cell_type": "markdown",
   "id": "65f50e9d",
   "metadata": {},
   "source": [
    "### Delete and Earn\n",
    "https://leetcode.com/problems/delete-and-earn/\n",
    "\n",
    "Since in this exercise we need to \"delete\" some elements, we struggle to solve it. In particular, we need to \"delete\" the prev and next. However, we can notice that by sorting and just looking at the prev, we can automatically look also at the next one when the index _i_ does a ++ in dp(). So, to _take_ the current elem, we need to check whether the previous is not _current val - 1_. If so, we take dp(i-1), otherwise it means that we cannot take it, so we take the previous computed value which is at dp(i-2)."
   ]
  },
  {
   "cell_type": "code",
   "execution_count": null,
   "id": "762a7c8a",
   "metadata": {},
   "outputs": [],
   "source": [
    "class Solution:\n",
    "    def deleteAndEarn(self, nums: List[int]) -> int:\n",
    "        nums.sort()\n",
    "        counter = {}\n",
    "        for elem in nums:\n",
    "            if elem not in counter:\n",
    "                counter[elem] = 1\n",
    "            else:\n",
    "                counter[elem] += 1\n",
    "        lc = []\n",
    "        for k, v in counter.items():\n",
    "            lc.append([k, v])\n",
    "            \n",
    "        def dp(i):\n",
    "            if i < 0:\n",
    "                return 0\n",
    "            if i not in memo:\n",
    "                if lc[i][0]-1 in counter:\n",
    "                    take = lc[i][0]*lc[i][1] + dp(i-2)\n",
    "                    dontake = dp(i-1)\n",
    "                    memo[i] = max(take, dontake)\n",
    "                else:\n",
    "                    take = lc[i][0]*lc[i][1] + dp(i-1)\n",
    "                    dontake = dp(i-1)\n",
    "                    memo[i] = max(take, dontake)\n",
    "            return memo[i]\n",
    "                    \n",
    "        memo = {}\n",
    "        dp(len(lc)-1)\n",
    "        return max(memo.values())"
   ]
  },
  {
   "cell_type": "markdown",
   "id": "0332237b",
   "metadata": {},
   "source": [
    "### Maximal Square\n",
    "https://leetcode.com/problems/maximal-square/"
   ]
  },
  {
   "cell_type": "code",
   "execution_count": null,
   "id": "004ec852",
   "metadata": {},
   "outputs": [],
   "source": [
    "class Solution:\n",
    "    def maximalSquare(self, matrix: List[List[str]]) -> int:\n",
    "        def dp(i, j):\n",
    "            if i < 0 or j < 0:\n",
    "                return 0\n",
    "            if (i, j) not in memo:\n",
    "                left = dp(i, j-1)\n",
    "                right = dp(i-1, j)\n",
    "                both = dp(i-1, j-1)\n",
    "                if matrix[i][j] == '1':\n",
    "                    memo[(i, j)] = min(left, both, right) + 1\n",
    "                else:\n",
    "                    memo[(i, j)] = 0 # we need to put zero to fill the memo\n",
    "            return memo[(i, j)]\n",
    "        memo = {}\n",
    "        dp(len(matrix)-1, len(matrix[0])-1)\n",
    "        return max(memo.values())**2"
   ]
  },
  {
   "cell_type": "markdown",
   "id": "dc1bc26d",
   "metadata": {},
   "source": [
    "### Longest Increasing Subsequence\n",
    "Gives TLE. Maybe for the usage of hashmap.\n",
    "https://leetcode.com/problems/longest-increasing-subsequence/"
   ]
  },
  {
   "cell_type": "code",
   "execution_count": null,
   "id": "b301768b",
   "metadata": {},
   "outputs": [],
   "source": [
    "class Solution:\n",
    "    def lengthOfLIS(self, nums: List[int]) -> int:\n",
    "        def dp(i, last_number):\n",
    "            if i >= len(nums):\n",
    "                return 0\n",
    "            if (i, last_number) not in memo:\n",
    "                take = 0\n",
    "                if nums[i] > last_number:\n",
    "                    take = 1 + dp(i+1, nums[i])\n",
    "                dontake = dp(i+1, last_number)\n",
    "                memo[(i, last_number)] = max(take, dontake)\n",
    "            return memo[(i, last_number)]\n",
    "        memo = {}\n",
    "        return dp(0, float('-inf'))"
   ]
  },
  {
   "cell_type": "markdown",
   "id": "077f5807",
   "metadata": {},
   "source": [
    "### Best Time to Buy and Sell Stock with Cooldown\n",
    "https://leetcode.com/problems/best-time-to-buy-and-sell-stock-with-cooldown/\n",
    "\n",
    "Two take dontake decisions. Just reason on what the memo has inside. Having multiple take dontake decisions do not change much. Each layer of the generated tree will trigger only one take dontake."
   ]
  },
  {
   "cell_type": "code",
   "execution_count": null,
   "id": "ad8f16fe",
   "metadata": {},
   "outputs": [],
   "source": [
    "class Solution:\n",
    "    def maxProfit(self, prices: List[int]) -> int:\n",
    "        if len(prices) == 1: return 0\n",
    "        def dp(i, buy_or_sell):\n",
    "            if i >= len(prices):\n",
    "                return 0\n",
    "            if (i, buy_or_sell) not in memo:\n",
    "                if not buy_or_sell: # if I can buy\n",
    "                    buy = -prices[i] + dp(i+1, True)\n",
    "                    notbuy = dp(i+1, buy_or_sell)\n",
    "                    memo[(i, buy_or_sell)] = max(buy, notbuy)\n",
    "                else:\n",
    "                    sell = prices[i] + dp(i+2, False)\n",
    "                    notsell = dp(i+1, buy_or_sell)\n",
    "                    memo[(i, buy_or_sell)] = max(sell, notsell)\n",
    "            return memo[(i, buy_or_sell)]\n",
    "        memo = {}\n",
    "        return dp(0, False) # by is False\n",
    "        \n",
    "# This is a more general solution in which I save the last bought value and I use it in the sell notsell part.\n",
    "# I show this solution because it can happen that in one layer of the generated tree, we cannot access some desired value\n",
    "# to use. So I store it in the memo.\n",
    "class Solution:\n",
    "    def maxProfit(self, prices: List[int]) -> int:\n",
    "        if len(prices) == 1: return 0\n",
    "        def dp(i, buy_or_sell, last):\n",
    "            if i >= len(prices):\n",
    "                return 0\n",
    "            if (i, buy_or_sell, last) not in memo:\n",
    "                if not buy_or_sell: # if I can buy\n",
    "                    buy = dp(i+1, True, prices[i])\n",
    "                    notbuy = dp(i+1, buy_or_sell, last)\n",
    "                    memo[(i, buy_or_sell, last)] = max(buy, notbuy)\n",
    "                else:\n",
    "                    sell = (prices[i]-last) + dp(i+2, False, -1)\n",
    "                    notsell = dp(i+1, buy_or_sell, last)\n",
    "                    memo[(i, buy_or_sell, last)] = max(sell, notsell)\n",
    "            return memo[(i, buy_or_sell, last)]\n",
    "        memo = {}\n",
    "        return dp(0, False, -1) # by is False\n",
    "        \n",
    "        "
   ]
  },
  {
   "cell_type": "markdown",
   "id": "a7ee41c8",
   "metadata": {},
   "source": [
    "### Best Time to Buy and Sell Stock III\n",
    "https://leetcode.com/problems/best-time-to-buy-and-sell-stock-iii/"
   ]
  },
  {
   "cell_type": "code",
   "execution_count": null,
   "id": "51f07401",
   "metadata": {},
   "outputs": [],
   "source": [
    "class Solution:\n",
    "    def maxProfit(self, prices: List[int]) -> int:\n",
    "        def dp(i, nth_trans, can_buy):\n",
    "            if i >= len(prices):\n",
    "                return 0\n",
    "            if nth_trans >= 2:\n",
    "                return 0\n",
    "            if (i, nth_trans, can_buy) not in memo:\n",
    "                if can_buy:\n",
    "                    buy = -prices[i] + dp(i+1, nth_trans, not can_buy)\n",
    "                    notbuy = dp(i+1, nth_trans, can_buy)\n",
    "                    memo[(i, nth_trans, can_buy)] = max(buy, notbuy)\n",
    "                else:\n",
    "                    sell = prices[i] + dp(i+1, nth_trans+1, not can_buy)\n",
    "                    notsell = dp(i+1, nth_trans, can_buy)\n",
    "                    memo[(i, nth_trans, can_buy)] = max(sell, notsell)\n",
    "            return memo[(i, nth_trans, can_buy)]\n",
    "        memo = {}\n",
    "        return dp(0, 0, True)\n",
    "        "
   ]
  },
  {
   "cell_type": "markdown",
   "id": "243312e8",
   "metadata": {},
   "source": [
    "### Best Time to Buy and Sell Stock IV\n",
    "https://leetcode.com/problems/best-time-to-buy-and-sell-stock-iv/"
   ]
  },
  {
   "cell_type": "code",
   "execution_count": null,
   "id": "7bca14bf",
   "metadata": {},
   "outputs": [],
   "source": [
    "class Solution:\n",
    "    def maxProfit(self, k: int, prices: List[int]) -> int:\n",
    "        if k == 0: return 0\n",
    "        def dp(i, nth_trans, can_buy):\n",
    "            if i >= len(prices):\n",
    "                return 0\n",
    "            if nth_trans >= k:\n",
    "                return 0\n",
    "            if (i, nth_trans, can_buy) not in memo:\n",
    "                if can_buy:\n",
    "                    buy = -prices[i] + dp(i+1, nth_trans, not can_buy)\n",
    "                    notbuy = dp(i+1, nth_trans, can_buy)\n",
    "                    memo[(i, nth_trans, can_buy)] = max(buy, notbuy)\n",
    "                else:\n",
    "                    sell = prices[i] + dp(i+1, nth_trans+1, not can_buy)\n",
    "                    notsell = dp(i+1, nth_trans, can_buy)\n",
    "                    memo[(i, nth_trans, can_buy)] = max(sell, notsell)\n",
    "            return memo[(i, nth_trans, can_buy)]\n",
    "        memo = {}\n",
    "        return dp(0, 0, True)"
   ]
  },
  {
   "cell_type": "markdown",
   "id": "2489a75a",
   "metadata": {},
   "source": [
    "### Best Time to Buy and Sell Stock\n",
    "https://leetcode.com/problems/best-time-to-buy-and-sell-stock/"
   ]
  },
  {
   "cell_type": "code",
   "execution_count": null,
   "id": "eeb227de",
   "metadata": {},
   "outputs": [],
   "source": [
    "class Solution:\n",
    "    def maxProfit(self, prices: List[int]) -> int:\n",
    "        def dp(i, can_buy, done):\n",
    "            if done:\n",
    "                return 0\n",
    "            if i >= len(prices):\n",
    "                return 0\n",
    "            if (i, can_buy, done) not in memo:\n",
    "                if can_buy:\n",
    "                    buy = -prices[i] + dp(i+1, not can_buy, done)\n",
    "                    notbuy = dp(i+1, can_buy, done)\n",
    "                    memo[(i, can_buy, done)] = max(buy, notbuy)\n",
    "                else:\n",
    "                    sell = prices[i] + dp(i+1, can_buy, not done)\n",
    "                    notsell = dp(i+1, can_buy, done)\n",
    "                    memo[(i, can_buy, done)] = max(sell, notsell)\n",
    "            return memo[(i, can_buy, done)]\n",
    "        memo = {}\n",
    "        return dp(0, True, False)"
   ]
  },
  {
   "cell_type": "markdown",
   "id": "89e4b094",
   "metadata": {},
   "source": [
    "### Best Time to Buy and Sell Stock II\n",
    "https://leetcode.com/problems/best-time-to-buy-and-sell-stock-ii/"
   ]
  },
  {
   "cell_type": "code",
   "execution_count": null,
   "id": "280ad07c",
   "metadata": {},
   "outputs": [],
   "source": [
    "class Solution:\n",
    "    def maxProfit(self, prices: List[int]) -> int:\n",
    "        def dp(i, can_buy):\n",
    "            if i >= len(prices):\n",
    "                return 0\n",
    "            if (i, can_buy) not in memo:\n",
    "                if can_buy:\n",
    "                    buy = -prices[i] + dp(i+1, not can_buy)\n",
    "                    notbuy = dp(i+1, can_buy)\n",
    "                    memo[(i, can_buy)] = max(buy, notbuy)\n",
    "                else:\n",
    "                    sell = prices[i] + dp(i+1, True)\n",
    "                    notsell = dp(i+1, False)\n",
    "                    memo[(i, can_buy)] = max(sell, notsell)\n",
    "            return memo[(i, can_buy)]\n",
    "        memo = {}\n",
    "        return dp(0, True)"
   ]
  },
  {
   "cell_type": "markdown",
   "id": "6d7e2192",
   "metadata": {},
   "source": [
    "### Minimum Falling Path Sum\n",
    "https://leetcode.com/problems/minimum-falling-path-sum/"
   ]
  },
  {
   "cell_type": "code",
   "execution_count": null,
   "id": "1eb6970e",
   "metadata": {},
   "outputs": [],
   "source": [
    "class Solution:\n",
    "    def minFallingPathSum(self, matrix: List[List[int]]) -> int:\n",
    "        def dp(r, c):\n",
    "            if c < 0 or c >= len(matrix):\n",
    "                return float('+inf')\n",
    "            if r == len(matrix):\n",
    "                return 0\n",
    "            if (r, c) not in memo:\n",
    "                row_left = matrix[r][c] + dp(r+1, c-1)\n",
    "                row_center = matrix[r][c] + dp(r+1, c)\n",
    "                row_right = matrix[r][c] + dp(r+1, c+1)\n",
    "                memo[(r, c)] = min(row_left, row_center, row_right)\n",
    "            return memo[(r, c)]\n",
    "        memo = {}\n",
    "        out = []\n",
    "        for i in range(len(matrix)):\n",
    "            out.append(dp(0, i))\n",
    "        return min(out)"
   ]
  },
  {
   "cell_type": "markdown",
   "id": "2e63fc03",
   "metadata": {},
   "source": [
    "### Coin Change\n",
    "https://leetcode.com/problems/coin-change/"
   ]
  },
  {
   "cell_type": "code",
   "execution_count": null,
   "id": "2f838702",
   "metadata": {},
   "outputs": [],
   "source": [
    "# take dontake\n",
    "class Solution:\n",
    "    def coinChange(self, coins: List[int], amount: int) -> int:\n",
    "        def dp(i, remaining):\n",
    "            # base case\n",
    "            if remaining == 0:\n",
    "                return 0\n",
    "            if remaining < 0:\n",
    "                return float('+inf')\n",
    "            if i == len(coins):\n",
    "                return float('+inf')\n",
    "            if (i, remaining) not in memo:\n",
    "                take = 1 + dp(i, remaining - coins[i])\n",
    "                dontake = dp(i+1, remaining)\n",
    "                memo[(i, remaining)] = min(take, dontake)\n",
    "            return memo[(i, remaining)]\n",
    "\n",
    "        memo = {}\n",
    "        res = dp(0, amount)\n",
    "        return res if res != float('+inf') else -1\n",
    "# for loop\n",
    "class Solution:\n",
    "    def coinChange(self, coins: List[int], amount: int) -> int:\n",
    "        def dp(remaining):\n",
    "            # base case\n",
    "            if remaining == 0:\n",
    "                return 0\n",
    "            if remaining < 0:\n",
    "                return float('+inf')\n",
    "            if remaining not in memo:\n",
    "                min_coins = float('+inf')\n",
    "                for c in coins:\n",
    "                    min_coins = min(min_coins, 1 + dp(remaining - c)) # this emulates a take dontake, here I actually take\n",
    "                    # everytime, but with the recursion that backtracks, is as emulating dontake for each element\n",
    "                    # (I take an element 0 times). I backtrack until the first activation stack and \"c\" becomes the next coin\n",
    "                    # in the array, but REMEMBER that \"remaining\" remains the same as the beginning, is not\n",
    "                    # another remaining value (like remaining-c). So I take the kth coin and I start taking\n",
    "                    # all the others from the beginnig from 0 to N times.\n",
    "                memo[remaining] = min_coins\n",
    "            return memo[remaining]\n",
    "\n",
    "        memo = {}\n",
    "        res = dp(amount)\n",
    "        return res if res != float('+inf') else -1"
   ]
  },
  {
   "cell_type": "markdown",
   "id": "ba71ab81",
   "metadata": {},
   "source": [
    "### Coin Change 2\n",
    "https://leetcode.com/problems/coin-change-2/"
   ]
  },
  {
   "cell_type": "code",
   "execution_count": null,
   "id": "9b8553ad",
   "metadata": {},
   "outputs": [],
   "source": [
    "class Solution:\n",
    "    def change(self, amount: int, coins: List[int]) -> int:\n",
    "        def dp(i, remaining): # min number of coins to get to amount remaining with [coins] \n",
    "            # base case\n",
    "            if remaining == 0:\n",
    "                return 1\n",
    "            if remaining < 0:\n",
    "                return 0\n",
    "            if i == len(coins):\n",
    "                return 0\n",
    "            if (i, remaining) not in memo:\n",
    "                take = dp(i, remaining-coins[i])\n",
    "                dontake = dp(i+1, remaining)\n",
    "                memo[(i, remaining)] = take + dontake\n",
    "            return memo[(i, remaining)]\n",
    "\n",
    "        memo = {}\n",
    "        return dp(0, amount)\n",
    "        "
   ]
  },
  {
   "cell_type": "markdown",
   "id": "c10431d9",
   "metadata": {},
   "source": [
    "## Combination Sum IV\n",
    "https://leetcode.com/problems/combination-sum-iv/"
   ]
  },
  {
   "cell_type": "code",
   "execution_count": null,
   "id": "1a040fd1",
   "metadata": {},
   "outputs": [],
   "source": [
    "# IMPORTANT: combsum, differently from coin change and coin change 2, let permutations (like 1,1,2 and 1,2,1) be different.\n",
    "# So we cannot use a take dontake pattern with an index that advances. We must use a for loop inside that cycles over\n",
    "# all the elements.\n",
    "class Solution:\n",
    "    def combinationSum4(self, nums: List[int], target: int) -> int:\n",
    "        def dp(remaining): # min number of coins to get to amount remaining with [coins] \n",
    "            # base case\n",
    "            if remaining == 0:\n",
    "                return 1\n",
    "            if remaining < 0:\n",
    "                return 0\n",
    "            if remaining not in memo:\n",
    "                somma = 0\n",
    "                for c in nums:\n",
    "                    somma += dp(remaining - c)\n",
    "                memo[remaining] = somma\n",
    "            return memo[remaining]\n",
    "\n",
    "        memo = {}\n",
    "        return dp(target)"
   ]
  },
  {
   "cell_type": "markdown",
   "id": "d40adb8d",
   "metadata": {},
   "source": [
    "### pramp ex"
   ]
  },
  {
   "cell_type": "code",
   "execution_count": null,
   "id": "6f1b7adb",
   "metadata": {},
   "outputs": [],
   "source": [
    "# if the == is in the \"search left\" side, then the first 1 will be in the right pointer\n",
    "arr = [-8,0,2,5]\n",
    "#arr = [0,1,2,3,4,5]\n",
    "def fun(arr):\n",
    "    left = -1\n",
    "    right = len(arr)\n",
    "    while left < right-1:\n",
    "        middle = (right + left) // 2\n",
    "        if arr[middle] >= middle:\n",
    "            right = middle\n",
    "        else:\n",
    "            left = middle\n",
    "    return right\n",
    "fun(arr)"
   ]
  },
  {
   "cell_type": "code",
   "execution_count": null,
   "id": "5fdf96b1",
   "metadata": {},
   "outputs": [],
   "source": [
    "# if the == is in the \"search right\" side, then the first 1 will be in the left pointer\n",
    "arr = [-8,0,2,5]\n",
    "#arr = [0,1,2,3,4,51]\n",
    "def fun(arr):\n",
    "    left = -1\n",
    "    right = len(arr)\n",
    "    while left < right-1:\n",
    "        middle = (right + left) // 2\n",
    "        if arr[middle] > middle:\n",
    "            right = middle\n",
    "        else:\n",
    "            left = middle\n",
    "    return arr[left]\n",
    "fun(arr)"
   ]
  },
  {
   "cell_type": "markdown",
   "id": "adfeddb0",
   "metadata": {},
   "source": [
    "### Perfect Squares\n",
    "https://leetcode.com/problems/perfect-squares/\n"
   ]
  },
  {
   "cell_type": "code",
   "execution_count": null,
   "id": "823234a8",
   "metadata": {},
   "outputs": [],
   "source": [
    "import math\n",
    "class Solution:\n",
    "    def numSquares(self, n: int) -> int:\n",
    "        if n == 1: return 1\n",
    "        arr = []\n",
    "        k = int(math.sqrt(n)+1)\n",
    "        for i in range(1, k):\n",
    "            arr.append(i**2)   \n",
    "        @cache\n",
    "        def dp(csum):\n",
    "            if csum == n:\n",
    "                return 0\n",
    "            if csum > n:\n",
    "                return float('inf')\n",
    "            minn = float('inf')\n",
    "            for i in range(len(arr)):\n",
    "                minn = min(minn, 1 + dp(csum+arr[i]))\n",
    "            return minn\n",
    "        return dp(0)\n",
    "\n",
    "# gives TLE because of memory which is quadratic\n",
    "import math\n",
    "class Solution:\n",
    "    def numSquares(self, n: int) -> int:\n",
    "        if n == 1: return 1\n",
    "        arr = []\n",
    "        k = int(math.sqrt(n)+1)\n",
    "        for i in range(1, k):\n",
    "            arr.append(i**2)\n",
    "        def dp(i, csum):\n",
    "            if i == len(arr):\n",
    "                return float('inf')\n",
    "            if csum == n:\n",
    "                return 0\n",
    "            if csum > n:\n",
    "                return float('inf')\n",
    "            if (i, csum) not in memo:\n",
    "                take = 1 + dp(i, csum+arr[i])\n",
    "                dontake = dp(i+1, csum)\n",
    "                memo[(i, csum)] = min(take, dontake)\n",
    "            return memo[(i, csum)]\n",
    "        memo = {}\n",
    "        return dp(0, 0)"
   ]
  },
  {
   "cell_type": "markdown",
   "id": "90ff76c7",
   "metadata": {},
   "source": [
    "### Jump Game\n",
    "https://leetcode.com/problems/jump-game/\n",
    "\n",
    "Gives TLE but correct DP solution."
   ]
  },
  {
   "cell_type": "code",
   "execution_count": null,
   "id": "c0ecc4a0",
   "metadata": {},
   "outputs": [],
   "source": [
    "class Solution:\n",
    "    def canJump(self, nums: List[int]) -> bool: \n",
    "        def dp(i): \n",
    "            if i == len(nums)-1: \n",
    "                return True \n",
    "            if i >= len(nums): \n",
    "                return False \n",
    "            if i < len(nums)-1 and nums[i] == 0: \n",
    "                return False \n",
    "            if i not in memo: \n",
    "                res = False \n",
    "                for jumps in range(1, nums[i]+1): \n",
    "                    res2 = dp(i+jumps) \n",
    "                    res = res or res2 \n",
    "                memo[i] = res \n",
    "            return memo[i] \n",
    "        memo = {} \n",
    "        return dp(0)"
   ]
  },
  {
   "cell_type": "markdown",
   "id": "1043cf2a",
   "metadata": {},
   "source": [
    "### Target Sum\n",
    "https://leetcode.com/problems/target-sum/"
   ]
  },
  {
   "cell_type": "code",
   "execution_count": null,
   "id": "983c989a",
   "metadata": {},
   "outputs": [],
   "source": [
    "class Solution:\n",
    "    def findTargetSumWays(self, nums: List[int], target: int) -> int:\n",
    "        def dp(i, csum):\n",
    "            if i > len(nums):\n",
    "                return 0\n",
    "            if i == len(nums) and csum == target:\n",
    "                return 1\n",
    "            if i == len(nums) and csum != target:\n",
    "                return 0\n",
    "            if (i, csum) not in memo:\n",
    "                this_plus = dp(i+1, csum+nums[i])\n",
    "                this_minus = dp(i+1, csum-nums[i])\n",
    "                memo[(i, csum)] = this_plus + this_minus\n",
    "            return memo[(i, csum)]\n",
    "        memo = {}\n",
    "        return dp(0, 0)\n",
    "        "
   ]
  },
  {
   "cell_type": "code",
   "execution_count": null,
   "id": "572834a1",
   "metadata": {},
   "outputs": [],
   "source": [
    "a = [-3,-1,-1,-2]\n",
    "def maxProduct(nums):\n",
    "    def dp(i):\n",
    "        if i >= len(nums):\n",
    "            return 1\n",
    "        if i not in memo:\n",
    "            take = nums[i] * dp(i+1)\n",
    "            dontake = nums[i]\n",
    "            memo[i] = max(take, dontake)\n",
    "        return memo[i]\n",
    "    memo = {}\n",
    "    dp(0)\n",
    "    return max(memo.values())\n",
    "maxProduct(a)"
   ]
  },
  {
   "cell_type": "markdown",
   "id": "f1171d65",
   "metadata": {},
   "source": [
    "### Non-overlapping Intervals\n",
    "https://leetcode.com/problems/non-overlapping-intervals/\n",
    "\n",
    "TLE because the solution is N^2 but the optimal is NlogN. However, is correct.\n",
    "\n",
    "Non ho capito un cazzo di questa sol."
   ]
  },
  {
   "cell_type": "code",
   "execution_count": null,
   "id": "2533a992",
   "metadata": {},
   "outputs": [],
   "source": [
    "class Solution:\n",
    "    def eraseOverlapIntervals(self, intervals: List[List[int]]) -> int:\n",
    "        # [1,11],[1,100],[2,12],[11,22]\n",
    "        if len(intervals) == 1: return 0\n",
    "        intervals.sort(key=lambda k: [k[0],k[1]])\n",
    "        def dp(prev, i):\n",
    "            if i >= len(intervals): return 0\n",
    "            if (prev, i) not in memo:\n",
    "                remove = float('+inf')\n",
    "                if intervals[prev][1] > intervals[i][0]:\n",
    "                    remove = 1 + dp(prev, i+1)\n",
    "                    dontremove = 1 + dp(i, i+1)\n",
    "                    memo[(prev, i)] = min(remove, dontremove)\n",
    "                else:\n",
    "                    dontremove = dp(i, i+1)\n",
    "                    memo[(prev, i)] = min(remove, dontremove)\n",
    "            return memo[(prev, i)] \n",
    "           \n",
    "        memo = {}\n",
    "        return dp(0, 1)"
   ]
  },
  {
   "cell_type": "markdown",
   "id": "4fb8358c",
   "metadata": {},
   "source": [
    "### Maximum Split of Positive Even Integers\n",
    "https://leetcode.com/problems/maximum-split-of-positive-even-integers/"
   ]
  },
  {
   "cell_type": "code",
   "execution_count": null,
   "id": "a3eddbcf",
   "metadata": {},
   "outputs": [],
   "source": [
    "class Solution:\n",
    "    def maximumEvenSplit(self, final: int) -> List[int]:\n",
    "        if final % 2 != 0: return []\n",
    "        # [2,4,6,8,10,12]\n",
    "        def dp(i, csum):\n",
    "            if csum == final:\n",
    "                return 0\n",
    "            if i > final:\n",
    "                return float('-inf')\n",
    "            if csum > final:\n",
    "                return float('-inf')\n",
    "            if (i, csum) in memo:\n",
    "                return memo[(i, csum)]\n",
    "            take = 1+dp(i+2, csum+i)\n",
    "            dontake = dp(i+2, csum)\n",
    "            return max(take, dontake)\n",
    "        def solve(i, csum):\n",
    "            nonlocal l\n",
    "            if csum == final: return\n",
    "            if i > final: return\n",
    "            if csum > final: return\n",
    "            take = 1+dp(i+2, csum+i)\n",
    "            dontake = dp(i+2, csum)\n",
    "            if take > dontake:\n",
    "                l.append(i)\n",
    "                return solve(i+2, csum+i)\n",
    "            else:\n",
    "                return solve(i+2, csum)\n",
    "        \n",
    "       \n",
    "        memo = {}\n",
    "        maxlen = dp(2, 0)\n",
    "        l = []\n",
    "        solve(2, 0)\n",
    "        return l"
   ]
  },
  {
   "cell_type": "markdown",
   "id": "b26b4ce8",
   "metadata": {},
   "source": [
    "### Maximum Number of Points with Cost\n",
    "https://leetcode.com/problems/maximum-number-of-points-with-cost/\n",
    "\n",
    "TC: O(r $\\times$ c^2), but best TC is O(r $\\times$ c)."
   ]
  },
  {
   "cell_type": "code",
   "execution_count": null,
   "id": "32137945",
   "metadata": {},
   "outputs": [],
   "source": [
    "class Solution:\n",
    "    def maxPoints(self, points: List[List[int]]) -> int:\n",
    "        def dp(r, c):\n",
    "            if r >= len(points):\n",
    "                return 0\n",
    "            if c >= len(points[0]):\n",
    "                return 0\n",
    "            if (r, c) not in memo:\n",
    "                max_points_sofar = float('-inf')\n",
    "                for new_col in range(len(points[0])):\n",
    "                    take = points[r][c] + dp(r+1, new_col) - abs(c - new_col)\n",
    "                    max_points_sofar = max(take, max_points_sofar)\n",
    "                memo[(r, c)] = max_points_sofar\n",
    "                \n",
    "            return memo[(r, c)]\n",
    "        memo = {}\n",
    "        \n",
    "        for col in range(len(points[0])):\n",
    "            a = dp(0, col)\n",
    "        return max(memo.values())"
   ]
  },
  {
   "cell_type": "markdown",
   "id": "d87ac04a",
   "metadata": {},
   "source": [
    "### Find the largest pair sum in an unsorted array\n",
    "https://www.geeksforgeeks.org/find-the-largest-pair-sum-in-an-unsorted-array/"
   ]
  },
  {
   "cell_type": "code",
   "execution_count": 8,
   "id": "6b5adc1e",
   "metadata": {},
   "outputs": [
    {
     "data": {
      "text/plain": [
       "1040"
      ]
     },
     "execution_count": 8,
     "metadata": {},
     "output_type": "execute_result"
    }
   ],
   "source": [
    "nums = [12, 34, 10, 6, 40, 1000, 1] # output: 1040\n",
    "\n",
    "def largest_pair_sum(nums):\n",
    "    def dp(i, taken, trans_completed):\n",
    "        if trans_completed:\n",
    "            return 0\n",
    "        if i >= len(nums):\n",
    "            return 0\n",
    "        if (i, taken, trans_completed) not in memo:\n",
    "            if not taken: \n",
    "                take = nums[i] + dp(i+1, True, False)\n",
    "                dontake = dp(i+1, False, False)\n",
    "                memo[(i, taken, trans_completed)] = max(take, dontake)\n",
    "            else:\n",
    "                take = nums[i] + dp(i+1, False, True)\n",
    "                dontake = dp(i+1, True, False)\n",
    "                memo[(i, taken, trans_completed)] = max(take, dontake)\n",
    "        return memo[(i, taken, trans_completed)]\n",
    "    memo = {}\n",
    "    return dp(0, False, False)\n",
    "largest_pair_sum(nums)"
   ]
  },
  {
   "cell_type": "markdown",
   "id": "0456d96c",
   "metadata": {},
   "source": [
    "### Find the smallest pair difference in an unsorted array"
   ]
  },
  {
   "cell_type": "code",
   "execution_count": 68,
   "id": "fda8b842",
   "metadata": {},
   "outputs": [
    {
     "data": {
      "text/plain": [
       "2"
      ]
     },
     "execution_count": 68,
     "metadata": {},
     "output_type": "execute_result"
    }
   ],
   "source": [
    "# constraint: they are all postive numbers\n",
    "nums = [18, 10, 16] # output: 2\n",
    "def smaller_pair_diff(nums):\n",
    "    nums.sort() # NOTE: we need to sort!\n",
    "    def dp(i, taken, trans_completed):\n",
    "        if trans_completed:\n",
    "            return 0\n",
    "        if i >= len(nums) and not trans_completed:\n",
    "            return float('+inf')\n",
    "        if i >= len(nums):\n",
    "            return 0\n",
    "        if (i, taken, trans_completed) not in memo:\n",
    "            if not taken: \n",
    "                take = -nums[i] + dp(i+1, True, False)\n",
    "                dontake = dp(i+1, False, False)\n",
    "                memo[(i, taken, trans_completed)] = min(take, dontake)\n",
    "            else:\n",
    "                take = nums[i] + dp(i+1, False, True)\n",
    "                dontake = dp(i+1, True, False)\n",
    "                memo[(i, taken, trans_completed)] = min(take, dontake)\n",
    "        return memo[(i, taken, trans_completed)]\n",
    "    memo = {}\n",
    "    return dp(0, False, False)\n",
    "smaller_pair_diff(nums)"
   ]
  },
  {
   "cell_type": "markdown",
   "id": "91cc0f68",
   "metadata": {},
   "source": [
    "### Number of Increasing Paths in a Grid\n",
    "https://leetcode.com/problems/number-of-increasing-paths-in-a-grid/"
   ]
  },
  {
   "cell_type": "code",
   "execution_count": null,
   "id": "5c40f114",
   "metadata": {},
   "outputs": [],
   "source": [
    "# four DP directions pattern\n",
    "class Solution:\n",
    "    def countPaths(self, grid: List[List[int]]) -> int:\n",
    "        \n",
    "        def dp(r, c):\n",
    "            current = 1\n",
    "            if (r, c) in memo:\n",
    "                return memo[(r, c)]\n",
    "            for x, y in [(0,1),(1,0),(0,-1),(-1,0)]:\n",
    "                nx, ny = r+x, c+y\n",
    "                if nx >= 0 and nx < len(grid) and ny >= 0 and ny < len(grid[0]) and grid[nx][ny] > grid[r][c]:\n",
    "                    current += dp(nx, ny)\n",
    "            memo[(r, c)] = current\n",
    "            return memo[(r, c)]\n",
    "            \n",
    "        memo = {}\n",
    "        ans = 0\n",
    "        for row in range(len(grid)):\n",
    "            for col in range(len(grid[0])):\n",
    "                ans += dp(row, col)\n",
    "        return ans % (10**9 + 7)"
   ]
  },
  {
   "cell_type": "code",
   "execution_count": null,
   "id": "6e3a1e73",
   "metadata": {},
   "outputs": [],
   "source": [
    "# classic DP but using prev (higher TC and SC)\n",
    "class Solution:\n",
    "    def countPaths(self, grid: List[List[int]]) -> int:\n",
    "        R, C = len(grid), len(grid[0])\n",
    "        \n",
    "        def dp(r, c, prev):\n",
    "            if r < 0 or r >= R or c < 0 or c >= C:\n",
    "                return 0\n",
    "            if prev >= grid[r][c]:\n",
    "                return 0\n",
    "            if (r, c, prev) not in memo:\n",
    "                up = dp(r-1, c, grid[r][c])\n",
    "                down = dp(r+1, c, grid[r][c])\n",
    "                left = dp(r, c-1, grid[r][c])\n",
    "                right = dp(r, c+1, grid[r][c])\n",
    "                memo[(r, c, prev)] = 1 + up+down+left+right\n",
    "            return memo[(r, c, prev)]\n",
    "                \n",
    "        memo = {}\n",
    "        res = 0\n",
    "        for row in range(R):\n",
    "            for col in range(C):\n",
    "                res += dp(row, col, 0)\n",
    "        return res % (10**9 + 7)"
   ]
  },
  {
   "cell_type": "code",
   "execution_count": null,
   "id": "f00fae14",
   "metadata": {},
   "outputs": [],
   "source": []
  }
 ],
 "metadata": {
  "kernelspec": {
   "display_name": "Python 3",
   "language": "python",
   "name": "python3"
  },
  "language_info": {
   "codemirror_mode": {
    "name": "ipython",
    "version": 3
   },
   "file_extension": ".py",
   "mimetype": "text/x-python",
   "name": "python",
   "nbconvert_exporter": "python",
   "pygments_lexer": "ipython3",
   "version": "3.8.8"
  }
 },
 "nbformat": 4,
 "nbformat_minor": 5
}
