{
 "cells": [
  {
   "cell_type": "markdown",
   "id": "1e1a1619",
   "metadata": {},
   "source": [
    "### Heap"
   ]
  },
  {
   "cell_type": "code",
   "execution_count": null,
   "id": "a7e69390",
   "metadata": {},
   "outputs": [],
   "source": [
    "listForTree = [1,2,3,4,5,6,7,8,9,10,11,12,13,14,15]    \n",
    "heapq.heapify(listForTree)  "
   ]
  },
  {
   "cell_type": "code",
   "execution_count": null,
   "id": "b3a5945a",
   "metadata": {},
   "outputs": [],
   "source": [
    "heapq.heappop(listForTree)"
   ]
  },
  {
   "cell_type": "code",
   "execution_count": null,
   "id": "df19686b",
   "metadata": {},
   "outputs": [],
   "source": [
    "heapq.heappush(listForTree, -2)"
   ]
  },
  {
   "cell_type": "markdown",
   "id": "e41422a4",
   "metadata": {},
   "source": [
    "### Graph"
   ]
  },
  {
   "cell_type": "markdown",
   "id": "238f6baa",
   "metadata": {},
   "source": [
    "**Cycle undirected graph**"
   ]
  },
  {
   "cell_type": "code",
   "execution_count": null,
   "id": "071eb468",
   "metadata": {},
   "outputs": [],
   "source": [
    "while stack:\n",
    "    current_node = stack.pop()\n",
    "    for neighbor in graph[current_node]:\n",
    "        # A -> B -> A case\n",
    "        if parent[current_node] == neighbor:\n",
    "            continue\n",
    "        # cycle check: if the parent map contains something like this, then there is a cycle:\n",
    "        # 3:1, 2:1, 2:3 ({neighbor:parent})\n",
    "        if neighbor in parent:\n",
    "            return False\n",
    "        stack.append(neighbor)\n",
    "        count += 1\n",
    "        # the current node will become the parent of this neighbor\n",
    "        parent[neighbor] = current_node"
   ]
  },
  {
   "cell_type": "markdown",
   "id": "0973f4d3",
   "metadata": {},
   "source": [
    "**Cycle directed graph**"
   ]
  },
  {
   "cell_type": "code",
   "execution_count": null,
   "id": "9cbf344c",
   "metadata": {},
   "outputs": [],
   "source": [
    "GRAY = 1 \n",
    "BLACK = 2 \n",
    "status = [0] * numCourses\n",
    "\n",
    "def have_cycle(graph, source, states): \n",
    "    if states[source] == GRAY: # cycle detected \n",
    "        return True \n",
    "    states[source] = GRAY \n",
    "    if source in graph: \n",
    "        for next_node in graph[source]:\n",
    "            if states[next_node] != BLACK: # Make sure the node has not been completely visited yet\n",
    "                if have_cycle(graph, next_node, states): \n",
    "                    return True \n",
    " \n",
    "    states[source] = BLACK \n",
    "    return False # no cycles \n",
    "\n",
    "# Call. I need to call it for every white node \n",
    "# because otherwise I might miss some nodes to check for a cycle.\n",
    "# This also if the graph is connected! (if it is not connected, a maggior ragione)\n",
    "for node in range(numCourses): # actually, in this case, is sufficient to call it only for the nodes in the graph\n",
    "    if status[node] != BLACK:\n",
    "        have_cycle(graph, source, status)"
   ]
  },
  {
   "cell_type": "markdown",
   "id": "2026e9a9",
   "metadata": {},
   "source": [
    "**Kahn's algorithm for topological sort**"
   ]
  },
  {
   "cell_type": "code",
   "execution_count": null,
   "id": "ba06f978",
   "metadata": {},
   "outputs": [],
   "source": [
    "while queue:\n",
    "    course = queue.popleft()\n",
    "    out.append(course)\n",
    "    if course in graph:\n",
    "        for neighbor in graph[course]:\n",
    "            in_degree[neighbor] -= 1\n",
    "            if in_degree[neighbor] == 0:\n",
    "                queue.append(neighbor)"
   ]
  },
  {
   "cell_type": "markdown",
   "id": "cca771a7",
   "metadata": {},
   "source": [
    "**Union find**"
   ]
  },
  {
   "cell_type": "code",
   "execution_count": null,
   "id": "003ac758",
   "metadata": {},
   "outputs": [],
   "source": [
    "# UnionFind class\n",
    "class UnionFind:\n",
    "    # O(V)\n",
    "    def __init__(self, size):\n",
    "        self.root = [i for i in range(size)]\n",
    "        # Use a rank array to record the height of each vertex, i.e., the \"rank\" of each vertex.\n",
    "        # The initial \"rank\" of each vertex is 1, because each of them is\n",
    "        # a standalone vertex with no connection to other vertices.\n",
    "        self.rank = [1] * size\n",
    "    # O(α(n)) where α(n) is the inverse Ackermann function.\n",
    "    # The find function here is the same as that in the disjoint set with path compression.\n",
    "    def find(self, x):\n",
    "        if x == self.root[x]:\n",
    "            return x\n",
    "        self.root[x] = self.find(self.root[x])\n",
    "        return self.root[x]\n",
    "    # O(α(n)) where α(n) is the inverse Ackermann function.\n",
    "    # The union function with union by rank.\n",
    "    # Merges node belonging to the same \"cluster\". Also, \n",
    "    # if a merge did not happen there must be a cycle.\n",
    "    def union(self, x, y):\n",
    "        rootX = self.find(x)\n",
    "        rootY = self.find(y)\n",
    "        if rootX != rootY:\n",
    "            if self.rank[rootX] > self.rank[rootY]:\n",
    "                self.root[rootY] = rootX\n",
    "            elif self.rank[rootX] < self.rank[rootY]:\n",
    "                self.root[rootX] = rootY\n",
    "            else:\n",
    "                self.root[rootY] = rootX\n",
    "                self.rank[rootX] += 1\n",
    "            return True\n",
    "        return False\n",
    "    # O(α(n)) where α(n) is the inverse Ackermann function.\n",
    "    def connected(self, x, y):\n",
    "        return self.find(x) == self.find(y)"
   ]
  }
 ],
 "metadata": {
  "kernelspec": {
   "display_name": "Python 3",
   "language": "python",
   "name": "python3"
  },
  "language_info": {
   "codemirror_mode": {
    "name": "ipython",
    "version": 3
   },
   "file_extension": ".py",
   "mimetype": "text/x-python",
   "name": "python",
   "nbconvert_exporter": "python",
   "pygments_lexer": "ipython3",
   "version": "3.8.8"
  }
 },
 "nbformat": 4,
 "nbformat_minor": 5
}
