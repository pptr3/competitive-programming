{
 "cells": [
  {
   "cell_type": "markdown",
   "id": "e41422a4",
   "metadata": {},
   "source": [
    "### Graph"
   ]
  },
  {
   "cell_type": "markdown",
   "id": "238f6baa",
   "metadata": {},
   "source": [
    "**Cycle UNdirected graph**"
   ]
  },
  {
   "cell_type": "code",
   "execution_count": null,
   "id": "071eb468",
   "metadata": {},
   "outputs": [],
   "source": [
    "parent = {edges[0][0]:-1}\n",
    "while stack:\n",
    "    current_node = stack.pop()\n",
    "    for neighbor in graph[current_node]:\n",
    "        # A -> B -> A case\n",
    "        if parent[current_node] == neighbor:\n",
    "            continue\n",
    "        # cycle check: if the parent map contains something like this, then there is a cycle:\n",
    "        # 3:1, 2:1, 2:3 ({neighbor:parent})\n",
    "        if neighbor in parent:\n",
    "            return False\n",
    "        stack.append(neighbor)\n",
    "        count += 1\n",
    "        # the current node will become the parent of this neighbor\n",
    "        parent[neighbor] = current_node"
   ]
  },
  {
   "cell_type": "markdown",
   "id": "0973f4d3",
   "metadata": {},
   "source": [
    "**Cycle Directed graph**"
   ]
  },
  {
   "cell_type": "code",
   "execution_count": null,
   "id": "9cbf344c",
   "metadata": {},
   "outputs": [],
   "source": [
    "GRAY = 1 \n",
    "BLACK = 2 \n",
    "status = [0] * numCourses # this can be also a hashmap with all possible keys as key with values of 0 (or -1, whatever)\n",
    "# GRAY, BLACK, status = 1, 2, {k:0 for k in set_of_p}, set_of_pare all the possible keys\n",
    "def have_cycle(graph, source, stat): \n",
    "    if stat[source] == GRAY: # cycle detected \n",
    "        return True \n",
    "    stat[source] = GRAY \n",
    "    if source in graph: \n",
    "        for next_node in graph[source]:\n",
    "            if stat[next_node] != BLACK: # Make sure the node has not been completely visited yet\n",
    "                if have_cycle(graph, next_node, stat): \n",
    "                    return True \n",
    " \n",
    "    states[source] = BLACK \n",
    "    return False # no cycles \n",
    "\n",
    "# Call. I need to call it for every white node \n",
    "# because otherwise I might miss some nodes to check for a cycle.\n",
    "# This also if the graph is connected! (if it is not connected, a maggior ragione)\n",
    "for node in range(numCourses): # actually, in this case, is sufficient to call it only for the nodes in the graph\n",
    "    if status[node] != BLACK:\n",
    "        have_cycle(graph, node, status)"
   ]
  },
  {
   "cell_type": "markdown",
   "id": "c328a062",
   "metadata": {},
   "source": [
    "#### DFS on adjancency matrix"
   ]
  },
  {
   "cell_type": "code",
   "execution_count": null,
   "id": "50622217",
   "metadata": {},
   "outputs": [],
   "source": [
    "class Solution:\n",
    "    def findCircleNumS(self, mat: List[List[int]]) -> int:\n",
    "        '''\n",
    "        [1,1,0,1]\n",
    "        [1,1,0,0]\n",
    "        [0,0,1,0]\n",
    "        [0,0,1,0]\n",
    "        '''\n",
    "        seen = set()\n",
    "        count = 0\n",
    "        for row in range(len(mat)):\n",
    "            if row not in seen:\n",
    "                seen.add(row)\n",
    "                stack = [row]\n",
    "                while stack:\n",
    "                    current_row = stack.pop()\n",
    "                    for col in range(len(mat[0])):\n",
    "                        if mat[current_row][col] == 1 and col not in seen:\n",
    "                            seen.add(col)\n",
    "                            stack.append(col)\n",
    "                count += 1\n",
    "        return count"
   ]
  },
  {
   "cell_type": "markdown",
   "id": "56d7297b",
   "metadata": {},
   "source": [
    "### Adjacency matrix vs list\n",
    "\n",
    "<img src=\"adj.png\" height=\"50%\" width=\"50%\">\n",
    "\n",
    "<img src=\"adj_space.png\" height=\"50%\" width=\"50%\">"
   ]
  },
  {
   "cell_type": "markdown",
   "id": "2026e9a9",
   "metadata": {},
   "source": [
    "**Kahn's algorithm for topological sort**"
   ]
  },
  {
   "cell_type": "code",
   "execution_count": null,
   "id": "ba06f978",
   "metadata": {},
   "outputs": [],
   "source": [
    "while queue:\n",
    "    course = queue.popleft()\n",
    "    out.append(course)\n",
    "    if course in graph:\n",
    "        for neighbor in graph[course]:\n",
    "            in_degree[neighbor] -= 1\n",
    "            if in_degree[neighbor] == 0:\n",
    "                queue.append(neighbor)"
   ]
  },
  {
   "cell_type": "markdown",
   "id": "103a64b3",
   "metadata": {},
   "source": [
    "**Kruskal**"
   ]
  },
  {
   "cell_type": "code",
   "execution_count": null,
   "id": "5f6f1d06",
   "metadata": {},
   "outputs": [],
   "source": [
    "# I need to add N-1 edges\n",
    "while added_edges < vertices:\n",
    "    edge = inp[i]\n",
    "    if not uf.connected(edge[0], edge[1]):\n",
    "        uf.union(edge[0], edge[1])\n",
    "        cost += edge[2] \n",
    "        added_edges += 1 # IMPORTANT: we need to keep count of the added edges because\n",
    "                         # we are not adding a new one everytime if they are connected already\n",
    "                         # since they can be indirectly connected (from a UnionFind point of view connections)\n",
    "    i += 1\n",
    "return cost"
   ]
  },
  {
   "cell_type": "markdown",
   "id": "cca771a7",
   "metadata": {},
   "source": [
    "**Union find**"
   ]
  },
  {
   "cell_type": "code",
   "execution_count": null,
   "id": "003ac758",
   "metadata": {},
   "outputs": [],
   "source": [
    "# UnionFind class\n",
    "class UnionFind:\n",
    "    # O(V)\n",
    "    def __init__(self, size):\n",
    "        self.root = [i for i in range(size)]\n",
    "        # Use a rank array to record the height of each vertex, i.e., the \"rank\" of each vertex.\n",
    "        # The initial \"rank\" of each vertex is 1, because each of them is\n",
    "        # a standalone vertex with no connection to other vertices.\n",
    "        self.rank = [1] * size\n",
    "    # O(α(n)) where α(n) is the inverse Ackermann function.\n",
    "    # The find function here is the same as that in the disjoint set with path compression.\n",
    "    def find(self, x):\n",
    "        if x == self.root[x]:\n",
    "            return x\n",
    "        self.root[x] = self.find(self.root[x])\n",
    "        return self.root[x]\n",
    "    # O(α(n)) where α(n) is the inverse Ackermann function.\n",
    "    # The union function with union by rank.\n",
    "    # Merges node belonging to the same \"cluster\". Also, \n",
    "    # if a merge did not happen there must be a cycle.\n",
    "    def union(self, x, y):\n",
    "        rootX = self.find(x)\n",
    "        rootY = self.find(y)\n",
    "        if rootX != rootY:\n",
    "            if self.rank[rootX] > self.rank[rootY]:\n",
    "                self.root[rootY] = rootX\n",
    "            elif self.rank[rootX] < self.rank[rootY]:\n",
    "                self.root[rootX] = rootY\n",
    "            else:\n",
    "                self.root[rootY] = rootX\n",
    "                self.rank[rootX] += 1\n",
    "            return True\n",
    "        return False\n",
    "    # O(α(n)) where α(n) is the inverse Ackermann function.\n",
    "    def connected(self, x, y):\n",
    "        return self.find(x) == self.find(y)"
   ]
  },
  {
   "cell_type": "markdown",
   "id": "95b6b15c",
   "metadata": {},
   "source": [
    "#### Rope Cord"
   ]
  },
  {
   "cell_type": "code",
   "execution_count": null,
   "id": "1ca712b7",
   "metadata": {},
   "outputs": [],
   "source": [
    "class Node:\n",
    "    def __init__(self):\n",
    "        self.left, self.right = None, None\n",
    "        self.length = # length of substring of the node\n",
    "        self.value = None # the actual substring\n",
    "\n",
    "    def print(self):\n",
    "        if self.left: self.left.print()\n",
    "        if self.right: self.right.print()\n",
    "        if self.value:\n",
    "            print(self.value, end=\"\")\n",
    "\n",
    "class Cord:\n",
    "    def __init__(self, largestr, maxnodelen=5):\n",
    "        # O(N)\n",
    "        def buildtree(i, j):\n",
    "            length = j-i\n",
    "            node = Node()\n",
    "            if length > maxnodelen:\n",
    "                node.left = buildtree(i, i + maxnodelen) # this is like splitting from 0 to mid\n",
    "                node.right = buildtree(i + maxnodelen, j) # and here from mid + 1 to len(allstring)\n",
    "            else:\n",
    "                node.value = largestr[i:j]\n",
    "            node.length = length\n",
    "            return node\n",
    "        self.root = buildtree(0, len(largestr))\n",
    "\n",
    "    def print(self):\n",
    "        self.root.print()\n",
    "        print()\n",
    "    # O(logN)\n",
    "    def char_at(self, index, node=None):\n",
    "        if node is None:\n",
    "            node = self.root\n",
    "    \n",
    "        if index >= node.length:\n",
    "            return None\n",
    "            \n",
    "        if node.value: return node.value[index]\n",
    "        \n",
    "        search = None\n",
    "        if index < node.left.length:\n",
    "            search = node.left\n",
    "        else:\n",
    "            search = node.right\n",
    "            index -= node.left.length\n",
    "        return self.char_at(index, search)\n",
    "    # O(N) I guess (in case start == 0 and end == len(str))\n",
    "    def substr(self, start, end, node=None):\n",
    "        if node is None:\n",
    "            node = self.root\n",
    "\n",
    "        start = max(0, start)\n",
    "        end = min(end, start + node.length)\n",
    "        if node.value:\n",
    "            return node.value[start:end]\n",
    "        \n",
    "        left = \"\"\n",
    "        if start < node.left.length: # value at left\n",
    "            left = self.substr(start, end, node.left)\n",
    "            \n",
    "        right = \"\"\n",
    "        if end > node.left.length:\n",
    "            right = self.substr(start - node.left.length, end - node.left.length, node.right)\n",
    "        return left + right\n",
    "        \n",
    "    def delete(self, index, node = None):\n",
    "        if node is None:\n",
    "            node = self.root\n",
    "        if index >= node.length:\n",
    "            return\n",
    "\n",
    "        if node.value:\n",
    "            node.value = node.value[:index] + node.value[index+1:]\n",
    "            node.length-=1\n",
    "            return\n",
    "        \n",
    "        if index < node.left.length:\n",
    "            self.delete(index, node.left)\n",
    "        else:\n",
    "            self.delete(index-node.left.length, node.right)\n",
    "        node.length-=1\n",
    "        \n",
    "test = Cord(\"0123456789\")\n",
    "\n",
    "print(test.char_at(2))\n",
    "print(test.char_at(6))\n",
    "print(test.substr(2, 7))\n",
    "\n",
    "test.print()\n",
    "print(test.substr(2,4))\n",
    "\n",
    "test.delete(3) # delete char 3\n",
    "print(test.char_at(3)) # this should print 4\n",
    "test.print()"
   ]
  },
  {
   "cell_type": "markdown",
   "id": "60eb38a4",
   "metadata": {},
   "source": [
    "### Comparator"
   ]
  },
  {
   "cell_type": "code",
   "execution_count": null,
   "id": "fcf2afe3",
   "metadata": {},
   "outputs": [],
   "source": [
    "from functools import cmp_to_key\n",
    "def compare(x, y):\n",
    "    if x+y > y+x: # in positive case we return -1\n",
    "        return -1\n",
    "    elif x+y < y+x: # in negative case we return 1\n",
    "        return 1\n",
    "    else: # if they are equal, return 0\n",
    "        return 0 \n",
    "nums = ''.join(sorted(nums, key=cmp_to_key(compare)))\n",
    "\n",
    "# OR (python 2 I guess)\n",
    "\n",
    "def absSort(arr):\n",
    "    return sorted(arr, cmp=compare)\n",
    "  \n",
    "def compare(a, b):\n",
    "    if abs(a) < abs(b): return -1\n",
    "    if abs(a) > abs(b): return 1\n",
    "    if a < b: return -1\n",
    "    if a > b: return 1\n",
    "    return 0"
   ]
  },
  {
   "cell_type": "markdown",
   "id": "37fa48ec",
   "metadata": {},
   "source": [
    "### String methods\n",
    "`.isalnum()`: return if char is letter or number\n",
    "\n",
    "`.lower() / upper()`: convert string to lowercase / uppercase\n",
    "\n",
    "`.islower() / isupper()`: return True if lower / upper"
   ]
  },
  {
   "cell_type": "markdown",
   "id": "ded4ac67",
   "metadata": {},
   "source": [
    "**Leading zeros**"
   ]
  },
  {
   "cell_type": "code",
   "execution_count": 8,
   "id": "7a0f6ab5",
   "metadata": {},
   "outputs": [
    {
     "data": {
      "text/plain": [
       "'003:40'"
      ]
     },
     "execution_count": 8,
     "metadata": {},
     "output_type": "execute_result"
    }
   ],
   "source": [
    "\"{:03d}:{:02d}\".format(3, 40)"
   ]
  },
  {
   "cell_type": "markdown",
   "id": "d9f6972a",
   "metadata": {},
   "source": [
    "### Binary Search Template"
   ]
  },
  {
   "cell_type": "code",
   "execution_count": null,
   "id": "d6cf0363",
   "metadata": {},
   "outputs": [],
   "source": [
    "def search(self, nums, target):\n",
    "    l = -1\n",
    "    r = len(nums)\n",
    "\n",
    "    while l < r - 1:\n",
    "        m = (l + r) // 2\n",
    "        if nums[m] >= target:\n",
    "            r = m\n",
    "        else:\n",
    "            l = m\n",
    "\n",
    "    if r == len(nums):\n",
    "        return -1\n",
    "    if nums[r] == target:\n",
    "        return r\n",
    "    else:\n",
    "        return -1"
   ]
  },
  {
   "cell_type": "markdown",
   "id": "49851d85",
   "metadata": {},
   "source": [
    "### Path from root to destination using backtraking and no copy() on TREE but generalizable on graph"
   ]
  },
  {
   "cell_type": "code",
   "execution_count": null,
   "id": "89cbe0ef",
   "metadata": {},
   "outputs": [],
   "source": [
    "# collect path from root to target with backtracking\n",
    "def backtrack_path(root, target, path):\n",
    "    if not root:\n",
    "        return False\n",
    "    if root.val == target:\n",
    "        path.append(root.val)\n",
    "        return True\n",
    "    path.append(root.val)\n",
    "    if backtrack_path(root.left, target, path):\n",
    "        return True\n",
    "    path.pop()\n",
    "    path.append(root.val)\n",
    "    if backtrack_path(root.right, target, path):\n",
    "        return True\n",
    "    path.pop()\n",
    "    return False\n",
    "\n",
    "\n",
    "path_start = []\n",
    "backtrack_path(root, startValue, path_start)"
   ]
  },
  {
   "cell_type": "markdown",
   "id": "5e486bf2",
   "metadata": {},
   "source": [
    "### Return list in DP"
   ]
  },
  {
   "cell_type": "code",
   "execution_count": null,
   "id": "cfcc9b92",
   "metadata": {},
   "outputs": [],
   "source": [
    "def maximumEvenSplit(self, final: int) -> List[int]:\n",
    "        if final % 2 != 0: return []\n",
    "        # [2,4,6,8,10,12]\n",
    "        def dp(i, csum):\n",
    "            if csum == final:\n",
    "                return 0\n",
    "            if i > final:\n",
    "                return float('-inf')\n",
    "            if csum > final:\n",
    "                return float('-inf')\n",
    "            if (i, csum) in memo:\n",
    "                return memo[(i, csum)]\n",
    "            take = 1+dp(i+2, csum+i)\n",
    "            dontake = dp(i+2, csum)\n",
    "            return max(take, dontake)\n",
    "        def solve(i, csum):\n",
    "            nonlocal l\n",
    "            if csum == final: return\n",
    "            if i > final: return\n",
    "            if csum > final: return\n",
    "            take = 1+dp(i+2, csum+i)\n",
    "            dontake = dp(i+2, csum)\n",
    "            if take > dontake:\n",
    "                l.append(i)\n",
    "                return solve(i+2, csum+i)\n",
    "            else:\n",
    "                return solve(i+2, csum)\n",
    "        \n",
    "       \n",
    "        memo = {}\n",
    "        maxlen = dp(2, 0)\n",
    "        l = []\n",
    "        solve(2, 0)\n",
    "        return l"
   ]
  },
  {
   "cell_type": "markdown",
   "id": "3cc52e74",
   "metadata": {},
   "source": [
    "### Heap\n",
    "<img src=\"heap.png\">\n",
    "\n",
    "**How to find the parent node?**: given a node with index n, its parent node will lay at index `n / 2`\n",
    "\n",
    "**How to find the the left and right children?**: given a node with index n, its left child will lay at index `n * 2` and its right node will lay at index `n * 2 + 1`\n",
    "\n",
    "**How to find if a node is a leaf?**: given a node with index n, this node will be a leaf if `n > total nodes / 2`"
   ]
  },
  {
   "cell_type": "markdown",
   "id": "f296f075",
   "metadata": {},
   "source": [
    "## SortedSet / SortedDict Time Complexities\n",
    "\n",
    "- **init**: O(NlogN)\n",
    "- **look-up**: O(1)\n",
    "- **insert**: O(logN)\n",
    "- **delete**:O(logN)\n",
    "- **indexOf**:O(logN)"
   ]
  },
  {
   "cell_type": "code",
   "execution_count": null,
   "id": "d6673d4f",
   "metadata": {},
   "outputs": [],
   "source": [
    "from sortedcontainers import SortedSet\n",
    "self.ss = SortedSet()"
   ]
  },
  {
   "cell_type": "markdown",
   "id": "1e270dcb",
   "metadata": {},
   "source": [
    "### If all elem are equal / all zero"
   ]
  },
  {
   "cell_type": "code",
   "execution_count": null,
   "id": "1ff4d1f6",
   "metadata": {},
   "outputs": [],
   "source": [
    "# all 0\n",
    "if all(n == 0 for n in l):\n",
    "    return True\n",
    "# all equal\n",
    "if all(l[0] == n for n in l):\n",
    "    return True"
   ]
  },
  {
   "cell_type": "markdown",
   "id": "c8ee79f9",
   "metadata": {},
   "source": [
    "### Time Complexity combination / permutation\n",
    "$\\frac{N!}{(N-k)!k!}$\n",
    "with **k** that indicates how many permutations of N exist\n",
    "\n",
    "If I have a $N \\times M$ board and I need to fill the board with numbers that ranges from 0 to 9, then the time complexity will be $O(9^{(N \\times M)})$. While the space complexity will be the max values we can have in the internal stack, which will be $O(N \\times M)$.\n"
   ]
  },
  {
   "cell_type": "code",
   "execution_count": null,
   "id": "8b9aaf10",
   "metadata": {},
   "outputs": [],
   "source": []
  }
 ],
 "metadata": {
  "kernelspec": {
   "display_name": "Python 3",
   "language": "python",
   "name": "python3"
  },
  "language_info": {
   "codemirror_mode": {
    "name": "ipython",
    "version": 3
   },
   "file_extension": ".py",
   "mimetype": "text/x-python",
   "name": "python",
   "nbconvert_exporter": "python",
   "pygments_lexer": "ipython3",
   "version": "3.8.8"
  }
 },
 "nbformat": 4,
 "nbformat_minor": 5
}
