{
 "cells": [
  {
   "cell_type": "markdown",
   "id": "c9b9fb38",
   "metadata": {},
   "source": [
    "### BFS on GRAPH"
   ]
  },
  {
   "cell_type": "code",
   "execution_count": null,
   "id": "3feea49b",
   "metadata": {},
   "outputs": [],
   "source": [
    "def BFS(self, s):\n",
    "    # Mark all the vertices as not visited\n",
    "    visited = [False] * (number_of_nodes)\n",
    "\n",
    "    # Create a queue for BFS\n",
    "    queue = []\n",
    "\n",
    "    # Mark the source node as visited and enqueue it\n",
    "    queue.append(s)\n",
    "    visited[s] = True\n",
    "\n",
    "    while queue:\n",
    "\n",
    "        # Dequeue a vertex from queue and print it\n",
    "        s = queue.pop(0)\n",
    "        print(s)\n",
    "\n",
    "        # Get all adjacent vertices of the dequeued vertex s. \n",
    "        # If a adjacent has not been visited, then mark it visited and enqueue it\n",
    "        for i in self.graph[s]:\n",
    "            if visited[i] == False:\n",
    "                queue.append(i)\n",
    "                visited[i] = True"
   ]
  },
  {
   "cell_type": "markdown",
   "id": "435fcaed",
   "metadata": {},
   "source": [
    "### Walls and Gates\n",
    "\n",
    "https://leetcode.com/problems/walls-and-gates/\n",
    "    \n",
    "Find the gates, keep track of the current distance inserting the value within the queue and then perform BFS from the gates."
   ]
  },
  {
   "cell_type": "code",
   "execution_count": 128,
   "id": "fdf05fe8",
   "metadata": {},
   "outputs": [],
   "source": [
    "def wallsAndGates(rooms):\n",
    "    empty = 2147483647\n",
    "    wall = -1\n",
    "    gate = 0\n",
    "\n",
    "    rows = len(rooms)\n",
    "    cols = len(rooms[0])\n",
    "\n",
    "    queue = []\n",
    "    visited_nodes = set()\n",
    "    # find index of zeros, and star bfs from there\n",
    "    zero_index = []\n",
    "    for i in range(rows):\n",
    "        for j in range(cols):\n",
    "            if rooms[i][j] == gate:\n",
    "                queue.append([i,j, 0])\n",
    "                visited_nodes.add(tuple([i,j]))\n",
    "    # BFS\n",
    "    while queue:\n",
    "        root = queue.pop(0)\n",
    "        coordx = root[0]\n",
    "        coordy = root[1]\n",
    "        distance = root[2]\n",
    "        distance += 1\n",
    "        for coords in [(-1, 0), (+1, 0), (0, -1), (0, +1)]:\n",
    "            new_x = coordx + coords[0]\n",
    "            new_y = coordy + coords[1]\n",
    "            if new_x >= 0 and new_x < len(rooms) and new_y < len(rooms[0]) and new_y >= 0 and rooms[new_x][new_y] != wall and rooms[new_x][new_y] != gate and tuple([new_x, new_y]) not in visited_nodes:\n",
    "                queue.append([new_x,new_y, distance])\n",
    "                visited_nodes.add(tuple([new_x,new_y]))\n",
    "                rooms[new_x][new_y] = min(distance, rooms[new_x][new_y])\n",
    "\n",
    "            \n",
    "            \n",
    "        \n",
    "        "
   ]
  },
  {
   "cell_type": "markdown",
   "id": "da32475a",
   "metadata": {},
   "source": [
    "### Number of Islands\n",
    "\n",
    "https://leetcode.com/problems/number-of-islands/\n",
    "\n",
    "Classic flooding with BFS. Find first '1', then do BFS and flood the other '1's to zero."
   ]
  },
  {
   "cell_type": "code",
   "execution_count": null,
   "id": "b3758bfa",
   "metadata": {},
   "outputs": [],
   "source": [
    "def numIslands(grid) -> int:\n",
    "    # search ones and coords into set\n",
    "    ones_set = set()\n",
    "    ones_not_to_consider = set()\n",
    "    for row in range(len(grid)):\n",
    "        for col in range(len(grid[0])):\n",
    "            if grid[row][col] == str(1):\n",
    "                ones_set.add(tuple([row, col]))\n",
    "    island_count = 0\n",
    "    for single_ones in ones_set:\n",
    "        if single_ones not in ones_not_to_consider:\n",
    "            exluded_ones = explore_island(grid, single_ones)\n",
    "            ones_not_to_consider = ones_not_to_consider.union(exluded_ones)\n",
    "            island_count += 1\n",
    "    return island_count\n",
    "\n",
    "def explore_island(grid, single_ones):\n",
    "    visited_nodes = set()\n",
    "    queue = [single_ones] #[(1,2)]\n",
    "\n",
    "    while queue:\n",
    "        root = queue.pop(0)\n",
    "        x = root[0]\n",
    "        y = root[1]\n",
    "        visited_nodes.add(root)\n",
    "\n",
    "        for coords in [(-1, 0), (1, 0), (0, -1), (0, 1)]:\n",
    "            xcoord = coords[0]\n",
    "            ycoord = coords[1]\n",
    "            if x+xcoord >= 0 and x+xcoord < len(grid) and y+ycoord >= 0 and y+ycoord < len(grid[0]) and grid[x+xcoord][y+ycoord] == str(1) and tuple([x+xcoord, y+ycoord]) not in visited_nodes:\n",
    "                visited_nodes.add(tuple([x+xcoord, y+ycoord]))\n",
    "                queue.append((x+xcoord, y+ycoord))\n",
    "    return visited_nodes"
   ]
  },
  {
   "cell_type": "markdown",
   "id": "0fd7453a",
   "metadata": {},
   "source": [
    "### Open the Lock\n",
    "\n",
    "https://leetcode.com/problems/open-the-lock/\n",
    "    \n",
    "Time Complexity: $O(A^N \\times N^2 + D)$ <br>\n",
    "Space Complexity: $O(A^N +  D)$ <br>\n",
    "\n",
    "where $A$ is the alphabet (0-9) and $N$ is the length of the input (4) and $D$ is the time to create a set from a list (which is linear wrt the element in the list).\n",
    "\n",
    "Why there is a $N^2$ within the Time Complexity? Because for each combination, we for loop 4 times (and the input is 4, so here we pay N) and within the loop we compute a string concatenation which costs N, therefore a total of $N^2$."
   ]
  },
  {
   "cell_type": "code",
   "execution_count": null,
   "id": "06cd5be2",
   "metadata": {},
   "outputs": [],
   "source": [
    "import collections\n",
    "def openLock(deadends) -> int:\n",
    "    deadends_set = set(deadends)\n",
    "    if '0000' in deadends_set:\n",
    "        return -1\n",
    "    return generate_combinations(deadends_set, target)\n",
    "\n",
    "def generate_combinations(deadends_set, target):\n",
    "    start = ('0000', 0)\n",
    "    deadends_set.add('0000')\n",
    "    q = collections.deque([start])\n",
    "    while q:\n",
    "        combination, depth = q.popleft()\n",
    "        if combination == target:\n",
    "            return depth\n",
    "        for step in (1, -1):\n",
    "            for index in range(4):\n",
    "                new_comb = list(combination)\n",
    "                new_comb[index] = str((int(combination[index]) + step) % 10)\n",
    "                new_comb = ''.join(new_comb) # O(N)\n",
    "                if new_comb not in deadends_set:\n",
    "                    q.append((new_comb, depth+1))\n",
    "                    deadends_set.add(new_comb)\n",
    "    return -1"
   ]
  },
  {
   "cell_type": "markdown",
   "id": "3fb77887",
   "metadata": {},
   "source": [
    "### Perfect Squares\n",
    "\n",
    "https://leetcode.com/problems/perfect-squares/\n",
    "\n",
    "Time complexity: $O(n^h)$ <br>\n",
    "Space complexity: $O((\\sqrt{n})^h)$ which is also the maximal number of nodes that can appear at the level _h_."
   ]
  },
  {
   "cell_type": "code",
   "execution_count": null,
   "id": "17867797",
   "metadata": {},
   "outputs": [],
   "source": [
    "import math\n",
    "import collections\n",
    "\n",
    "def numSquares(self, n: int) -> int:\n",
    "    if int(math.sqrt(n)) * int(math.sqrt(n)) == n:\n",
    "        return 1\n",
    "    # get divisors\n",
    "    divisors = []\n",
    "    for i in range(1, int(math.sqrt(n)+1)):\n",
    "        if i*i <= n:\n",
    "            divisors.append([i*i, 1])\n",
    "    return self.expand(divisors, n)\n",
    "\n",
    "def expand(self, divisors, n):\n",
    "    q = collections.deque(divisors)\n",
    "    while q:\n",
    "        div, depth = q.popleft()\n",
    "        for i in range(len(divisors)):\n",
    "            new_val = div+(divisors[i][0])\n",
    "            if new_val == n:\n",
    "                return depth+1\n",
    "            if new_val < n:\n",
    "                q.append([new_val, depth+1])\n",
    "    return -1\n",
    "        "
   ]
  },
  {
   "cell_type": "code",
   "execution_count": null,
   "id": "2a24c2dd",
   "metadata": {},
   "outputs": [],
   "source": [
    "# TODO: impelment queue given a stack"
   ]
  },
  {
   "cell_type": "markdown",
   "id": "0f0ff6bf",
   "metadata": {},
   "source": [
    "### 01 Matrix\n",
    "\n",
    "https://leetcode.com/problems/01-matrix/\n",
    "\n",
    "Classic BFS with dist++. Pay attention to start from the _destination_ and initialize the other vals to +inf.\n",
    "**EDIT**: actually, we can avoid to initialize to +inf the cells. We can just say reverse the condition `if mat[nx+x][ny+y] > dist+1:` to `if mat[nx+x][ny+y] <= dist+1:` and use the `1s`.\n",
    "\n",
    "Time Complexity: $O(N \\times M)$ because since, the new cells are added to the queue only if their current distance is greater than the calculated distance, cells are not likely to be added multiple times."
   ]
  },
  {
   "cell_type": "code",
   "execution_count": 76,
   "id": "bdcc16d4",
   "metadata": {},
   "outputs": [],
   "source": [
    "import collections\n",
    "def updateMatrix(mat):\n",
    "    queue = collections.deque([])\n",
    "    visited = set()\n",
    "    for row in range(len(mat)):\n",
    "        for col in range(len(mat[0])):\n",
    "            if mat[row][col] == 0:\n",
    "                queue.append([row, col, 0])\n",
    "    for row in range(len(mat)):\n",
    "        for col in range(len(mat[0])):\n",
    "            if mat[row][col] == 1:\n",
    "                mat[row][col] = float('+inf')\n",
    "    while queue:\n",
    "        popped = queue.popleft()\n",
    "        visited.add(tuple([popped[0], popped[1]]))\n",
    "        x, y, dist = popped[0], popped[1], popped[2]\n",
    "        for coords in [(-1,0), (1,0), (0,-1), (0,1)]:\n",
    "            nx, ny = coords[0], coords[1]\n",
    "            if nx+x < len(mat) and nx+x >= 0 and ny+y < len(mat[0]) and ny+y >= 0 and tuple([nx+x, ny+y]) not in visited and mat[nx+x][ny+y] > 0:\n",
    "                # we start with +inf values, if is greater, we assign the smallest one (which is dist+1)\n",
    "                if mat[nx+x][ny+y] > dist+1:\n",
    "                    queue.append([nx+x, ny+y, dist+1])\n",
    "                    visited.add(tuple([nx+x, ny+y]))\n",
    "                    mat[nx+x][ny+y] = dist+1\n",
    "                    \n",
    "    for i in mat:\n",
    "        print(i)\n",
    "    return mat\n",
    "            "
   ]
  },
  {
   "cell_type": "code",
   "execution_count": 77,
   "id": "7fa9a03b",
   "metadata": {},
   "outputs": [
    {
     "name": "stdout",
     "output_type": "stream",
     "text": [
      "[2, 1, 2, 3]\n",
      "[1, 0, 1, 2]\n",
      "[2, 1, 2, 1]\n",
      "[3, 2, 1, 0]\n"
     ]
    }
   ],
   "source": [
    "mat = [[1,1,1,1], [1,0,1,1],[1,1,1,1], [1,1,1,0]]\n",
    "a = updateMatrix(mat)"
   ]
  },
  {
   "cell_type": "code",
   "execution_count": 47,
   "id": "1be2c0a2",
   "metadata": {},
   "outputs": [],
   "source": [
    "import collections\n",
    "def updateMatrix2(mat):\n",
    "    queue = collections.deque([])\n",
    "    visited = set()\n",
    "    for row in range(len(mat)):\n",
    "        for col in range(len(mat[0])):\n",
    "            if mat[row][col] == 0:\n",
    "                queue.append([row, col, 0])\n",
    "                visited.add(tuple([row, col]))\n",
    "    while queue:\n",
    "        popped = queue.popleft()\n",
    "        visited.add(tuple([popped[0], popped[1]]))\n",
    "        x, y, dist = popped[0], popped[1], popped[2]\n",
    "        for coords in [(-1,0), (1,0), (0,-1), (0,1)]:\n",
    "            nx, ny = coords[0], coords[1]\n",
    "            if nx+x < len(mat) and nx+x >= 0 and ny+y < len(mat[0]) and ny+y >= 0 and tuple([nx+x, ny+y]) not in visited:\n",
    "                if mat[nx+x][ny+y] <= dist+1:\n",
    "                    queue.append([nx+x, ny+y, dist+1])\n",
    "                    visited.add(tuple([nx+x, ny+y]))\n",
    "                    mat[nx+x][ny+y] = dist+1\n",
    "                    \n",
    "    for i in mat:\n",
    "        print(i)\n",
    "    return mat\n",
    "            "
   ]
  },
  {
   "cell_type": "code",
   "execution_count": 48,
   "id": "d0b8a307",
   "metadata": {},
   "outputs": [
    {
     "name": "stdout",
     "output_type": "stream",
     "text": [
      "[2, 1, 2, 3]\n",
      "[1, 0, 1, 2]\n",
      "[2, 1, 2, 1]\n",
      "[3, 2, 1, 0]\n"
     ]
    }
   ],
   "source": [
    "mat = [[1,1,1,1], [1,0,1,1],[1,1,1,1], [1,1,1,0]]\n",
    "a = updateMatrix2(mat)"
   ]
  },
  {
   "cell_type": "code",
   "execution_count": null,
   "id": "a680fe81",
   "metadata": {},
   "outputs": [],
   "source": []
  },
  {
   "cell_type": "code",
   "execution_count": null,
   "id": "d095f3be",
   "metadata": {},
   "outputs": [],
   "source": []
  }
 ],
 "metadata": {
  "kernelspec": {
   "display_name": "Python 3",
   "language": "python",
   "name": "python3"
  },
  "language_info": {
   "codemirror_mode": {
    "name": "ipython",
    "version": 3
   },
   "file_extension": ".py",
   "mimetype": "text/x-python",
   "name": "python",
   "nbconvert_exporter": "python",
   "pygments_lexer": "ipython3",
   "version": "3.8.8"
  }
 },
 "nbformat": 4,
 "nbformat_minor": 5
}
