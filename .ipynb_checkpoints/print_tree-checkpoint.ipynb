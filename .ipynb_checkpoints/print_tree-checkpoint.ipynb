{
 "cells": [
  {
   "cell_type": "markdown",
   "id": "c95a2aeb",
   "metadata": {},
   "source": [
    "**Function for printing a tree given the root**"
   ]
  },
  {
   "cell_type": "markdown",
   "id": "ba564e58",
   "metadata": {},
   "source": [
    "- io ho paura di perderla\n",
    "- troppo pochi picchi di felicità con lei perchè ci vediamo poco\n",
    "- io le sto troppo addosso e le do troppo. Questo crea sicurezze in lei e lei sarà sempre sicura che io ci sarò sempre. Quindi mi può manipolare come vuole, ha il coltello dalla parte del manico. Bisognerebbe, un poì alla volta, togliergli queste sicurezze.\n",
    "- lei mi da solo insicurezze, dubbi, non mi scrive mai, non mi dice mai cose dolci, non mi chiede mai di vederci. E' come se mi mettesse alla prova. E io sempre lì dietro come un cagnolino.\n",
    "- ho paura che si frequenti con altri ragazzi. Ma se così fosse, dovrei lasciarla?\n",
    "- non sono un coglione come molti altri. Io so bene come vanno le cose in una relazione e sono sempre up to challanges. E la challenge che ho ora è farla tornare a stare bene. Dimostrarle che ce la posso fare. Fallire in questa challenge sarebbe una ferita troppo grande per lei ed anche per me. Farla ricredere in me, ora, è l'unica cosa che conta. A prescindere di tutto. Può anche frequentarsi con altri, ma quello che le do io non lo avrà mai da nessuna parte. Io sono fottutamente unico e lei lo sa. Una volta che capirà che \"sono cambiato\", allora si potrà far si che il coltello dalla parte del manico non l'abbia più. Devo far si che io sia l'unica cosa che lei vuole al mondo. Devo far in modo che io sia il suo pensiero costante e che senza di me non potrà vivere.\n",
    "- non sono cambiato, assolutamente. Sto solo controllando la mia gelosia e il mio comportamento. Alla lunga sarà difficile, prima o poi esploderò? Chi lo sa. Non dovrei, è la challenge. Non perderò a questa challenge. Non posso perdere. Non devo.\n",
    "- prima o poi ci lasceremo. Io sto bene con lei ora, godiamoci il presente. Non stiamo male per il futuro unpredictable che sarà. Non ha senso e lo sai.\n",
    "- mi da fastidio che devo essere sempre io a cercarla, chiederle di uscire, qualsiasi iniziatia non le vada bene, mai. Come fare che sia lei a propormi qualcosa? Devo smettere di pensare, pensare che esce con altri, che va in vacanza con altri e non con me. Pensi di riuscire a farlo? Fa parte della challenge. Mettiti nell'ottica di una relazione aperta. Perchè dal suo lato, questo è. Un giorno il 'buongiorno' si può anche non dare. Diminuisci la percentuale dei messaggi che le invii. Più visualizza e non rispondi. Ma cercando di creare piani in testa del tipo \"ok adesso non visualizzo e vediamo come si comporta\". Fallo diventare un comportamento normale. Still, falle sentire quello che provi, quando vi vedete. Smettere di chiederle di vedervi creerà conflitti, litigate che forse è meglio non avere perchè tanto lei è così e non cambierà, non per me. Chiedile di uscire, se dice di no, smetti di insistere. Se ti dice di no, non vuole, stop. Se ti vuole, un modo si trova. Ma se ti dice di no, non bisogna creare quell'aria viziata, lei sa che mi arrabbio se mi dice di no. Tu sai che tanto dopo 10 minuti ti scazzi. Sdrammatizza sul momento e scazzati.\n",
    "- mettiti in testa che lei già frequenta altri ragazzi. Non pensare al fatto 'chissà con ci va in questo posto'. E' con un tipo, te lo dico io. Tu preferisci lei così piuttosto che non averla. Quindi, anche se è una merda, è così. Non dimenticarlo. Goditi il presente che in futuro lei non sarà la tua donna.\n",
    "- tu vivi in base a lei. Lei è il centro del mondo in questo momento. Cerca di attenuare questa cosa. Trova altre passioni. Lo studio, il fitness, qualsiasi cosa. Lo sai che lei non ti merita e tu non la meriti. Ma se la vuoi al momento, questo è il prezzo da pagare.\n",
    "- non perderò questa challenge e diventerò io il centro del mono per lei."
   ]
  }
 ],
 "metadata": {
  "kernelspec": {
   "display_name": "Python 3",
   "language": "python",
   "name": "python3"
  },
  "language_info": {
   "codemirror_mode": {
    "name": "ipython",
    "version": 3
   },
   "file_extension": ".py",
   "mimetype": "text/x-python",
   "name": "python",
   "nbconvert_exporter": "python",
   "pygments_lexer": "ipython3",
   "version": "3.8.8"
  }
 },
 "nbformat": 4,
 "nbformat_minor": 5
}
