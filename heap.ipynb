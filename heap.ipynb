{
 "cells": [
  {
   "cell_type": "markdown",
   "id": "b053d94b",
   "metadata": {},
   "source": [
    "## Heap"
   ]
  },
  {
   "cell_type": "markdown",
   "id": "faace60e",
   "metadata": {},
   "source": [
    "<img src=\"heap.png\">"
   ]
  },
  {
   "cell_type": "markdown",
   "id": "31157bc5",
   "metadata": {},
   "source": [
    "### Heapify space complexity\n",
    "**In Python**, converting a list to a heap is done in-place, requiring O(1) auxillary space, giving a total space complexity of O(1)."
   ]
  },
  {
   "cell_type": "markdown",
   "id": "0829e0a8",
   "metadata": {},
   "source": [
    "**How to find the parent node?**: given a node with index n, its parent node will lay at index `n / 2`\n",
    "\n",
    "**How to find the the left and right children?**: given a node with index n, its left child will lay at index `n * 2` and its right node will lay at index `n * 2 + 1`\n",
    "\n",
    "**How to find if a node is a leaf?**: given a node with index n, this node will be a leaf if `n > total nodes / 2`"
   ]
  },
  {
   "cell_type": "code",
   "execution_count": null,
   "id": "6e63db1e",
   "metadata": {},
   "outputs": [],
   "source": [
    "import heapq\n",
    "# create a heap from array. NOTE that after the initialization, listForTree becomes a heap\n",
    "listForTree = [1,2,3,4,5,6,7,8,9,10,11,12,13,14,15]    \n",
    "heapq.heapify(listForTree)             # for a min heap\n",
    "#heapq._heapify_max(listForTree)        # for a maxheap"
   ]
  },
  {
   "cell_type": "code",
   "execution_count": null,
   "id": "3788c1ad",
   "metadata": {},
   "outputs": [],
   "source": [
    "# Get the top element of Heap and the last one\n",
    "listForTree[0], listForTree[-1]"
   ]
  },
  {
   "cell_type": "code",
   "execution_count": null,
   "id": "e41dd680",
   "metadata": {},
   "outputs": [],
   "source": [
    "# Delete the top element from the Heap\n",
    "heapq.heappop(listForTree)      # pop from minheap\n",
    "#heapq._heappop_max(listForTree) # pop from maxheap"
   ]
  },
  {
   "cell_type": "code",
   "execution_count": null,
   "id": "faf2a7e6",
   "metadata": {},
   "outputs": [],
   "source": [
    "# Get the top element of Heap\n",
    "listForTree[0]"
   ]
  },
  {
   "cell_type": "code",
   "execution_count": null,
   "id": "ec723b8e",
   "metadata": {},
   "outputs": [],
   "source": [
    "# Insert -2 into the Heap\n",
    "heapq.heappush(listForTree, -2) # NOTE: if we constructed a maxheap using heapq._heapify_max, then, when we add an element,\n",
    "# it will not call heapify! --> BUG, do not use _heapify_max but the other way to create a max heap"
   ]
  },
  {
   "cell_type": "code",
   "execution_count": null,
   "id": "0458cd5c",
   "metadata": {},
   "outputs": [],
   "source": [
    "listForTree"
   ]
  },
  {
   "cell_type": "code",
   "execution_count": null,
   "id": "e494b434",
   "metadata": {},
   "outputs": [],
   "source": [
    "# Get the top element of Heap\n",
    "listForTree[0]"
   ]
  },
  {
   "cell_type": "code",
   "execution_count": null,
   "id": "c9143834",
   "metadata": {},
   "outputs": [],
   "source": [
    "# Length of the heap\n",
    "len(listForTree)"
   ]
  },
  {
   "cell_type": "code",
   "execution_count": null,
   "id": "7b9a02c0",
   "metadata": {},
   "outputs": [],
   "source": [
    "# We can also create a heap of objects (this is a priority queue, the first element has the highest priority)\n",
    "listForTree = [[2,1], [1,5], [2, 2], [7,9]]  \n",
    "heapq.heapify(listForTree)"
   ]
  },
  {
   "cell_type": "code",
   "execution_count": null,
   "id": "b67b8fde",
   "metadata": {},
   "outputs": [],
   "source": [
    "heapq.heappop(listForTree)"
   ]
  },
  {
   "cell_type": "markdown",
   "id": "e317bce0",
   "metadata": {},
   "source": [
    "## Methods\n",
    "Return the k largest element in an array nums.\n",
    "`heapq.nlargest(k, nums)`"
   ]
  },
  {
   "cell_type": "markdown",
   "id": "893a96a0",
   "metadata": {},
   "source": [
    "### Top K Frequent Elements\n",
    "\n",
    "https://leetcode.com/problems/top-k-frequent-elements/"
   ]
  },
  {
   "cell_type": "code",
   "execution_count": null,
   "id": "01db5614",
   "metadata": {},
   "outputs": [],
   "source": [
    "class Solution:\n",
    "    def topKFrequent(self, nums: List[int], k: int) -> List[int]:\n",
    "        heap = []\n",
    "        heapq.heapify(heap)\n",
    "        hm = {}\n",
    "        \n",
    "        for idx, elem in enumerate(nums):\n",
    "            if elem not in hm:\n",
    "                hm[elem] = [1, elem]\n",
    "            else:\n",
    "                hm[elem][0] += 1\n",
    "        for elem in hm.values():\n",
    "            if len(heap) < k:\n",
    "                heapq.heappush(heap, elem)\n",
    "            else:\n",
    "                if heap[0][0] < elem[0]:\n",
    "                    heapq.heappop(heap)\n",
    "                    heapq.heappush(heap, elem)\n",
    "        out = []\n",
    "        while len(heap) > 0:\n",
    "            out.append(heapq.heappop(heap)[1])\n",
    "        return out"
   ]
  },
  {
   "cell_type": "code",
   "execution_count": null,
   "id": "677bb3e2",
   "metadata": {},
   "outputs": [],
   "source": [
    "def trap(height):\n",
    "    if len(height) == 1:\n",
    "        return 0\n",
    "    ans = 0\n",
    "    left_max, right_max = 0, 0\n",
    "    for i in range(len(height)):\n",
    "        left_max = max(height[:i+1])\n",
    "        right_max = max(height[i:])\n",
    "        print(left_max, right_max)\n",
    "        ans += min(left_max, right_max) - height[i]\n",
    "    return ans"
   ]
  },
  {
   "cell_type": "code",
   "execution_count": null,
   "id": "969f3d36",
   "metadata": {},
   "outputs": [],
   "source": [
    "trap([4,0,0,0,0,3])"
   ]
  },
  {
   "cell_type": "markdown",
   "id": "313c033f",
   "metadata": {},
   "source": [
    "### Kth Largest Element in an Array\n",
    "\n",
    "https://leetcode.com/problems/kth-largest-element-in-an-array/"
   ]
  },
  {
   "cell_type": "code",
   "execution_count": null,
   "id": "f6b01e11",
   "metadata": {},
   "outputs": [],
   "source": [
    "import heapq\n",
    "class Solution:\n",
    "    def findKthLargest(self, nums: List[int], k: int) -> int:\n",
    "        if k > len(nums): return None\n",
    "        for i in range(len(nums)):\n",
    "            nums[i] = -nums[i]\n",
    "        heapq.heapify(nums)\n",
    "        c = 0\n",
    "        while True:\n",
    "            if c == k-1:\n",
    "                return -heapq.heappop(nums)\n",
    "            heapq.heappop(nums)\n",
    "            c += 1\n",
    "        "
   ]
  },
  {
   "cell_type": "markdown",
   "id": "dd21a9dd",
   "metadata": {},
   "source": [
    "### The K Weakest Rows in a Matrix\n",
    "https://leetcode.com/problems/the-k-weakest-rows-in-a-matrix/"
   ]
  },
  {
   "cell_type": "code",
   "execution_count": null,
   "id": "d4a7a572",
   "metadata": {},
   "outputs": [],
   "source": [
    "import heapq\n",
    "class Solution:\n",
    "    def kWeakestRows(self, mat: List[List[int]], k: int) -> List[int]:\n",
    "        heap = []\n",
    "        heapq.heapify(heap)\n",
    "        for row in range(len(mat)):\n",
    "            count = 0\n",
    "            for col in range(len(mat[0])):\n",
    "                if mat[row][col] == 1:\n",
    "                    count += 1\n",
    "                else:\n",
    "                    break\n",
    "            heapq.heappush(heap, (count, row))\n",
    "        out = []\n",
    "        i = 0\n",
    "        while i < k:\n",
    "            popped = heapq.heappop(heap)\n",
    "            out.append(popped[1])\n",
    "            i += 1\n",
    "        return out"
   ]
  },
  {
   "cell_type": "markdown",
   "id": "d9d210b4",
   "metadata": {},
   "source": [
    "### Kth Smallest Element in a Sorted Matrix\n",
    "https://leetcode.com/problems/kth-smallest-element-in-a-sorted-matrix/"
   ]
  },
  {
   "cell_type": "code",
   "execution_count": null,
   "id": "75027ed5",
   "metadata": {},
   "outputs": [],
   "source": [
    "class Solution:\n",
    "    def kthSmallest(self, matrix: List[List[int]], k: int) -> int:\n",
    "        '''\n",
    "        [1, 5, 9]\n",
    "        [7,11,13]\n",
    "        [8,13,15]\n",
    "        \n",
    "        '''\n",
    "        heap = []\n",
    "        heapq.heapify(heap)\n",
    "        for row in range(len(matrix)):\n",
    "            for col in range(len(matrix)):\n",
    "                if len(heap) < k:\n",
    "                    heapq.heappush(heap, -matrix[row][col])\n",
    "                else:\n",
    "                    if -heap[0] > matrix[row][col]:\n",
    "                        heapq.heappop(heap)\n",
    "                        heapq.heappush(heap, -matrix[row][col])\n",
    "                        \n",
    "        return -heap[0]"
   ]
  },
  {
   "cell_type": "markdown",
   "id": "0b4d09fb",
   "metadata": {},
   "source": [
    "### K Closest Points to Origin\n",
    "https://leetcode.com/problems/k-closest-points-to-origin/"
   ]
  },
  {
   "cell_type": "code",
   "execution_count": null,
   "id": "1857cc83",
   "metadata": {},
   "outputs": [],
   "source": [
    "import math\n",
    "import heapq\n",
    "class Solution:\n",
    "    def kClosest(self, points: List[List[int]], k: int) -> List[List[int]]:\n",
    "        dists_from_origin = []\n",
    "        for i in range(len(points)):\n",
    "            dists_from_origin.append([math.sqrt((points[i][0])**2+(points[i][1])**2), points[i]])\n",
    "        heapq.heapify(dists_from_origin)\n",
    "        out = []\n",
    "        while len(out) < k:\n",
    "            point = heapq.heappop(dists_from_origin)\n",
    "            out.append(point[1])\n",
    "        return out\n",
    "        "
   ]
  },
  {
   "cell_type": "markdown",
   "id": "c0f66374",
   "metadata": {},
   "source": [
    "### Minimum Cost to Connect Sticks\n",
    "https://leetcode.com/problems/minimum-cost-to-connect-sticks/"
   ]
  },
  {
   "cell_type": "code",
   "execution_count": null,
   "id": "893f32a3",
   "metadata": {},
   "outputs": [],
   "source": [
    "class Solution:\n",
    "    def connectSticks(self, sticks: List[int]) -> int:\n",
    "        '''\n",
    "        [1,3,5,8]\n",
    "        '''\n",
    "        if len(sticks) == 1: return 0\n",
    "        heapq.heapify(sticks)\n",
    "        cost = 0\n",
    "        while len(sticks) > 1:\n",
    "            first = heapq.heappop(sticks)\n",
    "            second = heapq.heappop(sticks)\n",
    "            cost = cost + first + second\n",
    "            heapq.heappush(sticks, first+second)\n",
    "        return cost"
   ]
  },
  {
   "cell_type": "markdown",
   "id": "367eee29",
   "metadata": {},
   "source": [
    "### Furthest Building You Can Reach\n",
    "\n",
    "https://leetcode.com/problems/furthest-building-you-can-reach/\n",
    "\n",
    "Use all ladders first. <br>\n",
    "When we finish them, we check if the new height difference we encountered is higher than the smallest height difference we have already encoutered (using **min-heap**). Is so, we move ladders, otherwise use bricks."
   ]
  },
  {
   "cell_type": "code",
   "execution_count": null,
   "id": "c03128ac",
   "metadata": {},
   "outputs": [],
   "source": [
    "class Solution:\n",
    "    def furthestBuilding(self, heights: List[int], bricks: int, ladders: int) -> int:\n",
    "        heap_ladders = []\n",
    "        heapq.heapify(heap_ladders)\n",
    "        for i in range(1, len(heights)):\n",
    "            if heights[i-1] < heights[i]:\n",
    "                # use ladder if we can\n",
    "                if ladders > 0:\n",
    "                    heapq.heappush(heap_ladders, heights[i]-heights[i-1])\n",
    "                    ladders -= 1\n",
    "                else:\n",
    "                    # move ladder\n",
    "                    new_dislivello = heights[i]-heights[i-1]\n",
    "                    if len(heap_ladders) > 0: # if we have ladders\n",
    "                        if new_dislivello > heap_ladders[0]:\n",
    "                            smallest_ladder_in_heap = heapq.heappop(heap_ladders)\n",
    "                            heapq.heappush(heap_ladders, new_dislivello)\n",
    "                            if smallest_ladder_in_heap > bricks:\n",
    "                                return i-1\n",
    "                            bricks -= smallest_ladder_in_heap\n",
    "                        else: # use bricks\n",
    "                            if new_dislivello > bricks:\n",
    "                                return i-1\n",
    "                            bricks -= new_dislivello\n",
    "                            \n",
    "                    else:# we can only use bricks\n",
    "                        if new_dislivello > bricks:\n",
    "                                return i-1\n",
    "                        bricks -= new_dislivello\n",
    "        return i"
   ]
  },
  {
   "cell_type": "markdown",
   "id": "51c3d16d",
   "metadata": {},
   "source": [
    "### Find Median from Data Stream\n",
    "https://leetcode.com/problems/find-median-from-data-stream/"
   ]
  },
  {
   "cell_type": "code",
   "execution_count": null,
   "id": "406d01be",
   "metadata": {},
   "outputs": [],
   "source": [
    "class MedianFinder:\n",
    "    def __init__(self):\n",
    "        self.max = []\n",
    "        heapq.heapify(self.max)\n",
    "        self.min = []\n",
    "        heapq.heapify(self.min)\n",
    "\n",
    "    def addNum(self, num: int) -> None:\n",
    "        if len(self.min) == 0 and len(self.max) == 0:\n",
    "            heapq.heappush(self.max, -num)\n",
    "            return\n",
    "        elif len(self.min) < len(self.max):\n",
    "            heapq.heappush(self.min, num)\n",
    "        elif len(self.min) > len(self.max):\n",
    "            heapq.heappush(self.max, -num)\n",
    "        else:\n",
    "            if num >= self.min[0]:\n",
    "                heapq.heappush(self.min, num)\n",
    "            else:\n",
    "                heapq.heappush(self.max, -num)\n",
    "        # head check\n",
    "        if len(self.min) > 0 and len(self.max) > 0 and -self.max[0] > self.min[0]:\n",
    "            # swap\n",
    "            popped_head_max = heapq.heappop(self.max)\n",
    "            popped_head_min = heapq.heappop(self.min)\n",
    "            heapq.heappush(self.min, -popped_head_max)\n",
    "            heapq.heappush(self.max, -popped_head_min)\n",
    "            return\n",
    "        \n",
    "        \n",
    "\n",
    "    def findMedian(self) -> float:\n",
    "        if len(self.min) > len(self.max):\n",
    "            return self.min[0]\n",
    "        if len(self.min) < len(self.max):\n",
    "            return -self.max[0]\n",
    "        else:\n",
    "            return (self.min[0]-self.max[0]) / 2\n",
    "        \n",
    "\n",
    "\n",
    "# Your MedianFinder object will be instantiated and called as such:\n",
    "# obj = MedianFinder()\n",
    "# obj.addNum(num)\n",
    "# param_2 = obj.findMedian()"
   ]
  },
  {
   "cell_type": "markdown",
   "id": "66e8f313",
   "metadata": {},
   "source": [
    "'''Google interview Christian\n",
    "\n",
    "Era una roba simile a un problema sugli intervalli di tempo.\n",
    "Avevi una lista di Jobs con start e end time e un tot di cpu usage.\n",
    "Il CPU usage dei Jobs (anche eseguiti concurrentemente (non esiste in Italiano, lo so)) non doveva superare un max usage dato in input.\n",
    "Tu dovevi dire se lo superavi o meno\n",
    "\n",
    "\n",
    "input example:\n",
    "jobs = [[8, 10, 140], [11, 13, 90], [9, 11, 160]]\n",
    "max_cpu = 389\n",
    "output example:\n",
    "output = True\n",
    "\n",
    "'''"
   ]
  },
  {
   "cell_type": "code",
   "execution_count": null,
   "id": "253a20ed",
   "metadata": {},
   "outputs": [],
   "source": [
    "import heapq\n",
    "\n",
    "#cpu = [[9,15,30],[8,11,100],[9,200,50],[199,300,20]]\n",
    "#cpu = [[9,15,30],[8,11,20]]\n",
    "#cpu = [[1,5,1],[8,9,1],[8,9,1]]\n",
    "cpu = [[9,10,1],[4,9,1],[4,17,1]]\n",
    "thresh = 190\n",
    "def max_cpu_usage(inter):\n",
    "    inter.sort(key=lambda k: k[0]) # sort by starting time\n",
    "    current_usage = 0\n",
    "    hmax = []\n",
    "    hmin = []\n",
    "    heapq.heapify(hmax)\n",
    "    heapq.heapify(hmin)\n",
    "    \n",
    "    for i in range(len(inter)):\n",
    "        if not hmax: # empty heap\n",
    "            inter[i][0], inter[i][1] = inter[i][1], inter[i][0] # swap start with end\n",
    "            intermax1, intermax2 = -inter[i][1], -inter[i][0] # swap start with end\n",
    "            heapq.heappush(hmax, [intermax1, intermax2])\n",
    "            heapq.heappush(hmin, inter[i])\n",
    "            current_usage = inter[i][2]\n",
    "        else:\n",
    "            end_time_max_heap = -hmax[0][0]\n",
    "            current_start = inter[i][0]\n",
    "            if current_start >= end_time_max_heap:\n",
    "                inter[i][0], inter[i][1] = inter[i][1], inter[i][0] # swap start with end\n",
    "                intermax1, intermax2 = -inter[i][1], -inter[i][0] # swap start with end\n",
    "                heapq.heappush(hmax, [intermax1, intermax2])\n",
    "                heapq.heappush(hmin, inter[i])\n",
    "                # update\n",
    "                current_usage += inter[i][2]\n",
    "                while hmin and hmin[0][0] <= current_start:\n",
    "                    popped = heapq.heappop(hmin)\n",
    "                    current_usage -= popped[2]\n",
    "                if not hmin:\n",
    "                    hmax = []\n",
    "        print(\"after:\",current_usage)\n",
    "    return current_usage\n",
    "\n",
    "max_cpu_usage(cpu)"
   ]
  },
  {
   "cell_type": "markdown",
   "id": "7a73115c",
   "metadata": {},
   "source": [
    "### Meeting Rooms II\n",
    "https://leetcode.com/problems/meeting-rooms-ii/"
   ]
  },
  {
   "cell_type": "code",
   "execution_count": null,
   "id": "fdce55e9",
   "metadata": {},
   "outputs": [],
   "source": [
    "# Solution as Christian onsite problem with \"pop until\" using while instead of just one push / pop at a time.\n",
    "# We keep a min heap storing the ending time: if the most recent ending time does not overlap with the current, we just pop it.\n",
    "class Solution:\n",
    "    def minMeetingRooms(self, intervals: List[List[int]]) -> int:\n",
    "        intervals.sort(key=lambda k: k[0])\n",
    "        minheap = []\n",
    "        heapq.heapify(minheap)\n",
    "        rooms = 0\n",
    "        for i, slot in enumerate(intervals):\n",
    "            if not minheap:\n",
    "                heapq.heappush(minheap, slot[1])\n",
    "                rooms = max(rooms, len(minheap))\n",
    "            else:\n",
    "                if minheap[0] > slot[0]:\n",
    "                    heapq.heappush(minheap, slot[1])\n",
    "                    rooms = max(rooms, len(minheap))\n",
    "                else:\n",
    "                    while minheap and minheap[0] <= slot[0]:\n",
    "                        heapq.heappop(minheap)\n",
    "                    heapq.heappush(minheap, slot[1])\n",
    "                    rooms = max(rooms, len(minheap))\n",
    "        return rooms\n",
    "\n",
    "\n",
    "class Solution:\n",
    "    def minMeetingRooms(self, inter: List[List[int]]) -> int:\n",
    "        inter.sort(key=lambda k:k[0])\n",
    "        minheap = []\n",
    "        heapq.heapify(minheap)\n",
    "        for i in range(len(inter)):\n",
    "            if not minheap:\n",
    "                heapq.heappush(minheap, [inter[i][1], inter[i][0]])\n",
    "            else:\n",
    "                start_time_no_heap = inter[i][0]\n",
    "                end_time_heap = minheap[0][0] # end time is zero bc is reversed\n",
    "                if start_time_no_heap >= end_time_heap:\n",
    "                    heapq.heappop(minheap)\n",
    "                    heapq.heappush(minheap, [inter[i][1], inter[i][0]])\n",
    "                else:\n",
    "                    heapq.heappush(minheap, [inter[i][1], inter[i][0]])\n",
    "        return len(minheap)"
   ]
  },
  {
   "cell_type": "code",
   "execution_count": null,
   "id": "4ec0abd9",
   "metadata": {},
   "outputs": [],
   "source": [
    "# this is the solution using two sorted arrays instead of the heap. The concept is the same as the heap: I traverse an array\n",
    "# sorted in ascending order based on the starting time and I keep an array sorted in ascending order by ending time.\n",
    "# If the next starting time does not overlap with the most recent ending, we do not need another room and advance the pointer.\n",
    "# Otherwise, we keep the pointer there and reserve a new room and go to look at the next [start, end] interval.\n",
    "class Solution:\n",
    "    def minMeetingRooms(self, inter: List[List[int]]) -> int:\n",
    "        end_iter = inter.copy()\n",
    "        p, res = 0, 1\n",
    "        end_iter.sort(key=lambda k:k[1])\n",
    "        inter.sort(key=lambda k:k[0])\n",
    "        for i in range(1, len(inter)):\n",
    "            start_time_no_heap = inter[i][0]\n",
    "            end_time_heap = end_iter[p][1]\n",
    "            if start_time_no_heap >= end_time_heap:\n",
    "                p += 1\n",
    "            else:\n",
    "                res += 1\n",
    "        return res"
   ]
  },
  {
   "cell_type": "markdown",
   "id": "5761d1fb",
   "metadata": {},
   "source": [
    "### Car Pooling\n",
    "https://leetcode.com/problems/car-pooling/"
   ]
  },
  {
   "cell_type": "code",
   "execution_count": null,
   "id": "b5fd5dd2",
   "metadata": {},
   "outputs": [],
   "source": [
    "# Is like meeting rooms 2. The difference is that, when we pop, we need to pop ALL the elements from heap that does respect\n",
    "# the condition, not just one.\n",
    "class Solution:\n",
    "    def carPooling(self, trips: List[List[int]], capacity: int) -> bool:\n",
    "        trips.sort(key=lambda k: k[1])\n",
    "        heap = []\n",
    "        heapq.heapify(heap)\n",
    "        maxx = 0\n",
    "        for i in range(len(trips)):\n",
    "            if not heap:\n",
    "                heapq.heappush(heap, [trips[i][2],trips[i][1],trips[i][0]])\n",
    "                maxx += trips[i][0]\n",
    "                if maxx > capacity: return False\n",
    "            else:\n",
    "                heap_min_end = heap[0][0]\n",
    "                start = trips[i][1]\n",
    "                if heap_min_end > start:\n",
    "                    heapq.heappush(heap, [trips[i][2],trips[i][1],trips[i][0]])\n",
    "                    maxx += trips[i][0]\n",
    "                    if maxx > capacity: return False\n",
    "                else:\n",
    "                    while heap and heap[0][0] <= trips[i][1]:\n",
    "                        popped = heapq.heappop(heap)\n",
    "                        maxx -= popped[2]\n",
    "                    if not heap:\n",
    "                        maxx = 0\n",
    "                    heapq.heappush(heap, [trips[i][2],trips[i][1],trips[i][0]])\n",
    "                    maxx += trips[i][0]\n",
    "                    if maxx > capacity: return False\n",
    "        return True"
   ]
  },
  {
   "cell_type": "markdown",
   "id": "194c1759",
   "metadata": {},
   "source": [
    "### Merge Intervals\n",
    "https://leetcode.com/problems/merge-intervals/"
   ]
  },
  {
   "cell_type": "code",
   "execution_count": null,
   "id": "8038c6e0",
   "metadata": {},
   "outputs": [],
   "source": [
    "class Solution:\n",
    "    def merge(self, inter: List[List[int]]) -> List[List[int]]:\n",
    "        # [[1,3],[2,6],[5,10],[15,18]]\n",
    "        if len(inter) == 1: return inter\n",
    "        inter.sort(key=lambda k:k[0])\n",
    "        out = []\n",
    "        \n",
    "        #  mh = [[1,3]]\n",
    "        for i in range(len(inter)):\n",
    "            if not out:\n",
    "                out.append(inter[i])\n",
    "            else:\n",
    "                if out[-1][1] >= inter[i][0]:\n",
    "                    popped = out.pop()\n",
    "                    out.append([popped[0], max(popped[1], inter[i][1])])\n",
    "                else:\n",
    "                    out.append(inter[i])\n",
    "        return out"
   ]
  },
  {
   "cell_type": "markdown",
   "id": "3e664be2",
   "metadata": {},
   "source": [
    "### Insert Interval\n",
    "https://leetcode.com/problems/insert-interval/"
   ]
  },
  {
   "cell_type": "code",
   "execution_count": null,
   "id": "46cb993a",
   "metadata": {},
   "outputs": [],
   "source": [
    "class Solution:\n",
    "    def insert(self, inter: List[List[int]], new: List[int]) -> List[List[int]]:\n",
    "        # intervals = [[1,2],[3,5],[4,8],[6,7],[8,10],[12,16]]\n",
    "        if len(inter) == 0: return [new]\n",
    "        # insert\n",
    "        added = False\n",
    "        for i in range(len(inter)):\n",
    "            if inter[i][0] > new[0]:\n",
    "                inter.insert(i, new)\n",
    "                added = True\n",
    "                break\n",
    "        if not added:\n",
    "            inter.append(new)\n",
    "        # merge\n",
    "        out = []\n",
    "        for i in range(len(inter)):\n",
    "            if not out:\n",
    "                out.append(inter[i])\n",
    "            else:\n",
    "                if inter[i][0] <= out[-1][1]:\n",
    "                    popped = out.pop()\n",
    "                    out.append([popped[0], max(popped[1], inter[i][1])])\n",
    "                else:\n",
    "                    out.append(inter[i])\n",
    "        return out"
   ]
  }
 ],
 "metadata": {
  "kernelspec": {
   "display_name": "Python 3",
   "language": "python",
   "name": "python3"
  },
  "language_info": {
   "codemirror_mode": {
    "name": "ipython",
    "version": 3
   },
   "file_extension": ".py",
   "mimetype": "text/x-python",
   "name": "python",
   "nbconvert_exporter": "python",
   "pygments_lexer": "ipython3",
   "version": "3.8.8"
  }
 },
 "nbformat": 4,
 "nbformat_minor": 5
}
