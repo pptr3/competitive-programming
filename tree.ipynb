{
 "cells": [
  {
   "cell_type": "markdown",
   "id": "891cf840",
   "metadata": {},
   "source": [
    "### Maximum Depth of Binary Tree\n",
    "\n",
    "https://leetcode.com/problems/maximum-depth-of-binary-tree/\n",
    "\n",
    "Keep track of the depth for each level and return the max."
   ]
  },
  {
   "cell_type": "code",
   "execution_count": 2,
   "id": "94358071",
   "metadata": {},
   "outputs": [],
   "source": [
    "# Definition for a binary tree node.\n",
    "class TreeNode:\n",
    "    def __init__(self, val=0, left=None, right=None):\n",
    "        self.val = val\n",
    "        self.left = left\n",
    "        self.right = right\n",
    "class Solution:\n",
    "    def maxDepth(self, root) -> int:\n",
    "        if not root:\n",
    "            return 0\n",
    "        if root.left == None and root.right == None:\n",
    "            return 1\n",
    "        return self.printPreorder(root, 0)\n",
    "    \n",
    "    def printPreorder(self, root, depth):\n",
    "        if root:\n",
    "            d1 = self.printPreorder(root.left, depth+1)\n",
    "            d2 = self.printPreorder(root.right, depth+1)\n",
    "            return max(d1, d2)\n",
    "        else:\n",
    "            return depth\n",
    "        "
   ]
  },
  {
   "cell_type": "markdown",
   "id": "194c8a83",
   "metadata": {},
   "source": [
    "**Iterative approach**\n",
    "\n",
    "We start from a stack which contains the root node and the corresponding depth which is 1. Then we proceed to the iterations: pop the current node out of the stack and push the child nodes. The depth is updated at each step. TODO: redo this for exercise."
   ]
  },
  {
   "cell_type": "code",
   "execution_count": null,
   "id": "5c7f596c",
   "metadata": {},
   "outputs": [],
   "source": [
    "def maxDepth(self, root):\n",
    "    stack = []\n",
    "    if root is not None:\n",
    "        stack.append((1, root))\n",
    "\n",
    "    depth = 0\n",
    "    while stack != []:\n",
    "        current_depth, root = stack.pop()\n",
    "        if root is not None:\n",
    "            depth = max(depth, current_depth)\n",
    "            stack.append((current_depth + 1, root.left))\n",
    "            stack.append((current_depth + 1, root.right))\n",
    "\n",
    "    return depth"
   ]
  },
  {
   "cell_type": "markdown",
   "id": "9c3729b6",
   "metadata": {},
   "source": [
    "### Sum of the depths of a tree"
   ]
  },
  {
   "cell_type": "code",
   "execution_count": null,
   "id": "78d308b5",
   "metadata": {},
   "outputs": [],
   "source": [
    "tree = TreeNode(val=1, left=TreeNode(val=2, left=TreeNode(val=4, left=TreeNode(val=4, left=None,right=None),right=TreeNode(val=4, left=None,right=None)),right=TreeNode(val=5, left=None,right=None)),right=TreeNode(val=3, left=TreeNode(val=6, left=None,right=None),right=TreeNode(val=7, left=None,right=None)))\n",
    "\n",
    "def sum_depths(root):\n",
    "    if root == None or (root.left == None and root.right == None):\n",
    "        return 0\n",
    "    else:\n",
    "        return dfs(root, 0)\n",
    "        \n",
    "def dfs(root, depth):\n",
    "    if root.left == None and root.right == None:\n",
    "        return depth\n",
    "    elif root.left == None and root.right != None:\n",
    "        d2 = dfs(root.right, depth+1)\n",
    "        return d2+depth\n",
    "    elif root.left != None and root.right == None:\n",
    "        d1 = dfs(root.left, depth+1)\n",
    "        return d1+depth\n",
    "    else:\n",
    "        d1 = dfs(root.left, depth+1)\n",
    "        d2 = dfs(root.right, depth+1)\n",
    "        return d1+d2+depth\n",
    "            "
   ]
  },
  {
   "cell_type": "markdown",
   "id": "22e947a0",
   "metadata": {},
   "source": [
    "### Sum of the depths of all possible subtrees"
   ]
  },
  {
   "cell_type": "code",
   "execution_count": null,
   "id": "14b6696d",
   "metadata": {},
   "outputs": [],
   "source": [
    "def all_sub(root):\n",
    "    if root:\n",
    "        res1 = sum_depths(root)\n",
    "        return res1 + all_sub(root.left) + all_sub(root.right)\n",
    "    else:\n",
    "        return 0"
   ]
  },
  {
   "cell_type": "markdown",
   "id": "dc094b63",
   "metadata": {},
   "source": [
    "### Same Tree\n",
    "\n",
    "https://leetcode.com/problems/same-tree/"
   ]
  },
  {
   "cell_type": "code",
   "execution_count": null,
   "id": "89851db0",
   "metadata": {},
   "outputs": [],
   "source": [
    "p = TreeNode(val=1, left=TreeNode(val=2, left=None, right=None), right=None)\n",
    "q = TreeNode(val=1, left=None, right=TreeNode(val=2, left=None, right=None))\n",
    "\n",
    "def isSameTree(self, p: Optional[TreeNode], q: Optional[TreeNode]) -> bool:\n",
    "    if not p and not q: return True\n",
    "    if bool(p) ^ bool(q): return False\n",
    "    if p.val != q.val: return False\n",
    "    return self.isSameTree(p.left, q.left) and self.isSameTree(p.right, q.right)"
   ]
  },
  {
   "cell_type": "markdown",
   "id": "1da51f1f",
   "metadata": {},
   "source": [
    "### Invert Binary Tree\n",
    "\n",
    "https://leetcode.com/problems/invert-binary-tree/\n",
    "    \n",
    "Invert the root's children and do recursive calls on the children. Notice that we are supposed to return the root. We can just return it at the first call. TODO: do this iteratively. (hint: a queue need to be used)."
   ]
  },
  {
   "cell_type": "code",
   "execution_count": null,
   "id": "c15335ed",
   "metadata": {},
   "outputs": [],
   "source": [
    "# Definition for a binary tree node.\n",
    "class TreeNode:\n",
    "    def __init__(self, val=0, left=None, right=None):\n",
    "        self.val = val\n",
    "        self.left = left\n",
    "        self.right = right\n",
    "        \n",
    "tree = TreeNode(val=4, left=TreeNode(val=2, left=TreeNode(val=1, left=None,right=None),right=TreeNode(val=3, left=None,right=None)),right=TreeNode(val=7, left=TreeNode(val=6, left=None,right=None),right=TreeNode(val=9, left=None,right=None)))\n",
    "\n",
    "def invertTree(root):\n",
    "    if root:\n",
    "        root.right, root.left = root.left, root.right\n",
    "        invertTree(root.left)\n",
    "        invertTree(root.right)\n",
    "        return root\n",
    "    "
   ]
  },
  {
   "cell_type": "markdown",
   "id": "eb20e0ed",
   "metadata": {},
   "source": [
    "### Binary Tree Level Order Traversal\n",
    "\n",
    "https://leetcode.com/problems/binary-tree-level-order-traversal/"
   ]
  },
  {
   "cell_type": "code",
   "execution_count": null,
   "id": "d1ff02eb",
   "metadata": {},
   "outputs": [],
   "source": [
    "# Definition for a binary tree node.\n",
    "# class TreeNode:\n",
    "#     def __init__(self, val=0, left=None, right=None):\n",
    "#         self.val = val\n",
    "#         self.left = left\n",
    "#         self.right = right\n",
    "import collections\n",
    "class Solution:\n",
    "    def levelOrder(self, root: Optional[TreeNode]) -> List[List[int]]:\n",
    "        if not root:\n",
    "            return []\n",
    "        queue = collections.deque([root])\n",
    "        out = []\n",
    "        while queue:\n",
    "            size = len(queue)\n",
    "            inner = []\n",
    "            for _ in range(size):\n",
    "                current_node = queue.popleft()\n",
    "                inner.append(current_node.val)\n",
    "                if current_node.left:\n",
    "                    queue.append(current_node.left)\n",
    "                if current_node.right:\n",
    "                    queue.append(current_node.right)\n",
    "            out.append(inner)\n",
    "        return out"
   ]
  },
  {
   "cell_type": "markdown",
   "id": "8c1553ed",
   "metadata": {},
   "source": [
    "### Subtree of Another Tree\n",
    "\n",
    "https://leetcode.com/problems/subtree-of-another-tree/"
   ]
  },
  {
   "cell_type": "code",
   "execution_count": null,
   "id": "aca7c67b",
   "metadata": {},
   "outputs": [],
   "source": [
    "# Definition for a binary tree node.\n",
    "# class TreeNode:\n",
    "#     def __init__(self, val=0, left=None, right=None):\n",
    "#         self.val = val\n",
    "#         self.left = left\n",
    "#         self.right = right\n",
    "class Solution:\n",
    "    def isSubtree(self, root: Optional[TreeNode], subRoot: Optional[TreeNode]) -> bool:\n",
    "        def equals(root1, root2):\n",
    "            if not root1 and not root2: return True\n",
    "            if bool(root1) ^ bool(root2): return False\n",
    "            if root1 and root2 and root1.val != root2.val: return False\n",
    "            if root1.val == root2.val:\n",
    "                return equals(root1.left, root2.left) and equals(root1.right, root2.right)\n",
    "        \n",
    "        def dfs(root):\n",
    "            if root:\n",
    "                left = dfs(root.left)\n",
    "                right = dfs(root.right)\n",
    "                return equals(root, subRoot) or left or right\n",
    "            \n",
    "        return dfs(root)"
   ]
  },
  {
   "cell_type": "markdown",
   "id": "8747e3e2",
   "metadata": {},
   "source": [
    "### Validate Binary Search Tree\n",
    "\n",
    "https://leetcode.com/problems/validate-binary-search-tree/\n",
    "\n",
    "Classic _lower_ and _upper_ bounds."
   ]
  },
  {
   "cell_type": "code",
   "execution_count": null,
   "id": "43ae0b17",
   "metadata": {},
   "outputs": [],
   "source": [
    "def isValidBST(self, root: Optional[TreeNode]) -> bool:\n",
    "    def dfs(root, lower, upper):\n",
    "        if not root: return True\n",
    "        if root.val <= lower or root.val >= upper: return False\n",
    "        left = dfs(root.left, lower, root.val)\n",
    "        right = dfs(root.right, root.val, upper)\n",
    "        return left and right\n",
    "    return dfs(root, float('-inf'), float('+inf'))"
   ]
  },
  {
   "cell_type": "markdown",
   "id": "29db1a4f",
   "metadata": {},
   "source": [
    "###  Lowest Common Ancestor of a Binary Search Tree\n",
    "\n",
    "https://leetcode.com/problems/lowest-common-ancestor-of-a-binary-search-tree/\n",
    "\n",
    "The trick here is to understand if the nodes are either both on the right or left. If one is on the right and is on the left, then return the current root node."
   ]
  },
  {
   "cell_type": "code",
   "execution_count": null,
   "id": "e1c7442c",
   "metadata": {},
   "outputs": [],
   "source": [
    "# Definition for a binary tree node.\n",
    "# class TreeNode:\n",
    "#     def __init__(self, x):\n",
    "#         self.val = x\n",
    "#         self.left = None\n",
    "#         self.right = None\n",
    "\n",
    "class Solution:\n",
    "    def lowestCommonAncestor(self, root: 'TreeNode', p: 'TreeNode', q: 'TreeNode') -> 'TreeNode':\n",
    "        def dfs(root):\n",
    "            if (root.val >= p.val and root.val <= q.val) or (root.val >= q.val and root.val <= p.val):\n",
    "                return root\n",
    "            elif root.val > p.val and root.val > q.val:\n",
    "                return dfs(root.left)\n",
    "            else:\n",
    "                return dfs(root.right)\n",
    "        return dfs(root)"
   ]
  },
  {
   "cell_type": "markdown",
   "id": "e236385a",
   "metadata": {},
   "source": [
    "###  Kth Smallest Element in a BST\n",
    "\n",
    "https://leetcode.com/problems/kth-smallest-element-in-a-bst/\n",
    "\n",
    "InOrder dfs and collect the elements into a list and return the k-1 element. NOTE: note the dfs with _return_."
   ]
  },
  {
   "cell_type": "code",
   "execution_count": null,
   "id": "5f017d76",
   "metadata": {},
   "outputs": [],
   "source": [
    "def kthSmallest(root, k: int) -> int:\n",
    "    l = []\n",
    "    dfs(root, l)\n",
    "    return l[k-1]\n",
    "\n",
    "def dfs(root, l):\n",
    "    if root:\n",
    "        dfs(root.left, l)\n",
    "        l.append(root.val)\n",
    "        dfs(root.right, l)\n",
    "            \n",
    "\n",
    "### Approach with return\n",
    "def kthSmallest(root, k: int) -> int:\n",
    "    return dfs(root, [])[k-1]\n",
    "\n",
    "def dfs(root, l):\n",
    "    if root:\n",
    "        l = dfs(root.left, l)\n",
    "        l.append(root.val)\n",
    "        l = dfs(root.right, l)\n",
    "        return l\n",
    "    else:\n",
    "        return l"
   ]
  },
  {
   "cell_type": "code",
   "execution_count": null,
   "id": "3ffeacae",
   "metadata": {},
   "outputs": [],
   "source": [
    "tree = TreeNode(val=4, left=TreeNode(val=2, left=TreeNode(val=1, left=None,right=None),right=TreeNode(val=3, left=None,right=None)),right=TreeNode(val=7, left=TreeNode(val=6, left=None,right=None),right=TreeNode(val=9, left=None,right=None)))"
   ]
  },
  {
   "cell_type": "code",
   "execution_count": null,
   "id": "8f8b7f5b",
   "metadata": {},
   "outputs": [],
   "source": [
    "def kthSmallest(root, k: int) -> int:\n",
    "    l = []\n",
    "    dfs(root, l)\n",
    "    return l[k-1]\n",
    "\n",
    "def dfs(root, l):\n",
    "    if root:\n",
    "        dfs(root.left, l)\n",
    "        l.append(root.val)\n",
    "        dfs(root.right, l)?''\n",
    "            \n",
    "\n",
    "### Approach with return\n",
    "def kthSmallest(root, k: int) -> int:\n",
    "    return dfs(root, [])[k-1]\n",
    "\n",
    "def dfs(root, l):\n",
    "    if root:\n",
    "        l = dfs(root.left, l)\n",
    "        l.append(root.val)\n",
    "        l = dfs(root.right, l)\n",
    "        return l\n",
    "    else:\n",
    "        return l"
   ]
  },
  {
   "cell_type": "code",
   "execution_count": null,
   "id": "b859d810",
   "metadata": {},
   "outputs": [],
   "source": [
    "tree = TreeNode(val=10, left=TreeNode(val=0, left=TreeNode(val=0, left=None,right=None),right=TreeNode(val=0, left=None,right=TreeNode(val=0, left=None,right=TreeNode(val=0, left=None,right=None)))))\n",
    "def get_all_subtree(root, out):\n",
    "    if root:\n",
    "        get_all_subtree(root.left, out)\n",
    "        get_all_subtree(root.right, out)\n",
    "        out.append(root)\n",
    "        return out\n",
    "    \n",
    "def equal_subtree(first_root, second_root):\n",
    "    if (not first_root and second_root) or (first_root and not second_root):\n",
    "        return False\n",
    "    if not first_root and not second_root:\n",
    "        return True\n",
    "    if first_root.val != second_root.val:\n",
    "        return False\n",
    "    return equal_subtree(first_root.left, second_root.left) == equal_subtree(first_root.right, second_root.right)"
   ]
  },
  {
   "cell_type": "code",
   "execution_count": null,
   "id": "8f577128",
   "metadata": {},
   "outputs": [],
   "source": [
    "a = get_all_subtree(tree, [])"
   ]
  },
  {
   "cell_type": "markdown",
   "id": "b4eae1ba",
   "metadata": {},
   "source": [
    "### Print nodes level by level"
   ]
  },
  {
   "cell_type": "code",
   "execution_count": null,
   "id": "519c9b90",
   "metadata": {},
   "outputs": [],
   "source": [
    "class TreeNode:\n",
    "    def __init__(self, val = 0, left = None, right = None):\n",
    "        self.val = val\n",
    "        self.left = left\n",
    "        self.right = right\n",
    "\n",
    "tree = TreeNode(val=1, left=TreeNode(val=2, left=TreeNode(val=4, left=None,right=None),right=TreeNode(val=5, left=None,right=None)),right=TreeNode(val=3, left=TreeNode(val=6, left=None,right=None),right=TreeNode(val=7, left=None,right=None)))\n",
    "\n",
    "import collections\n",
    "q = collections.deque([tree])\n",
    "while q:\n",
    "    size = len(q)\n",
    "    for i in range(size):\n",
    "        current_node = q.popleft()\n",
    "        print(current_node.val)\n",
    "        if current_node.left:\n",
    "            q.append(current_node.left)\n",
    "        if current_node.right:\n",
    "            q.append(current_node.right)\n",
    "    print(\"\\n\")"
   ]
  },
  {
   "cell_type": "markdown",
   "id": "a20e59a3",
   "metadata": {},
   "source": [
    "### Print tree"
   ]
  },
  {
   "cell_type": "code",
   "execution_count": null,
   "id": "c9ee5b5f",
   "metadata": {},
   "outputs": [],
   "source": [
    "COUNT = [10]\n",
    "def print2DUtil(root, space) :\n",
    " \n",
    "    # Base case\n",
    "    if (root == None) :\n",
    "        return\n",
    " \n",
    "    # Increase distance between levels\n",
    "    space += COUNT[0]\n",
    " \n",
    "    # Process right child first\n",
    "    print2DUtil(root.right, space)\n",
    " \n",
    "    # Print current node after space\n",
    "    # count\n",
    "    print()\n",
    "    for i in range(COUNT[0], space):\n",
    "        print(end = \" \")\n",
    "    print(root.val)\n",
    " \n",
    "    # Process left child\n",
    "    print2DUtil(root.left, space)\n",
    "    \n",
    "    \n",
    "def print2D(root) :\n",
    "    # space=[0]\n",
    "    # Pass initial space count as 0\n",
    "    print2DUtil(root, 0)"
   ]
  },
  {
   "cell_type": "markdown",
   "id": "9f5e1bd6",
   "metadata": {},
   "source": [
    "###  Binary Tree Maximum Path Sum\n",
    "https://leetcode.com/problems/binary-tree-maximum-path-sum/\n",
    "\n",
    "Tricky. We do a dfs and everytime we compute the max sum we can get from the left and right subtrees **WITHOUT** splitting.\n",
    "**BUT** we mantain a global variable in which we compute the result **WITH SPLITTTING**."
   ]
  },
  {
   "cell_type": "code",
   "execution_count": null,
   "id": "cb635040",
   "metadata": {},
   "outputs": [],
   "source": [
    "# Definition for a binary tree node.\n",
    "# class TreeNode:\n",
    "#     def __init__(self, val=0, left=None, right=None):\n",
    "#         self.val = val\n",
    "#         self.left = left\n",
    "#         self.right = right\n",
    "class Solution:\n",
    "    def maxPathSum(self, root: Optional[TreeNode]) -> int:\n",
    "        res = [float('-inf')]\n",
    "        def dfs(root):\n",
    "            if root:\n",
    "                left_sum = dfs(root.left)\n",
    "                right_sum = dfs(root.right)\n",
    "                res[0] = max(res[0], root.val, root.val+left_sum, root.val+right_sum, root.val+right_sum+left_sum)\n",
    "                return max(0, max(left_sum, right_sum)+root.val, root.val)\n",
    "            return 0\n",
    "        dfs(root)\n",
    "        return res[0]"
   ]
  },
  {
   "cell_type": "code",
   "execution_count": null,
   "id": "9fb45c75",
   "metadata": {},
   "outputs": [],
   "source": [
    "import collections\n",
    "class Solution:\n",
    "    def ladderLength(self, beginWord: str, endWord: str, wordList: List[str]) -> int:\n",
    "        # beginWord = \"hit\", endWord = \"cog\"\n",
    "        # wordList = [\"dot\",\"dog\",\"lot\",\"log\",\"cog\", \"hot\", \"hat\"]\n",
    "        \n",
    "        if endWord not in set(wordList):\n",
    "            return 0\n",
    "        \n",
    "        graph = {beginWord:[]}\n",
    "        queue = collections.deque([beginWord])\n",
    "        seen = set()\n",
    "        seen.add(beginWord)\n",
    "        \n",
    "        while queue:\n",
    "            current_string = queue.popleft()\n",
    "            words = self.different_by_one_char(current_string, wordList, seen)\n",
    "            graph[current_string] = words\n",
    "            for w in words:\n",
    "                queue.append(w)\n",
    "                seen.add(w)\n",
    "        #print(graph)\n",
    "        queue = collections.deque([[beginWord, 1]])\n",
    "        while queue:\n",
    "            current_word, counter = queue.popleft()\n",
    "            for neighbor in graph[current_word]:\n",
    "                if neighbor == endWord:\n",
    "                    return counter+1\n",
    "                else:\n",
    "                    queue.append([neighbor, counter+1])\n",
    "        return 0\n",
    "            \n",
    "            \n",
    "            \n",
    "    def different_by_one_char(self, starting_string, wordList, seen):\n",
    "        out = []\n",
    "        for word in wordList:\n",
    "            diffs = 0\n",
    "            for idx, char in enumerate(starting_string):\n",
    "                if char != word[idx]:\n",
    "                    diffs += 1\n",
    "            if diffs == 1 and word not in seen:\n",
    "                out.append(word)\n",
    "                seen.add(word)\n",
    "        return out"
   ]
  },
  {
   "cell_type": "markdown",
   "id": "9eb5a3f8",
   "metadata": {},
   "source": [
    "### Diameter of Binary Tree\n",
    "https://leetcode.com/problems/diameter-of-binary-tree/"
   ]
  },
  {
   "cell_type": "code",
   "execution_count": null,
   "id": "a4a96d16",
   "metadata": {},
   "outputs": [],
   "source": [
    "# Definition for a binary tree node.\n",
    "# class TreeNode:\n",
    "#     def __init__(self, val=0, left=None, right=None):\n",
    "#         self.val = val\n",
    "#         self.left = left\n",
    "#         self.right = right\n",
    "class Solution:\n",
    "    def diameterOfBinaryTree(self, root: Optional[TreeNode]) -> int:\n",
    "        res = [0]\n",
    "        def dfs(root):\n",
    "            if root:\n",
    "                if not root.left and not root.right:\n",
    "                    return 0\n",
    "                left_depth = dfs(root.left)\n",
    "                right_depth = dfs(root.right)\n",
    "                res[0] = max(res[0], left_depth + right_depth + 2)\n",
    "                return max(left_depth, right_depth) + 1\n",
    "            return -1\n",
    "        dfs(root)\n",
    "        return res[0]"
   ]
  },
  {
   "cell_type": "code",
   "execution_count": 4,
   "id": "971eefc4",
   "metadata": {},
   "outputs": [
    {
     "name": "stdout",
     "output_type": "stream",
     "text": [
      "yres\n"
     ]
    }
   ],
   "source": [
    "l = [0,0,0]\n",
    "if all(l[0] == n for n in l):\n",
    "    print(\"yres\")"
   ]
  },
  {
   "cell_type": "code",
   "execution_count": 53,
   "id": "47238dc3",
   "metadata": {},
   "outputs": [
    {
     "data": {
      "text/plain": [
       "(12, 14)"
      ]
     },
     "execution_count": 53,
     "metadata": {},
     "output_type": "execute_result"
    }
   ],
   "source": [
    "tree = TreeNode(val=8, left=TreeNode(val=4, left=TreeNode(val=2, left=None,right=None),right=TreeNode(val=6, left=None,right=None)),right=TreeNode(val=12, left=TreeNode(val=10, left=None,right=None),right=TreeNode(val=14, left=None,right=None)))\n",
    "def findCeilingFloor(root, k, floor=float('-inf'), ceiling=float('+inf')):\n",
    "    if root:\n",
    "        if root.val == k:\n",
    "            return k, k\n",
    "        if root.val > k and root.val < ceiling:\n",
    "            return findCeilingFloor(root.left, k, floor=floor, ceiling=root.val)    \n",
    "        elif root.val < k and root.val > floor:\n",
    "            return findCeilingFloor(root.right, k, floor=root.val, ceiling=ceiling)\n",
    "        #return floor, ceiling\n",
    "    else:\n",
    "        return floor, ceiling\n",
    "            \n",
    "        \n",
    "findCeilingFloor(tree, 13)"
   ]
  },
  {
   "cell_type": "markdown",
   "id": "eabcc489",
   "metadata": {},
   "source": [
    "### All path from root to leaves"
   ]
  },
  {
   "cell_type": "code",
   "execution_count": 7,
   "id": "37d1d7a4",
   "metadata": {},
   "outputs": [],
   "source": [
    "tree = TreeNode(val=1, left=TreeNode(val=2, left=TreeNode(val=3, left=None,right=None),right=TreeNode(val=4, left=None,right=None)),right=TreeNode(val=5, left=TreeNode(val=6, left=None,right=None),right=TreeNode(val=7, left=None,right=None)))"
   ]
  },
  {
   "cell_type": "code",
   "execution_count": 17,
   "id": "c9f1ff09",
   "metadata": {},
   "outputs": [],
   "source": [
    "def dfs(root, path):\n",
    "    stack = []\n",
    "    stack.append([root, []])\n",
    "    out = []\n",
    "    while stack:\n",
    "        current_node, path = stack.pop()\n",
    "        if not current_node.left and not current_node.right:\n",
    "            new_path = path.copy()\n",
    "            new_path.append(current_node.val)\n",
    "            out.append(new_path)\n",
    "        if current_node.left:\n",
    "            new_path = path.copy()\n",
    "            new_path.append(current_node.val)\n",
    "            stack.append([current_node.left, new_path])\n",
    "        if current_node.right:\n",
    "            new_path = path.copy()\n",
    "            new_path.append(current_node.val)\n",
    "            stack.append([current_node.right, new_path])\n",
    "    return out"
   ]
  },
  {
   "cell_type": "markdown",
   "id": "77471a21",
   "metadata": {},
   "source": [
    "### Path from root to destination using backtraking and no copy()"
   ]
  },
  {
   "cell_type": "code",
   "execution_count": null,
   "id": "f4a0cdab",
   "metadata": {},
   "outputs": [],
   "source": [
    "# collect path from root to target with backtracking\n",
    "def backtrack_path(root, target, path):\n",
    "    if not root:\n",
    "        return False\n",
    "    if root.val[0] == target:\n",
    "        path.append(root.val)\n",
    "        return True\n",
    "    path.append(root.val)\n",
    "    if backtrack_path(root.left, target, path):\n",
    "        return True\n",
    "    path.pop()\n",
    "    path.append(root.val)\n",
    "    if backtrack_path(root.right, target, path):\n",
    "        return True\n",
    "    path.pop()\n",
    "    return False\n",
    "\n",
    "\n",
    "path_start = []\n",
    "backtrack_path(root, startValue, path_start)"
   ]
  },
  {
   "cell_type": "code",
   "execution_count": 18,
   "id": "10b84099",
   "metadata": {},
   "outputs": [
    {
     "data": {
      "text/plain": [
       "[[1, 5, 7], [1, 5, 6], [1, 2, 4], [1, 2, 3]]"
      ]
     },
     "execution_count": 18,
     "metadata": {},
     "output_type": "execute_result"
    }
   ],
   "source": [
    "dfs(tree, [])"
   ]
  },
  {
   "cell_type": "code",
   "execution_count": 10,
   "id": "e9aa3c6a",
   "metadata": {},
   "outputs": [
    {
     "name": "stdout",
     "output_type": "stream",
     "text": [
      "\n",
      "                    7\n",
      "\n",
      "          5\n",
      "\n",
      "                    6\n",
      "\n",
      "1\n",
      "\n",
      "                    4\n",
      "\n",
      "          2\n",
      "\n",
      "                    3\n"
     ]
    }
   ],
   "source": [
    "COUNT = [10]\n",
    "def print2DUtil(root, space) :\n",
    " \n",
    "    # Base case\n",
    "    if (root == None) :\n",
    "        return\n",
    " \n",
    "    # Increase distance between levels\n",
    "    space += COUNT[0]\n",
    " \n",
    "    # Process right child first\n",
    "    print2DUtil(root.right, space)\n",
    " \n",
    "    # Print current node after space\n",
    "    # count\n",
    "    print()\n",
    "    for i in range(COUNT[0], space):\n",
    "        print(end = \" \")\n",
    "    print(root.val)\n",
    " \n",
    "    # Process left child\n",
    "    print2DUtil(root.left, space)\n",
    "    \n",
    "    \n",
    "def print2D(root) :\n",
    "    # space=[0]\n",
    "    # Pass initial space count as 0\n",
    "    print2DUtil(root, 0)\n",
    "print2D(tree) "
   ]
  },
  {
   "cell_type": "markdown",
   "id": "c5e5904e",
   "metadata": {},
   "source": [
    "### Symmetric Tree\n",
    "https://leetcode.com/problems/symmetric-tree/"
   ]
  },
  {
   "cell_type": "code",
   "execution_count": null,
   "id": "d8af2155",
   "metadata": {},
   "outputs": [],
   "source": [
    "# Definition for a binary tree node.\n",
    "# class TreeNode:\n",
    "#     def __init__(self, val=0, left=None, right=None):\n",
    "#         self.val = val\n",
    "#         self.left = left\n",
    "#         self.right = right\n",
    "class Solution:\n",
    "    def isSymmetric(self, root: Optional[TreeNode]) -> bool:\n",
    "        if not root.left and not root.right: return True\n",
    "        if (not root.left and root.right) or (root.left and not root.right): return False\n",
    "        \n",
    "        def invert(root):\n",
    "            if root:\n",
    "                root.left, root.right = root.right, root.left\n",
    "                invert(root.left)\n",
    "                invert(root.right)\n",
    "        def equals(root1, root2):\n",
    "            if not root1 and not root2: return True\n",
    "            #if (not root1 and root2) or (root1 and not root2): return False\n",
    "            if bool(root1) ^ bool(root2): return False\n",
    "            if root1.val != root2.val: return False\n",
    "            return equals(root1.left, root2.left) and equals(root1.right, root2.right)\n",
    "        invert(root.right)\n",
    "        return equals(root.left, root.right)\n",
    "                \n",
    "        "
   ]
  },
  {
   "cell_type": "markdown",
   "id": "53f44dfd",
   "metadata": {},
   "source": [
    "### Path Sum\n",
    "\n",
    "https://leetcode.com/problems/path-sum/"
   ]
  },
  {
   "cell_type": "code",
   "execution_count": null,
   "id": "44e3e461",
   "metadata": {},
   "outputs": [],
   "source": [
    "# Definition for a binary tree node.\n",
    "# class TreeNode:\n",
    "#     def __init__(self, val=0, left=None, right=None):\n",
    "#         self.val = val\n",
    "#         self.left = left\n",
    "#         self.right = right\n",
    "class Solution:\n",
    "    def hasPathSum(self, root: Optional[TreeNode], targetSum: int) -> bool:\n",
    "        if not root: return False\n",
    "        def dfs(root, currsum):\n",
    "            if root:\n",
    "                # if leaf\n",
    "                if not root.left and not root.right:\n",
    "                    return root.val+currsum == targetSum\n",
    "                leftsum = dfs(root.left, currsum+root.val)\n",
    "                rightsum = dfs(root.right, currsum+root.val)\n",
    "                return leftsum or rightsum\n",
    "            return False\n",
    "        return dfs(root, 0)"
   ]
  },
  {
   "cell_type": "markdown",
   "id": "38d4e364",
   "metadata": {},
   "source": [
    "### Count Univalue Subtrees\n",
    "https://leetcode.com/problems/count-univalue-subtrees/"
   ]
  },
  {
   "cell_type": "code",
   "execution_count": null,
   "id": "8c8b50ea",
   "metadata": {},
   "outputs": [],
   "source": [
    "def countUnivalSubtrees(self, root: Optional[TreeNode]) -> int:\n",
    "        if not root: return 0\n",
    "        count = 0\n",
    "        def dfs(root):\n",
    "            nonlocal count\n",
    "            if not root.left and not root.right:\n",
    "                count += 1\n",
    "                return True\n",
    "            if root.left and root.right:\n",
    "                left = dfs(root.left)\n",
    "                right = dfs(root.right)\n",
    "                if left and right and (root.left.val == root.right.val) and (root.val == root.left.val):\n",
    "                    count += 1\n",
    "                    return True\n",
    "                else:\n",
    "                    return False\n",
    "            elif not root.left and root.right:\n",
    "                right = dfs(root.right)\n",
    "                if right and (root.val == root.right.val):\n",
    "                    count += 1\n",
    "                    return True\n",
    "                else:\n",
    "                    return False\n",
    "            else:\n",
    "                left = dfs(root.left)\n",
    "                if left and (root.val == root.left.val):\n",
    "                    count += 1\n",
    "                    return True\n",
    "                else:\n",
    "                    return False\n",
    "        dfs(root)\n",
    "        return count"
   ]
  },
  {
   "cell_type": "markdown",
   "id": "ea4e063f",
   "metadata": {},
   "source": [
    "### Populating Next Right Pointers in Each Node\n",
    "https://leetcode.com/problems/populating-next-right-pointers-in-each-node/"
   ]
  },
  {
   "cell_type": "code",
   "execution_count": null,
   "id": "8723b7ae",
   "metadata": {},
   "outputs": [],
   "source": [
    "def connect(self, root: 'Optional[Node]') -> 'Optional[Node]':\n",
    "    if not root: return None\n",
    "    queue = collections.deque([root])\n",
    "    while queue:\n",
    "        size = len(queue)\n",
    "        prev = None\n",
    "        for _ in range(size):\n",
    "            current_node = queue.popleft()\n",
    "            if prev:\n",
    "                prev.next = current_node\n",
    "            prev = current_node\n",
    "            if current_node.left:\n",
    "                queue.append(current_node.left)\n",
    "            if current_node.right:\n",
    "                queue.append(current_node.right)\n",
    "    return root\n",
    "                "
   ]
  },
  {
   "cell_type": "markdown",
   "id": "52e877ff",
   "metadata": {},
   "source": [
    "### Lowest Common Ancestor of a Binary Tree\n",
    "https://leetcode.com/problems/lowest-common-ancestor-of-a-binary-tree/"
   ]
  },
  {
   "cell_type": "code",
   "execution_count": null,
   "id": "a3069b91",
   "metadata": {},
   "outputs": [],
   "source": [
    "def lowestCommonAncestor(self, root: 'TreeNode', p: 'TreeNode', q: 'TreeNode') -> 'TreeNode':\n",
    "        def dfs(root, target):\n",
    "            stack = [[root, []]]\n",
    "            while stack:\n",
    "                currnode, path = stack.pop()\n",
    "                if currnode.val == target.val:\n",
    "                    new_path = path.copy() \n",
    "                    new_path.append(target.val)\n",
    "                    return new_path\n",
    "                if currnode.left:\n",
    "                    new_path = path.copy() \n",
    "                    new_path.append(currnode.val)\n",
    "                    stack.append([currnode.left, new_path])\n",
    "                if currnode.right:\n",
    "                    new_path = path.copy() \n",
    "                    new_path.append(currnode.val)\n",
    "                    stack.append([currnode.right, new_path])\n",
    "            return None\n",
    "                    \n",
    "        path_p = dfs(root, p)\n",
    "        path_q = dfs(root, q)\n",
    "        # first that differ, return i-1\n",
    "        for i in range(min(len(path_p), len(path_q))):\n",
    "            if path_p[i] != path_q[i]:\n",
    "                return TreeNode(path_p[i-1])\n",
    "        if len(path_p) > len(path_q): return TreeNode(path_q[-1])\n",
    "        if len(path_p) < len(path_q): return TreeNode(path_p[-1])\n",
    "        "
   ]
  },
  {
   "cell_type": "markdown",
   "id": "fda8724d",
   "metadata": {},
   "source": [
    "### Serialize and Deserialize Binary Tree\n",
    "\n",
    "https://leetcode.com/problems/serialize-and-deserialize-binary-tree/"
   ]
  },
  {
   "cell_type": "code",
   "execution_count": null,
   "id": "3400cbcc",
   "metadata": {},
   "outputs": [],
   "source": [
    "# TODO: deserialize\n",
    "# Definition for a binary tree node.\n",
    "# class TreeNode(object):\n",
    "#     def __init__(self, x):\n",
    "#         self.val = x\n",
    "#         self.left = None\n",
    "#         self.right = None\n",
    "\n",
    "def serialize(self, root):\n",
    "    \"\"\"Encodes a tree to a single string.\n",
    "\n",
    "    :type root: TreeNode\n",
    "    :rtype: str\n",
    "    \"\"\"\n",
    "    str_list = []\n",
    "    def serialize_recursive(node):\n",
    "        if node is None:\n",
    "            str_list.append('N')\n",
    "            return\n",
    "        str_list.append(str(node.val))\n",
    "        serialize_recursive(node.left)\n",
    "        serialize_recursive(node.right)\n",
    "\n",
    "    serialize_recursive(root)\n",
    "    data = ','.join(str_list)\n",
    "    return data\n",
    "\n",
    "def deserialize(self, data):\n",
    "    \"\"\"Decodes your encoded data to tree.\n",
    "\n",
    "    :type data: str\n",
    "    :rtype: TreeNode\n",
    "    \"\"\"\n",
    "    # recursive DFS, preorder travesrsal\n",
    "    data_list = data.split(',')\n",
    "    self.i = 0 # for traversal\n",
    "    def deserialize_recursive():\n",
    "        if data_list[self.i] == 'N':\n",
    "            self.i += 1\n",
    "            return None\n",
    "        node = TreeNode(val = int(data_list[self.i]))\n",
    "        self.i += 1\n",
    "        node.left = deserialize_recursive()\n",
    "        node.right = deserialize_recursive()\n",
    "        return node\n",
    "    return deserialize_recursive()\n",
    "            \n",
    "# Your Codec object will be instantiated and called as such:\n",
    "# ser = Codec()\n",
    "# deser = Codec()\n",
    "# ans = deser.deserialize(ser.serialize(root))"
   ]
  },
  {
   "cell_type": "markdown",
   "id": "cc081ace",
   "metadata": {},
   "source": [
    "### Binary Tree Paths\n",
    "https://leetcode.com/problems/binary-tree-paths/"
   ]
  },
  {
   "cell_type": "code",
   "execution_count": null,
   "id": "58240153",
   "metadata": {},
   "outputs": [],
   "source": [
    "# Definition for a binary tree node.\n",
    "# class TreeNode:\n",
    "#     def __init__(self, val=0, left=None, right=None):\n",
    "#         self.val = val\n",
    "#         self.left = left\n",
    "#         self.right = right\n",
    "class Solution:\n",
    "    def binaryTreePaths(self, root: Optional[TreeNode]) -> List[str]:\n",
    "        def backtrack(node, currlist):\n",
    "            if not node:\n",
    "                return\n",
    "            if not node.left and not node.right:\n",
    "                currlist.append(str(node.val))\n",
    "                out.append(''.join(currlist))\n",
    "                currlist.pop()\n",
    "                return\n",
    "            currlist.append(str(node.val))\n",
    "            currlist.append('->')\n",
    "            backtrack(node.left, currlist)\n",
    "            currlist.pop()\n",
    "            currlist.pop()\n",
    "            currlist.append(str(node.val))\n",
    "            currlist.append('->')\n",
    "            backtrack(node.right, currlist)\n",
    "            currlist.pop()\n",
    "            currlist.pop()\n",
    "            \n",
    "        out = []\n",
    "        backtrack(root, [])\n",
    "        return out"
   ]
  },
  {
   "cell_type": "markdown",
   "id": "2942b9fc",
   "metadata": {},
   "source": [
    "### Find Leaves of Binary Tree\n",
    "https://leetcode.com/problems/find-leaves-of-binary-tree/"
   ]
  },
  {
   "cell_type": "code",
   "execution_count": null,
   "id": "a1474b2e",
   "metadata": {},
   "outputs": [],
   "source": [
    "# Definition for a binary tree node.\n",
    "# class TreeNode:\n",
    "#     def __init__(self, val=0, left=None, right=None):\n",
    "#         self.val = val\n",
    "#         self.left = left\n",
    "#         self.right = right\n",
    "class Solution:\n",
    "    def findLeaves(self, root: Optional[TreeNode]) -> List[List[int]]:\n",
    "        leaves = {}\n",
    "\n",
    "        def collect_leaves(root):\n",
    "            if root:\n",
    "                left = collect_leaves(root.left)\n",
    "                right = collect_leaves(root.right)\n",
    "                root.val = [root.val, max(left, right) + 1]\n",
    "                return max(left, right) + 1\n",
    "            else:\n",
    "                return -1\n",
    "        def build_res(root):\n",
    "            if root:\n",
    "                build_res(root.left)\n",
    "                build_res(root.right)\n",
    "                if root.val[1] not in leaves:\n",
    "                    leaves[root.val[1]] = [root.val[0]]\n",
    "                else:\n",
    "                    leaves[root.val[1]].append(root.val[0])\n",
    "                    \n",
    "        collect_leaves(root)\n",
    "        build_res(root)\n",
    "        return leaves.values()"
   ]
  }
 ],
 "metadata": {
  "kernelspec": {
   "display_name": "Python 3",
   "language": "python",
   "name": "python3"
  },
  "language_info": {
   "codemirror_mode": {
    "name": "ipython",
    "version": 3
   },
   "file_extension": ".py",
   "mimetype": "text/x-python",
   "name": "python",
   "nbconvert_exporter": "python",
   "pygments_lexer": "ipython3",
   "version": "3.8.8"
  }
 },
 "nbformat": 4,
 "nbformat_minor": 5
}
