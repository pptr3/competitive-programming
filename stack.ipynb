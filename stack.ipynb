{
 "cells": [
  {
   "cell_type": "markdown",
   "id": "96663c5d",
   "metadata": {},
   "source": [
    "### Recursive DFS"
   ]
  },
  {
   "cell_type": "code",
   "execution_count": null,
   "id": "42bf78b4",
   "metadata": {},
   "outputs": [],
   "source": [
    "def DFS(v, visited):\n",
    "\n",
    "    # Mark the current node as visited and print it\n",
    "    visited.add(v)\n",
    "    print(v, end=' ')\n",
    "\n",
    "    # Recur for all the vertices adjacent to this vertex\n",
    "    for neighbour in self.graph[v]:\n",
    "        if neighbour not in visited:\n",
    "            self.DFS(neighbour, visited)\n",
    "            \n",
    "def function_that_calls_DFS(v):\n",
    "\n",
    "    # Create a set to store visited vertices\n",
    "    visited = set()\n",
    "\n",
    "    # Call the recursive helper function to print DFS traversal\n",
    "    self.DFSUtil(v, visited)"
   ]
  },
  {
   "cell_type": "markdown",
   "id": "2ba9b520",
   "metadata": {},
   "source": [
    "### Number of Islands\n",
    "\n",
    "https://leetcode.com/problems/number-of-islands/\n",
    "\n",
    "Classic flooding approach."
   ]
  },
  {
   "cell_type": "markdown",
   "id": "50c81fcc",
   "metadata": {},
   "source": [
    "**Recursive DFS**"
   ]
  },
  {
   "cell_type": "code",
   "execution_count": null,
   "id": "427f0ca7",
   "metadata": {},
   "outputs": [],
   "source": [
    "def numIslands(grid) -> int:\n",
    "    count = 0\n",
    "    visited = set()\n",
    "    for row in range(len(grid)):\n",
    "        for col in range(len(grid[0])):\n",
    "            if grid[row][col] == '1':\n",
    "                # dfs on it with flooding the other ones\n",
    "                dfs(grid, row, col, visited)\n",
    "                count += 1\n",
    "    return count\n",
    "\n",
    "def dfs(grid, row, col, visited):\n",
    "    visited.add(tuple([row, col]))\n",
    "    for coords in [(-1,0), (1,0), (0,-1), (0,1)]:\n",
    "        xc = coords[0]\n",
    "        yc = coords[1]\n",
    "        if row+xc >= 0 and row+xc < len(grid) and col+yc >= 0 and col+yc < len(grid[0]) and grid[row+xc][col+yc] == '1' and and tuple([row+xc, col+yc]) not in visited:\n",
    "            grid[row+xc][col+yc] = '0'\n",
    "            dfs(grid, row+xc,  col+yc, visited)"
   ]
  },
  {
   "cell_type": "markdown",
   "id": "fd8d8070",
   "metadata": {},
   "source": [
    "**Iterative DFS**"
   ]
  },
  {
   "cell_type": "code",
   "execution_count": null,
   "id": "cd8f5c1f",
   "metadata": {},
   "outputs": [],
   "source": [
    "def numIslands(grid) -> int:\n",
    "    count = 0\n",
    "    for row in range(len(grid)):\n",
    "        for col in range(len(grid[0])):\n",
    "            if grid[row][col] == '1':\n",
    "                # dfs on it with flooding the other ones\n",
    "                dfs(grid, row, col)\n",
    "                count += 1\n",
    "    return count\n",
    "\n",
    "def dfs(grid, row, col):\n",
    "    visited = {tuple([row, col])}\n",
    "    stack = [[row, col]]\n",
    "    while stack:\n",
    "        root = stack.pop()\n",
    "        xcoord = root[0]\n",
    "        ycoord = root[1]\n",
    "        for coords in [(-1,0), (1,0), (0,-1), (0,1)]:\n",
    "            xc = coords[0]\n",
    "            yc = coords[1]\n",
    "            if xcoord+xc >= 0 and xcoord+xc < len(grid) and ycoord+yc >= 0 and ycoord+yc < len(grid[0]) and grid[xcoord+xc][ycoord+yc] == '1' and tuple([xcoord+xc, ycoord+yc]) not in visited:\n",
    "                grid[xcoord+xc][ycoord+yc] = '0'\n",
    "                visited.add(tuple([xcoord+xc,ycoord+yc]))\n",
    "                stack.append([xcoord+xc,ycoord+yc])\n",
    "        "
   ]
  },
  {
   "cell_type": "code",
   "execution_count": 1,
   "id": "22ffa70e",
   "metadata": {},
   "outputs": [],
   "source": [
    "# THIS IS NOT WORKING WITH ZEROS\\\n",
    "def findTargetSumWays(nums, target) -> int:\n",
    "    if len(nums) == 1 and (target == nums[0] or target == -nums[0]):\n",
    "        return 1\n",
    "    nums = [str(i) for i in nums]\n",
    "    visited = set()\n",
    "    visited.add(tuple(nums))\n",
    "    stack = [nums]\n",
    "    ans = 0\n",
    "    c = 0\n",
    "    while stack:\n",
    "        root = stack.pop()\n",
    "        root = [int(i) for i in root]\n",
    "        if sum(root) == target:\n",
    "            ans += 1\n",
    "\n",
    "        for i in range(len(root)):\n",
    "            new = root.copy()\n",
    "            new = [str(i) for i in new]\n",
    "            if int(new[i]) >= 0:\n",
    "                new[i] = str('-') + new[i]\n",
    "                if tuple(new) not in visited:\n",
    "                    visited.add(tuple(new))\n",
    "                    stack.append(new)\n",
    "        c += 1\n",
    "        if c == 10:\n",
    "            for i in stack:\n",
    "                print(i)\n",
    "            break\n",
    "                \n",
    "            \n",
    "\n",
    "    return ans"
   ]
  },
  {
   "cell_type": "code",
   "execution_count": null,
   "id": "14b2e62e",
   "metadata": {},
   "outputs": [],
   "source": [
    "# TODO: implement a stack given a queue"
   ]
  },
  {
   "cell_type": "code",
   "execution_count": 44,
   "id": "21d773a6",
   "metadata": {},
   "outputs": [],
   "source": [
    "out = [1,2,3]\n",
    "out[1] = 9"
   ]
  },
  {
   "cell_type": "code",
   "execution_count": 46,
   "id": "9782c55a",
   "metadata": {},
   "outputs": [
    {
     "data": {
      "text/plain": [
       "[1, 9, 3]"
      ]
     },
     "execution_count": 46,
     "metadata": {},
     "output_type": "execute_result"
    }
   ],
   "source": [
    "out"
   ]
  },
  {
   "cell_type": "code",
   "execution_count": null,
   "id": "0eb54a95",
   "metadata": {},
   "outputs": [],
   "source": [
    "def findLeaves(self, root: Optional[TreeNode]) -> List[List[int]]:\n",
    "        if root.left == None and root.right == None:\n",
    "            return [[root.val]]\n",
    "        hs = {}\n",
    "        self.find_height(root, hs)\n",
    "        return list(hs.values())\n",
    "        \n",
    "    def find_height(self, root, hs):\n",
    "        if root:\n",
    "            if root.left == None and root.right == None:\n",
    "                if 0 not in hs:\n",
    "                    hs[0] = [root.val]\n",
    "                else:\n",
    "                    hs[0].append(root.val)\n",
    "                return 0\n",
    "            if root.left and root.right:\n",
    "                a = self.find_height(root.left, hs) + 1\n",
    "                b = self.find_height(root.right, hs) + 1\n",
    "                mx = max(a,b)\n",
    "                if mx not in hs:\n",
    "                    hs[mx] = [root.val]\n",
    "                else:\n",
    "                    hs[mx].append(root.val)\n",
    "                return mx \n",
    "            elif not root.left and root.right:\n",
    "                b = self.find_height(root.right, hs) + 1\n",
    "                if b not in hs:\n",
    "                    hs[b] = [root.val]\n",
    "                else:\n",
    "                    hs[b].append(root.val)\n",
    "                return b \n",
    "            elif root.left and not root.right:\n",
    "                b = self.find_height(root.left, hs) + 1\n",
    "                if b not in hs:\n",
    "                    hs[b] = [root.val]\n",
    "                else:\n",
    "                    hs[b].append(root.val)\n",
    "                return b "
   ]
  },
  {
   "cell_type": "markdown",
   "id": "0d4e9da7",
   "metadata": {},
   "source": [
    "todo: https://leetcode.com/problems/decode-string/solution/"
   ]
  },
  {
   "cell_type": "markdown",
   "id": "1a468298",
   "metadata": {},
   "source": [
    "### Remove All Adjacent Duplicates in String II\n",
    "https://leetcode.com/problems/remove-all-adjacent-duplicates-in-string-ii/"
   ]
  },
  {
   "cell_type": "code",
   "execution_count": null,
   "id": "dcacae7a",
   "metadata": {},
   "outputs": [],
   "source": [
    "from collections import OrderedDict\n",
    "class Solution:\n",
    "    def removeDuplicates(self, s: str, k: int) -> str:\n",
    "        stack = [[s[0], 1]]\n",
    "        for i in range(1, len(s)):\n",
    "            if stack and s[i] == stack[-1][0]:\n",
    "                if stack[-1][1] == k-1:\n",
    "                    # pop\n",
    "                    stack.pop()\n",
    "                else:\n",
    "                    stack[-1][1] += 1\n",
    "            else:\n",
    "                new_pair = [s[i], 1]\n",
    "                stack.append(new_pair)\n",
    "        out = []\n",
    "        for i in range(len(stack)):\n",
    "            for _ in range(stack[i][1]):\n",
    "                out.append(stack[i][0])\n",
    "        return ''.join(out)"
   ]
  },
  {
   "cell_type": "markdown",
   "id": "38fd8f18",
   "metadata": {},
   "source": [
    "### Valid Parentheses\n",
    "https://leetcode.com/problems/valid-parentheses/"
   ]
  },
  {
   "cell_type": "code",
   "execution_count": null,
   "id": "677d3978",
   "metadata": {},
   "outputs": [],
   "source": [
    "class Solution:\n",
    "    def isValid(self, s: str) -> bool:\n",
    "        # {[()]}\n",
    "        par = {')':'(', ']':'[', '}':'{'}\n",
    "        stack = []\n",
    "        for i in range(len(s)):\n",
    "            if not stack and s[i] in par: # the string start with a closed par\n",
    "                return False\n",
    "            elif s[i] not in par: # is open\n",
    "                stack.append(s[i])\n",
    "            elif s[i] in par: # is closed and stack is not empty\n",
    "                if stack[-1] != par[s[i]]:\n",
    "                    return False\n",
    "                stack.pop()\n",
    "                \n",
    "        return True if not stack else False"
   ]
  },
  {
   "cell_type": "markdown",
   "id": "9af2301c",
   "metadata": {},
   "source": [
    "### Daily Temperatures\n",
    "https://leetcode.com/problems/daily-temperatures/"
   ]
  },
  {
   "cell_type": "code",
   "execution_count": null,
   "id": "4248f4d3",
   "metadata": {},
   "outputs": [],
   "source": [
    "class Solution:\n",
    "    def dailyTemperatures(self, temp: List[int]) -> List[int]:\n",
    "        if len(temp) == 1: return [0]\n",
    "        stack = []\n",
    "        out = [0 for _ in range(len(temp))]\n",
    "        for i in range(len(temp)):\n",
    "            if not stack or temp[i] <= stack[-1][0]:\n",
    "                stack.append([temp[i], i])\n",
    "            while stack and temp[i] > stack[-1][0]:\n",
    "                popped, index = stack.pop()\n",
    "                out[index] = i-index\n",
    "            stack.append([temp[i], i])\n",
    "        return out"
   ]
  },
  {
   "cell_type": "markdown",
   "id": "77d15859",
   "metadata": {},
   "source": [
    "### Evaluate Reverse Polish Notation\n",
    "https://leetcode.com/problems/evaluate-reverse-polish-notation/"
   ]
  },
  {
   "cell_type": "code",
   "execution_count": null,
   "id": "747f589c",
   "metadata": {},
   "outputs": [],
   "source": [
    "class Solution:\n",
    "    def evalRPN(self, tokens: List[str]) -> int:\n",
    "        stack = []\n",
    "        for i in range(len(tokens)):\n",
    "            if tokens[i].isnumeric() or (tokens[i][0] == '-' and len(tokens[i]) > 1):\n",
    "                stack.append(tokens[i])\n",
    "            else:\n",
    "                sec = stack.pop()\n",
    "                first = stack.pop()\n",
    "                if tokens[i] == '+':\n",
    "                    stack.append(str(int(first) + int(sec)))\n",
    "                elif tokens[i] == '/':\n",
    "                    stack.append(int(int(first) / int(sec)))\n",
    "                elif tokens[i] == '*':\n",
    "                    stack.append(str(int(first) * int(sec)))\n",
    "                else:\n",
    "                    stack.append(str(int(first) - int(sec)))\n",
    "        return stack[-1]\n",
    "                "
   ]
  },
  {
   "cell_type": "code",
   "execution_count": null,
   "id": "0cf21272",
   "metadata": {},
   "outputs": [],
   "source": []
  }
 ],
 "metadata": {
  "kernelspec": {
   "display_name": "Python 3",
   "language": "python",
   "name": "python3"
  },
  "language_info": {
   "codemirror_mode": {
    "name": "ipython",
    "version": 3
   },
   "file_extension": ".py",
   "mimetype": "text/x-python",
   "name": "python",
   "nbconvert_exporter": "python",
   "pygments_lexer": "ipython3",
   "version": "3.8.8"
  }
 },
 "nbformat": 4,
 "nbformat_minor": 5
}
