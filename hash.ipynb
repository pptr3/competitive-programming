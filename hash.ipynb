{
 "cells": [
  {
   "cell_type": "code",
   "execution_count": 4,
   "id": "bda64825",
   "metadata": {},
   "outputs": [
    {
     "data": {
      "text/plain": [
       "0"
      ]
     },
     "execution_count": 4,
     "metadata": {},
     "output_type": "execute_result"
    }
   ],
   "source": [
    "12 ^ 12"
   ]
  },
  {
   "cell_type": "markdown",
   "id": "5e77ff67",
   "metadata": {},
   "source": [
    "- two pointers (from the middle, begin-end, from 0,0 or 0,1) and faster pointers\n",
    "- sorting\n",
    "- backwards\n",
    "- queue, stack\n",
    "- dfs / bfs\n",
    "- set\n",
    "- hashmap for counting and True and False for \"seen\" values"
   ]
  },
  {
   "cell_type": "markdown",
   "id": "01a6342d",
   "metadata": {},
   "source": [
    "### Intersection of Two Arrays\n",
    "\n",
    "https://leetcode.com/problems/intersection-of-two-arrays/\n",
    "    \n",
    "Edit: solve the problem considering the two arrays are sorted in linear time and constant space complexity.\n",
    "Sol: two pointers."
   ]
  },
  {
   "cell_type": "code",
   "execution_count": 1,
   "id": "cf8dac3b",
   "metadata": {},
   "outputs": [],
   "source": [
    "def intersection(nums1, nums2):\n",
    "    nums1.sort()\n",
    "    nums2.sort()\n",
    "    l1, l2 = 0, 0\n",
    "    last_val = None\n",
    "    out = []\n",
    "    while True:\n",
    "        while l1 < len(nums1) and l2 < len(nums2) and nums1[l1] > nums2[l2]:\n",
    "            l2 += 1\n",
    "        while l1 < len(nums1) and l2 < len(nums2) and nums1[l1] < nums2[l2]:\n",
    "            l1 += 1\n",
    "        if l1 >= len(nums1) or l2 >= len(nums2):\n",
    "            break\n",
    "        if nums1[l1] == nums2[l2]:\n",
    "            if last_val != nums1[l1]:\n",
    "                last_val = nums1[l1]\n",
    "                out.append(nums1[l1])\n",
    "            l1 += 1\n",
    "            l2 += 1\n",
    "\n",
    "    return out"
   ]
  },
  {
   "cell_type": "code",
   "execution_count": null,
   "id": "33f979cb",
   "metadata": {},
   "outputs": [],
   "source": []
  }
 ],
 "metadata": {
  "kernelspec": {
   "display_name": "Python 3",
   "language": "python",
   "name": "python3"
  },
  "language_info": {
   "codemirror_mode": {
    "name": "ipython",
    "version": 3
   },
   "file_extension": ".py",
   "mimetype": "text/x-python",
   "name": "python",
   "nbconvert_exporter": "python",
   "pygments_lexer": "ipython3",
   "version": "3.8.8"
  }
 },
 "nbformat": 4,
 "nbformat_minor": 5
}
