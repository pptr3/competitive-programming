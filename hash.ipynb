{
 "cells": [
  {
   "cell_type": "markdown",
   "id": "01a6342d",
   "metadata": {},
   "source": [
    "### Intersection of Two Arrays\n",
    "\n",
    "https://leetcode.com/problems/intersection-of-two-arrays/\n",
    "    \n",
    "Edit: solve the problem considering the two arrays are sorted in linear time and constant space complexity.\n",
    "Sol: two pointers."
   ]
  },
  {
   "cell_type": "code",
   "execution_count": 1,
   "id": "cf8dac3b",
   "metadata": {},
   "outputs": [],
   "source": [
    "def intersection(nums1, nums2):\n",
    "    nums1.sort()\n",
    "    nums2.sort()\n",
    "    l1, l2 = 0, 0\n",
    "    last_val = None\n",
    "    out = []\n",
    "    while True:\n",
    "        while l1 < len(nums1) and l2 < len(nums2) and nums1[l1] > nums2[l2]:\n",
    "            l2 += 1\n",
    "        while l1 < len(nums1) and l2 < len(nums2) and nums1[l1] < nums2[l2]:\n",
    "            l1 += 1\n",
    "        if l1 >= len(nums1) or l2 >= len(nums2):\n",
    "            break\n",
    "        if nums1[l1] == nums2[l2]:\n",
    "            if last_val != nums1[l1]:\n",
    "                last_val = nums1[l1]\n",
    "                out.append(nums1[l1])\n",
    "            l1 += 1\n",
    "            l2 += 1\n",
    "\n",
    "    return out"
   ]
  },
  {
   "cell_type": "markdown",
   "id": "811a5ef0",
   "metadata": {},
   "source": [
    "### Logger Rate Limiter\n",
    "https://leetcode.com/problems/logger-rate-limiter/"
   ]
  },
  {
   "cell_type": "code",
   "execution_count": null,
   "id": "36a4c29e",
   "metadata": {},
   "outputs": [],
   "source": [
    "class Logger:\n",
    "\n",
    "    def __init__(self):\n",
    "        self.logs = {}\n",
    "        \n",
    "\n",
    "    def shouldPrintMessage(self, timestamp: int, message: str) -> bool:\n",
    "        if message not in self.logs:\n",
    "            self.logs[message] = timestamp\n",
    "            return True\n",
    "        else:\n",
    "            if timestamp - self.logs[message] < 10:\n",
    "                return False\n",
    "            else:\n",
    "                self.logs[message] = timestamp\n",
    "                return True\n",
    "                \n",
    "        \n",
    "\n",
    "\n",
    "# Your Logger object will be instantiated and called as such:\n",
    "# obj = Logger()\n",
    "# param_1 = obj.shouldPrintMessage(timestamp,message)"
   ]
  }
 ],
 "metadata": {
  "kernelspec": {
   "display_name": "Python 3",
   "language": "python",
   "name": "python3"
  },
  "language_info": {
   "codemirror_mode": {
    "name": "ipython",
    "version": 3
   },
   "file_extension": ".py",
   "mimetype": "text/x-python",
   "name": "python",
   "nbconvert_exporter": "python",
   "pygments_lexer": "ipython3",
   "version": "3.8.8"
  }
 },
 "nbformat": 4,
 "nbformat_minor": 5
}
