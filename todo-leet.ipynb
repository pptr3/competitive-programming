{
 "cells": [
  {
   "cell_type": "markdown",
   "id": "fc0cbf24",
   "metadata": {},
   "source": [
    "\"So these are the two approaches I have considered, neither of them seems sound because we still end up at this obstacle that I cannot seem to get passed. Are you following my train of thought? Is what I am sayig making sense?\"\n",
    "\n",
    "\"So if we cannot use a binary search tree, we could just sort the array, but if we do that, then the solution becomes trivial which means that we trivially find an nlogn time complexity solution because of the sorting which menas that, I think, there must be a linear time solution that we come up with something a little bit more clever. Am I completely off track here or is what I am saying logically sound?"
   ]
  },
  {
   "cell_type": "code",
   "execution_count": null,
   "id": "eaae5470",
   "metadata": {},
   "outputs": [],
   "source": []
  }
 ],
 "metadata": {
  "kernelspec": {
   "display_name": "Python 3",
   "language": "python",
   "name": "python3"
  },
  "language_info": {
   "codemirror_mode": {
    "name": "ipython",
    "version": 3
   },
   "file_extension": ".py",
   "mimetype": "text/x-python",
   "name": "python",
   "nbconvert_exporter": "python",
   "pygments_lexer": "ipython3",
   "version": "3.8.8"
  }
 },
 "nbformat": 4,
 "nbformat_minor": 5
}
