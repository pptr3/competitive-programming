{
 "cells": [
  {
   "cell_type": "code",
   "execution_count": null,
   "id": "c7dae3d3",
   "metadata": {},
   "outputs": [],
   "source": [
    "class ListNode:\n",
    "     def __init__(self, val=0, nextt=None):\n",
    "            self.val = val\n",
    "            self.next = nextt    "
   ]
  },
  {
   "cell_type": "code",
   "execution_count": null,
   "id": "345c69a7",
   "metadata": {},
   "outputs": [],
   "source": [
    "h = ListNode(val=1, nextt=ListNode(val=2, nextt=ListNode(val=3, nextt=ListNode(val=4, nextt=None))))"
   ]
  },
  {
   "cell_type": "markdown",
   "id": "d8cad4cd",
   "metadata": {},
   "source": [
    "### Add Two Numbers\n",
    "\n",
    "https://leetcode.com/problems/add-two-numbers/submissions/\n",
    "   "
   ]
  },
  {
   "cell_type": "code",
   "execution_count": null,
   "id": "bfdf6f3b",
   "metadata": {},
   "outputs": [],
   "source": [
    "class ListNode:\n",
    "    def __init__(self, val=0, next=None):\n",
    "        self.val = val\n",
    "        self.next = next\n",
    "        \n",
    "def addTwoNumbers(l1, l2):\n",
    "    out = ret = ListNode()\n",
    "    carry = 0\n",
    "    while l1 or l2:\n",
    "        if l1 and l2:\n",
    "            carry, res = divmod(l1.val+l2.val+carry, 10)\n",
    "            out.next = ListNode(val=res)\n",
    "            out = out.next\n",
    "            l1 = l1.next\n",
    "            l2 = l2.next\n",
    "        elif l1 and not l2:\n",
    "            carry, res = divmod(l1.val+carry, 10)\n",
    "            out.next = ListNode(val=res)\n",
    "            out = out.next\n",
    "            l1 = l1.next\n",
    "        else:\n",
    "            carry, res = divmod(l2.val+carry, 10)\n",
    "            out.next = ListNode(val=res)\n",
    "            out = out.next\n",
    "            l2 = l2.next\n",
    "    if carry :\n",
    "        out.next = ListNode(val=1)\n",
    "    return ret.next"
   ]
  },
  {
   "cell_type": "markdown",
   "id": "6f3ad15c",
   "metadata": {},
   "source": [
    "### Merge two / k sorted linked lists"
   ]
  },
  {
   "cell_type": "code",
   "execution_count": null,
   "id": "c7f53e3a",
   "metadata": {},
   "outputs": [],
   "source": [
    "def mergeTwoLists(self, l1: Optional[ListNode], l2: Optional[ListNode]) -> Optional[ListNode]:\n",
    "    if not l1 and not l2:\n",
    "        return None\n",
    "    if not l1:\n",
    "        return l2\n",
    "    if not l2:\n",
    "        return l1\n",
    "    lists = [l1, l2]\n",
    "    heap = [[l.val, idx] for idx, l in enumerate(lists) if l]\n",
    "\n",
    "    heapq.heapify(heap)\n",
    "    out = ret = ListNode()\n",
    "    while len(heap):\n",
    "        min_val, idx = heapq.heappop(heap)\n",
    "        out.next = ListNode(min_val)\n",
    "        out = out.next\n",
    "\n",
    "        if lists[idx].next:\n",
    "            lists[idx] = lists[idx].next\n",
    "            heapq.heappush(heap, [lists[idx].val, idx])\n",
    "    return ret.next"
   ]
  },
  {
   "cell_type": "markdown",
   "id": "bebaeeab",
   "metadata": {},
   "source": [
    "### Swap Nodes in Pairs\n",
    "https://leetcode.com/problems/swap-nodes-in-pairs/"
   ]
  },
  {
   "cell_type": "code",
   "execution_count": null,
   "id": "85abb13c",
   "metadata": {},
   "outputs": [],
   "source": [
    "# Solution with recursion but we save the pointers before (basically the same as before, but here we fisically save them)\n",
    "def swapPairs(self, head: Optional[ListNode]) -> Optional[ListNode]:\n",
    "    if not head or not head.next:\n",
    "        return head\n",
    "    first = head\n",
    "    second = head.next\n",
    "    ret = self.swapPairs(first.next.next)\n",
    "    first.next = ret\n",
    "    second.next = first\n",
    "    return second"
   ]
  },
  {
   "cell_type": "code",
   "execution_count": null,
   "id": "f196dcc9",
   "metadata": {},
   "outputs": [],
   "source": [
    "# Iterative\n",
    "def swapPairs(self, head: Optional[ListNode]) -> Optional[ListNode]:\n",
    "    if not head or not head.next:\n",
    "        return head\n",
    "    prev = ListNode(0, head)\n",
    "    savesec = head.next\n",
    "    first, second = head, head.next\n",
    "    nextPair = first\n",
    "    while nextPair and nextPair.next:\n",
    "        nextPair = first.next.next\n",
    "        first.next = second.next\n",
    "        second.next = first\n",
    "        prev.next = second\n",
    "        prev = first\n",
    "        if nextPair:\n",
    "            first, second = nextPair, nextPair.next\n",
    "        else:\n",
    "            break\n",
    "    return savesec\n",
    "# other iterative: just look at the pointers and keep a prev to fix the inbetween nodes connections\n",
    "def swapPairs(self, head: Optional[ListNode]) -> Optional[ListNode]:\n",
    "        if not head: return None\n",
    "        if not head.next: return head\n",
    "        prev = ListNode(0, head)\n",
    "        toreturn = head.next\n",
    "        first = head\n",
    "        while first and first.next:\n",
    "            save_next = first.next\n",
    "            next_pair = first.next.next\n",
    "            first.next = first.next.next\n",
    "            save_next.next = first\n",
    "            prev.next = save_next\n",
    "            prev = first\n",
    "            first = next_pair\n",
    "        return toreturn"
   ]
  },
  {
   "cell_type": "markdown",
   "id": "943c6d89",
   "metadata": {},
   "source": [
    "### Linked List Cycle\n",
    "https://leetcode.com/problems/linked-list-cycle/"
   ]
  },
  {
   "cell_type": "code",
   "execution_count": null,
   "id": "c86af6bd",
   "metadata": {},
   "outputs": [],
   "source": [
    "def hasCycle(self, head: Optional[ListNode]) -> bool:\n",
    "        if not head: return False\n",
    "        slow, fast = head, head.next\n",
    "        while fast and fast.next:\n",
    "            if slow == fast:\n",
    "                return True\n",
    "            slow = slow.next\n",
    "            fast = fast.next.next\n",
    "        return False"
   ]
  },
  {
   "cell_type": "markdown",
   "id": "671575d7",
   "metadata": {},
   "source": [
    "### Reverse Linked List\n",
    "https://leetcode.com/problems/reverse-linked-list/"
   ]
  },
  {
   "cell_type": "code",
   "execution_count": null,
   "id": "8d5c01fc",
   "metadata": {},
   "outputs": [],
   "source": [
    "def reverseList(self, head: Optional[ListNode]) -> Optional[ListNode]:\n",
    "    if not head: return None\n",
    "    def recurse(head):\n",
    "        if not head.next:\n",
    "            return head\n",
    "        last_elem = recurse(head.next)\n",
    "        head.next.next = head \n",
    "        return last_elem\n",
    "\n",
    "    rev = recurse(head)\n",
    "    head.next = None\n",
    "    return rev\n",
    "\n",
    "def reverseList(self, head: Optional[ListNode]) -> Optional[ListNode]:\n",
    "    if not head: return None\n",
    "    prev = None\n",
    "    while head:\n",
    "        save = head.next\n",
    "        head.next = prev\n",
    "        prev = head\n",
    "        head = save\n",
    "    return prev"
   ]
  },
  {
   "cell_type": "markdown",
   "id": "96857e46",
   "metadata": {},
   "source": [
    "### Odd Even Linked List\n",
    "https://leetcode.com/problems/odd-even-linked-list/"
   ]
  },
  {
   "cell_type": "code",
   "execution_count": null,
   "id": "555a1c09",
   "metadata": {},
   "outputs": [],
   "source": [
    "class Solution:\n",
    "    def oddEvenList(self, head: Optional[ListNode]) -> Optional[ListNode]:\n",
    "        if not head: return None\n",
    "        if not head.next or not head.next.next: return head\n",
    "        oddeven = 1\n",
    "        second_red = head.next\n",
    "        left = head\n",
    "        while True:\n",
    "            if oddeven % 2 == 0:\n",
    "                if not left.next:\n",
    "                    break\n",
    "                save_next = left.next\n",
    "                left.next = left.next.next\n",
    "                left = save_next\n",
    "            else:\n",
    "                if not left.next or not left.next.next:\n",
    "                    left.next = second_red\n",
    "                    break\n",
    "                save_next = left.next\n",
    "                left.next = left.next.next\n",
    "                left = save_next\n",
    "            oddeven += 1\n",
    "        return head\n",
    "            "
   ]
  },
  {
   "cell_type": "markdown",
   "id": "50935f71",
   "metadata": {},
   "source": [
    "### Palindrome Linked List\n",
    "https://leetcode.com/problems/palindrome-linked-list/"
   ]
  },
  {
   "cell_type": "code",
   "execution_count": null,
   "id": "3f208186",
   "metadata": {},
   "outputs": [],
   "source": [
    "# Definition for singly-linked list.\n",
    "# class ListNode:\n",
    "#     def __init__(self, val=0, next=None):\n",
    "#         self.val = val\n",
    "#         self.next = next\n",
    "class Solution:\n",
    "    def isPalindrome(self, head: Optional[ListNode]) -> bool:\n",
    "        if not head.next: return True\n",
    "        l1 = []\n",
    "        h1 = head\n",
    "        while h1:\n",
    "            l1.append(h1.val)\n",
    "            h1 = h1.next\n",
    "        return l1 == l1[::-1]\n",
    "    \n",
    "    \n",
    "def isPalindrome(self, head: Optional[ListNode]) -> bool:\n",
    "    if not head.next: return True\n",
    "    slow, fast = head, head\n",
    "\n",
    "    def reverse_and_verify(head):\n",
    "        mid, prev, curr = slow, slow, slow.next\n",
    "        prev.next = None\n",
    "        while curr: # reverse second half of linked list\n",
    "            save_next = curr.next\n",
    "            curr.next = prev\n",
    "            prev = curr\n",
    "            curr = save_next\n",
    "        # prev has the last elem\n",
    "        while head != mid: # verify if the linked list is palindrome. The ll now is like: 1 -> 2 ->3<- 2 <- 1\n",
    "            if head.val != prev.val: return False\n",
    "            head = head.next\n",
    "            prev = prev.next\n",
    "        return True if head.val == prev.val else False\n",
    "    # To solve this problem by reversing half of the llist and then checking it, we need to find the mid point of the llist.\n",
    "    # We can do this by using slow and fast pointer. The slow pointer will find the mid. \n",
    "    # Pay attention to take into account even and odd numbers of nodes!\n",
    "    while True:\n",
    "        if not fast.next: # odd\n",
    "            return reverse_and_verify(head)\n",
    "        elif not fast.next.next: # even\n",
    "            fast = fast.next\n",
    "            return reverse_and_verify(head)\n",
    "        else:\n",
    "            fast = fast.next.next\n",
    "            slow = slow.next"
   ]
  },
  {
   "cell_type": "markdown",
   "id": "5441e73d",
   "metadata": {},
   "source": [
    "### Linked List Cycle II\n",
    "https://leetcode.com/problems/linked-list-cycle-ii/"
   ]
  },
  {
   "cell_type": "code",
   "execution_count": null,
   "id": "ead17109",
   "metadata": {},
   "outputs": [],
   "source": [
    "def detectCycle(self, head: Optional[ListNode]) -> Optional[ListNode]:\n",
    "        if not head or not head.next: return None\n",
    "        slow, fast = head, head\n",
    "        while fast and fast.next:\n",
    "            slow = slow.next\n",
    "            fast = fast.next.next\n",
    "            if slow == fast:\n",
    "                # cycle detected\n",
    "                ptr = head\n",
    "                while ptr != slow:\n",
    "                    ptr = ptr.next\n",
    "                    slow = slow.next\n",
    "                return ptr\n",
    "        return None"
   ]
  },
  {
   "cell_type": "code",
   "execution_count": 7,
   "id": "ff4f6c2f",
   "metadata": {},
   "outputs": [
    {
     "data": {
      "text/plain": [
       "(1, 4)"
      ]
     },
     "execution_count": 7,
     "metadata": {},
     "output_type": "execute_result"
    }
   ],
   "source": [
    "divmod(12+2, 10)"
   ]
  },
  {
   "cell_type": "code",
   "execution_count": null,
   "id": "f04ae3b2",
   "metadata": {},
   "outputs": [],
   "source": []
  }
 ],
 "metadata": {
  "kernelspec": {
   "display_name": "Python 3",
   "language": "python",
   "name": "python3"
  },
  "language_info": {
   "codemirror_mode": {
    "name": "ipython",
    "version": 3
   },
   "file_extension": ".py",
   "mimetype": "text/x-python",
   "name": "python",
   "nbconvert_exporter": "python",
   "pygments_lexer": "ipython3",
   "version": "3.8.8"
  }
 },
 "nbformat": 4,
 "nbformat_minor": 5
}
